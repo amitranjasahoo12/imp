{
 "cells": [
  {
   "cell_type": "code",
   "execution_count": 1,
   "id": "5153bbc2",
   "metadata": {},
   "outputs": [],
   "source": [
    "import pandas as pd\n",
    "import matplotlib.pyplot as plt\n",
    "import seaborn as sns\n",
    "import numpy as np\n",
    "%matplotlib inline"
   ]
  },
  {
   "cell_type": "code",
   "execution_count": 144,
   "id": "8b3406aa",
   "metadata": {},
   "outputs": [],
   "source": [
    "nums = {'num': [ 10,20,50,40,80,100,9,95,100,50,500,120,15,160,200,300,250,240,300,290,65,5000]\n",
    "        \n",
    "       }"
   ]
  },
  {
   "cell_type": "code",
   "execution_count": 145,
   "id": "f94401f5",
   "metadata": {},
   "outputs": [
    {
     "data": {
      "text/html": [
       "<div>\n",
       "<style scoped>\n",
       "    .dataframe tbody tr th:only-of-type {\n",
       "        vertical-align: middle;\n",
       "    }\n",
       "\n",
       "    .dataframe tbody tr th {\n",
       "        vertical-align: top;\n",
       "    }\n",
       "\n",
       "    .dataframe thead th {\n",
       "        text-align: right;\n",
       "    }\n",
       "</style>\n",
       "<table border=\"1\" class=\"dataframe\">\n",
       "  <thead>\n",
       "    <tr style=\"text-align: right;\">\n",
       "      <th></th>\n",
       "      <th>num</th>\n",
       "    </tr>\n",
       "  </thead>\n",
       "  <tbody>\n",
       "    <tr>\n",
       "      <th>0</th>\n",
       "      <td>10</td>\n",
       "    </tr>\n",
       "    <tr>\n",
       "      <th>1</th>\n",
       "      <td>20</td>\n",
       "    </tr>\n",
       "    <tr>\n",
       "      <th>2</th>\n",
       "      <td>50</td>\n",
       "    </tr>\n",
       "    <tr>\n",
       "      <th>3</th>\n",
       "      <td>40</td>\n",
       "    </tr>\n",
       "    <tr>\n",
       "      <th>4</th>\n",
       "      <td>80</td>\n",
       "    </tr>\n",
       "    <tr>\n",
       "      <th>5</th>\n",
       "      <td>100</td>\n",
       "    </tr>\n",
       "    <tr>\n",
       "      <th>6</th>\n",
       "      <td>9</td>\n",
       "    </tr>\n",
       "    <tr>\n",
       "      <th>7</th>\n",
       "      <td>95</td>\n",
       "    </tr>\n",
       "    <tr>\n",
       "      <th>8</th>\n",
       "      <td>100</td>\n",
       "    </tr>\n",
       "    <tr>\n",
       "      <th>9</th>\n",
       "      <td>50</td>\n",
       "    </tr>\n",
       "    <tr>\n",
       "      <th>10</th>\n",
       "      <td>500</td>\n",
       "    </tr>\n",
       "    <tr>\n",
       "      <th>11</th>\n",
       "      <td>120</td>\n",
       "    </tr>\n",
       "    <tr>\n",
       "      <th>12</th>\n",
       "      <td>15</td>\n",
       "    </tr>\n",
       "    <tr>\n",
       "      <th>13</th>\n",
       "      <td>160</td>\n",
       "    </tr>\n",
       "    <tr>\n",
       "      <th>14</th>\n",
       "      <td>200</td>\n",
       "    </tr>\n",
       "    <tr>\n",
       "      <th>15</th>\n",
       "      <td>300</td>\n",
       "    </tr>\n",
       "    <tr>\n",
       "      <th>16</th>\n",
       "      <td>250</td>\n",
       "    </tr>\n",
       "    <tr>\n",
       "      <th>17</th>\n",
       "      <td>240</td>\n",
       "    </tr>\n",
       "    <tr>\n",
       "      <th>18</th>\n",
       "      <td>300</td>\n",
       "    </tr>\n",
       "    <tr>\n",
       "      <th>19</th>\n",
       "      <td>290</td>\n",
       "    </tr>\n",
       "    <tr>\n",
       "      <th>20</th>\n",
       "      <td>65</td>\n",
       "    </tr>\n",
       "    <tr>\n",
       "      <th>21</th>\n",
       "      <td>5000</td>\n",
       "    </tr>\n",
       "  </tbody>\n",
       "</table>\n",
       "</div>"
      ],
      "text/plain": [
       "     num\n",
       "0     10\n",
       "1     20\n",
       "2     50\n",
       "3     40\n",
       "4     80\n",
       "5    100\n",
       "6      9\n",
       "7     95\n",
       "8    100\n",
       "9     50\n",
       "10   500\n",
       "11   120\n",
       "12    15\n",
       "13   160\n",
       "14   200\n",
       "15   300\n",
       "16   250\n",
       "17   240\n",
       "18   300\n",
       "19   290\n",
       "20    65\n",
       "21  5000"
      ]
     },
     "execution_count": 145,
     "metadata": {},
     "output_type": "execute_result"
    }
   ],
   "source": [
    "df = pd.DataFrame(nums)   \n",
    "df"
   ]
  },
  {
   "cell_type": "code",
   "execution_count": 146,
   "id": "dcac6f88",
   "metadata": {},
   "outputs": [],
   "source": [
    "def Box_plot(df):\n",
    "    plt.figure(figsize=(10,4))\n",
    "    plt.title(\"Box plot\")\n",
    "    sns.boxplot(df)\n",
    "    plt.show()\n",
    "    "
   ]
  },
  {
   "cell_type": "code",
   "execution_count": 147,
   "id": "bbd0ba13",
   "metadata": {},
   "outputs": [
    {
     "name": "stderr",
     "output_type": "stream",
     "text": [
      "C:\\Users\\sony\\anaconda3\\lib\\site-packages\\seaborn\\_decorators.py:36: FutureWarning: Pass the following variable as a keyword arg: x. From version 0.12, the only valid positional argument will be `data`, and passing other arguments without an explicit keyword will result in an error or misinterpretation.\n",
      "  warnings.warn(\n"
     ]
    },
    {
     "data": {
      "image/png": "[encoded data removed]",
      "text/plain": [
       "<Figure size 720x288 with 1 Axes>"
      ]
     },
     "metadata": {
      "needs_background": "light"
     },
     "output_type": "display_data"
    }
   ],
   "source": [
    "Box_plot(df[\"num\"])"
   ]
  },
  {
   "cell_type": "code",
   "execution_count": 148,
   "id": "14d6640e",
   "metadata": {},
   "outputs": [
    {
     "name": "stdout",
     "output_type": "stream",
     "text": [
      "columns in num\n",
      "Quantile-1 (Q1):  50.0 \n",
      "\n",
      "Quantile-2-median (Q2):  100.0 \n",
      "\n",
      "Quantile-3 (Q3):  247.5 \n",
      "\n",
      "Inter Quantile Range (IQR):  197.5 \n",
      "\n",
      "lowerBound :  -246.25 \n",
      "\n",
      "upperBound :  543.75 \n",
      "\n",
      "Detection Success \n",
      "\n",
      "No_outliers :  [9, 10, 15, 20, 40, 50, 50, 65, 80, 95, 100, 100, 120, 160, 200, 240, 250, 290, 300, 300, 500] \n",
      "\n",
      "lower_fence_otlier :  [] \n",
      "\n",
      "upper_fence_otlier :  [5000] \n",
      "\n",
      "Length lower_fence_otlier :  0 \n",
      "\n",
      "Length upper_fence_otlier :  1 \n",
      "\n",
      "Length Outliers :  1 \n",
      "\n"
     ]
    }
   ],
   "source": [
    "def outlier_data(df):\n",
    "    for i in df.columns:\n",
    "        print(\"columns in\",i)\n",
    "        for j in df[i]:\n",
    "            if (((df[i].dtype)=='float64') | ((df[i].dtype)=='int64')):\n",
    "                \n",
    "                Q1 = np.quantile(df[i], .25) \n",
    "                Q3 = np.quantile(df[i], .75) \n",
    "                Q2 = np.quantile(df[i], .50)\n",
    "                \n",
    "                IQR = Q3-Q1\n",
    "                lower = Q1 -(1.5 * IQR) \n",
    "                upper = Q3 +(1.5 * IQR)\n",
    "                \n",
    "                no_outliers = df[i][(Q1 - 1.5*IQR < df[i]) &  (df[i] < Q3 + 1.5*IQR)]\n",
    "    \n",
    "                outliers = df[i][(Q1 - 1.5*IQR > df[i]) |  (df[i] > Q3 + 1.5*IQR)] # or\n",
    "\n",
    "                lower_fence_otlier=df[i] [(Q1 - 1.5*IQR > df[i])]\n",
    "\n",
    "                upper_fence_otlier=df[i] [(df[i] > Q3 + 1.5*IQR)]\n",
    "                \n",
    "                \n",
    "            \n",
    "            \n",
    "            if j > upper or j < lower:\n",
    "                df_new=df[i].replace(j, np.median(df[i]))\n",
    "                \n",
    "            else:\n",
    "                df[i]=df[i]\n",
    "                \n",
    "                \n",
    "                \n",
    "    print(\"Quantile-1 (Q1): \",Q1, \"\\n\")\n",
    "    print(\"Quantile-2-median (Q2): \",Q2, \"\\n\")\n",
    "    print(\"Quantile-3 (Q3): \",Q3, \"\\n\")\n",
    "    print(\"Inter Quantile Range (IQR): \",IQR, \"\\n\")\n",
    "    \n",
    "    print('lowerBound : ',lower,\"\\n\")\n",
    "    print('upperBound : ',upper,\"\\n\")\n",
    "    \n",
    "    \n",
    "    \n",
    "    print('Detection Success',\"\\n\")\n",
    "    \n",
    "    print('No_outliers : ',sorted(no_outliers),\"\\n\")\n",
    "    \n",
    "    \n",
    "    \n",
    "    print('lower_fence_otlier : ',sorted(lower_fence_otlier),\"\\n\")\n",
    "    \n",
    "    print('upper_fence_otlier : ',sorted(upper_fence_otlier),\"\\n\")\n",
    "    \n",
    "    \n",
    "    print('Length lower_fence_otlier : ',len(lower_fence_otlier),\"\\n\")\n",
    "    \n",
    "    print('Length upper_fence_otlier : ',len(upper_fence_otlier),\"\\n\")\n",
    "    \n",
    "    #print('Outliers : ',outliers,\"\\n\")\n",
    "    \n",
    "    print('Length Outliers : ',len(outliers),\"\\n\")\n",
    "    \n",
    "    \n",
    "    return df_new #,outliers            \n",
    "        \n",
    "    \n",
    "\n",
    "final_df=outlier_data(df)"
   ]
  },
  {
   "cell_type": "code",
   "execution_count": 149,
   "id": "74ed9f21",
   "metadata": {},
   "outputs": [
    {
     "data": {
      "text/plain": [
       "0      10\n",
       "1      20\n",
       "2      50\n",
       "3      40\n",
       "4      80\n",
       "5     100\n",
       "6       9\n",
       "7      95\n",
       "8     100\n",
       "9      50\n",
       "10    500\n",
       "11    120\n",
       "12     15\n",
       "13    160\n",
       "14    200\n",
       "15    300\n",
       "16    250\n",
       "17    240\n",
       "18    300\n",
       "19    290\n",
       "20     65\n",
       "21    100\n",
       "Name: num, dtype: int64"
      ]
     },
     "execution_count": 149,
     "metadata": {},
     "output_type": "execute_result"
    }
   ],
   "source": [
    "final_df"
   ]
  },
  {
   "cell_type": "code",
   "execution_count": 150,
   "id": "1c8bf0f6",
   "metadata": {},
   "outputs": [
    {
     "data": {
      "text/html": [
       "<div>\n",
       "<style scoped>\n",
       "    .dataframe tbody tr th:only-of-type {\n",
       "        vertical-align: middle;\n",
       "    }\n",
       "\n",
       "    .dataframe tbody tr th {\n",
       "        vertical-align: top;\n",
       "    }\n",
       "\n",
       "    .dataframe thead th {\n",
       "        text-align: right;\n",
       "    }\n",
       "</style>\n",
       "<table border=\"1\" class=\"dataframe\">\n",
       "  <thead>\n",
       "    <tr style=\"text-align: right;\">\n",
       "      <th></th>\n",
       "      <th>num</th>\n",
       "    </tr>\n",
       "  </thead>\n",
       "  <tbody>\n",
       "    <tr>\n",
       "      <th>0</th>\n",
       "      <td>10</td>\n",
       "    </tr>\n",
       "    <tr>\n",
       "      <th>1</th>\n",
       "      <td>20</td>\n",
       "    </tr>\n",
       "    <tr>\n",
       "      <th>2</th>\n",
       "      <td>50</td>\n",
       "    </tr>\n",
       "    <tr>\n",
       "      <th>3</th>\n",
       "      <td>40</td>\n",
       "    </tr>\n",
       "    <tr>\n",
       "      <th>4</th>\n",
       "      <td>80</td>\n",
       "    </tr>\n",
       "    <tr>\n",
       "      <th>5</th>\n",
       "      <td>100</td>\n",
       "    </tr>\n",
       "    <tr>\n",
       "      <th>6</th>\n",
       "      <td>9</td>\n",
       "    </tr>\n",
       "    <tr>\n",
       "      <th>7</th>\n",
       "      <td>95</td>\n",
       "    </tr>\n",
       "    <tr>\n",
       "      <th>8</th>\n",
       "      <td>100</td>\n",
       "    </tr>\n",
       "    <tr>\n",
       "      <th>9</th>\n",
       "      <td>50</td>\n",
       "    </tr>\n",
       "    <tr>\n",
       "      <th>10</th>\n",
       "      <td>500</td>\n",
       "    </tr>\n",
       "    <tr>\n",
       "      <th>11</th>\n",
       "      <td>120</td>\n",
       "    </tr>\n",
       "    <tr>\n",
       "      <th>12</th>\n",
       "      <td>15</td>\n",
       "    </tr>\n",
       "    <tr>\n",
       "      <th>13</th>\n",
       "      <td>160</td>\n",
       "    </tr>\n",
       "    <tr>\n",
       "      <th>14</th>\n",
       "      <td>200</td>\n",
       "    </tr>\n",
       "    <tr>\n",
       "      <th>15</th>\n",
       "      <td>300</td>\n",
       "    </tr>\n",
       "    <tr>\n",
       "      <th>16</th>\n",
       "      <td>250</td>\n",
       "    </tr>\n",
       "    <tr>\n",
       "      <th>17</th>\n",
       "      <td>240</td>\n",
       "    </tr>\n",
       "    <tr>\n",
       "      <th>18</th>\n",
       "      <td>300</td>\n",
       "    </tr>\n",
       "    <tr>\n",
       "      <th>19</th>\n",
       "      <td>290</td>\n",
       "    </tr>\n",
       "    <tr>\n",
       "      <th>20</th>\n",
       "      <td>65</td>\n",
       "    </tr>\n",
       "    <tr>\n",
       "      <th>21</th>\n",
       "      <td>5000</td>\n",
       "    </tr>\n",
       "  </tbody>\n",
       "</table>\n",
       "</div>"
      ],
      "text/plain": [
       "     num\n",
       "0     10\n",
       "1     20\n",
       "2     50\n",
       "3     40\n",
       "4     80\n",
       "5    100\n",
       "6      9\n",
       "7     95\n",
       "8    100\n",
       "9     50\n",
       "10   500\n",
       "11   120\n",
       "12    15\n",
       "13   160\n",
       "14   200\n",
       "15   300\n",
       "16   250\n",
       "17   240\n",
       "18   300\n",
       "19   290\n",
       "20    65\n",
       "21  5000"
      ]
     },
     "execution_count": 150,
     "metadata": {},
     "output_type": "execute_result"
    }
   ],
   "source": [
    "df"
   ]
  },
  {
   "cell_type": "code",
   "execution_count": 151,
   "id": "da7b868c",
   "metadata": {},
   "outputs": [],
   "source": [
    "frames = [df, final_df]"
   ]
  },
  {
   "cell_type": "code",
   "execution_count": 152,
   "id": "02d0be8f",
   "metadata": {},
   "outputs": [],
   "source": [
    "result = pd.concat(frames,axis=1)"
   ]
  },
  {
   "cell_type": "code",
   "execution_count": 153,
   "id": "2d43e538",
   "metadata": {},
   "outputs": [
    {
     "data": {
      "text/html": [
       "<div>\n",
       "<style scoped>\n",
       "    .dataframe tbody tr th:only-of-type {\n",
       "        vertical-align: middle;\n",
       "    }\n",
       "\n",
       "    .dataframe tbody tr th {\n",
       "        vertical-align: top;\n",
       "    }\n",
       "\n",
       "    .dataframe thead th {\n",
       "        text-align: right;\n",
       "    }\n",
       "</style>\n",
       "<table border=\"1\" class=\"dataframe\">\n",
       "  <thead>\n",
       "    <tr style=\"text-align: right;\">\n",
       "      <th></th>\n",
       "      <th>num</th>\n",
       "      <th>num</th>\n",
       "    </tr>\n",
       "  </thead>\n",
       "  <tbody>\n",
       "    <tr>\n",
       "      <th>0</th>\n",
       "      <td>10</td>\n",
       "      <td>10</td>\n",
       "    </tr>\n",
       "    <tr>\n",
       "      <th>1</th>\n",
       "      <td>20</td>\n",
       "      <td>20</td>\n",
       "    </tr>\n",
       "    <tr>\n",
       "      <th>2</th>\n",
       "      <td>50</td>\n",
       "      <td>50</td>\n",
       "    </tr>\n",
       "    <tr>\n",
       "      <th>3</th>\n",
       "      <td>40</td>\n",
       "      <td>40</td>\n",
       "    </tr>\n",
       "    <tr>\n",
       "      <th>4</th>\n",
       "      <td>80</td>\n",
       "      <td>80</td>\n",
       "    </tr>\n",
       "    <tr>\n",
       "      <th>5</th>\n",
       "      <td>100</td>\n",
       "      <td>100</td>\n",
       "    </tr>\n",
       "    <tr>\n",
       "      <th>6</th>\n",
       "      <td>9</td>\n",
       "      <td>9</td>\n",
       "    </tr>\n",
       "    <tr>\n",
       "      <th>7</th>\n",
       "      <td>95</td>\n",
       "      <td>95</td>\n",
       "    </tr>\n",
       "    <tr>\n",
       "      <th>8</th>\n",
       "      <td>100</td>\n",
       "      <td>100</td>\n",
       "    </tr>\n",
       "    <tr>\n",
       "      <th>9</th>\n",
       "      <td>50</td>\n",
       "      <td>50</td>\n",
       "    </tr>\n",
       "    <tr>\n",
       "      <th>10</th>\n",
       "      <td>500</td>\n",
       "      <td>500</td>\n",
       "    </tr>\n",
       "    <tr>\n",
       "      <th>11</th>\n",
       "      <td>120</td>\n",
       "      <td>120</td>\n",
       "    </tr>\n",
       "    <tr>\n",
       "      <th>12</th>\n",
       "      <td>15</td>\n",
       "      <td>15</td>\n",
       "    </tr>\n",
       "    <tr>\n",
       "      <th>13</th>\n",
       "      <td>160</td>\n",
       "      <td>160</td>\n",
       "    </tr>\n",
       "    <tr>\n",
       "      <th>14</th>\n",
       "      <td>200</td>\n",
       "      <td>200</td>\n",
       "    </tr>\n",
       "    <tr>\n",
       "      <th>15</th>\n",
       "      <td>300</td>\n",
       "      <td>300</td>\n",
       "    </tr>\n",
       "    <tr>\n",
       "      <th>16</th>\n",
       "      <td>250</td>\n",
       "      <td>250</td>\n",
       "    </tr>\n",
       "    <tr>\n",
       "      <th>17</th>\n",
       "      <td>240</td>\n",
       "      <td>240</td>\n",
       "    </tr>\n",
       "    <tr>\n",
       "      <th>18</th>\n",
       "      <td>300</td>\n",
       "      <td>300</td>\n",
       "    </tr>\n",
       "    <tr>\n",
       "      <th>19</th>\n",
       "      <td>290</td>\n",
       "      <td>290</td>\n",
       "    </tr>\n",
       "    <tr>\n",
       "      <th>20</th>\n",
       "      <td>65</td>\n",
       "      <td>65</td>\n",
       "    </tr>\n",
       "    <tr>\n",
       "      <th>21</th>\n",
       "      <td>5000</td>\n",
       "      <td>100</td>\n",
       "    </tr>\n",
       "  </tbody>\n",
       "</table>\n",
       "</div>"
      ],
      "text/plain": [
       "     num  num\n",
       "0     10   10\n",
       "1     20   20\n",
       "2     50   50\n",
       "3     40   40\n",
       "4     80   80\n",
       "5    100  100\n",
       "6      9    9\n",
       "7     95   95\n",
       "8    100  100\n",
       "9     50   50\n",
       "10   500  500\n",
       "11   120  120\n",
       "12    15   15\n",
       "13   160  160\n",
       "14   200  200\n",
       "15   300  300\n",
       "16   250  250\n",
       "17   240  240\n",
       "18   300  300\n",
       "19   290  290\n",
       "20    65   65\n",
       "21  5000  100"
      ]
     },
     "execution_count": 153,
     "metadata": {},
     "output_type": "execute_result"
    }
   ],
   "source": [
    "result"
   ]
  },
  {
   "cell_type": "markdown",
   "id": "36eec7cf",
   "metadata": {},
   "source": [
    "## last row 21 row 5000 replace by 100"
   ]
  },
  {
   "cell_type": "code",
   "execution_count": 3,
   "id": "bfb44294",
   "metadata": {},
   "outputs": [
    {
     "ename": "NameError",
     "evalue": "name 'x' is not defined",
     "output_type": "error",
     "traceback": [
      "\u001b[1;31m---------------------------------------------------------------------------\u001b[0m",
      "\u001b[1;31mNameError\u001b[0m                                 Traceback (most recent call last)",
      "\u001b[1;32m~\\AppData\\Local\\Temp/ipykernel_8604/32546335.py\u001b[0m in \u001b[0;36m<module>\u001b[1;34m\u001b[0m\n\u001b[1;32m----> 1\u001b[1;33m \u001b[0mx\u001b[0m\u001b[1;33m\u001b[0m\u001b[1;33m\u001b[0m\u001b[0m\n\u001b[0m",
      "\u001b[1;31mNameError\u001b[0m: name 'x' is not defined"
     ]
    }
   ],
   "source": [
    "x"
   ]
  },
  {
   "cell_type": "code",
   "execution_count": 2,
   "id": "ffcc001f",
   "metadata": {},
   "outputs": [
    {
     "data": {
      "text/plain": [
       "'x'"
      ]
     },
     "execution_count": 2,
     "metadata": {},
     "output_type": "execute_result"
    }
   ],
   "source": [
    "\"x\""
   ]
  },
  {
   "cell_type": "code",
   "execution_count": 4,
   "id": "b4157e12",
   "metadata": {},
   "outputs": [
    {
     "data": {
      "text/plain": [
       "' your name is santosh'"
      ]
     },
     "execution_count": 4,
     "metadata": {},
     "output_type": "execute_result"
    }
   ],
   "source": [
    "\" your name is santosh\""
   ]
  },
  {
   "cell_type": "code",
   "execution_count": 5,
   "id": "5f6b1b31",
   "metadata": {},
   "outputs": [
    {
     "data": {
      "text/plain": [
       "' your name is santosh'"
      ]
     },
     "execution_count": 5,
     "metadata": {},
     "output_type": "execute_result"
    }
   ],
   "source": [
    "\"\"\" your name is santosh\"\"\""
   ]
  },
  {
   "cell_type": "code",
   "execution_count": 6,
   "id": "9bf57004",
   "metadata": {},
   "outputs": [
    {
     "data": {
      "text/plain": [
       "0.3333333333333333"
      ]
     },
     "execution_count": 6,
     "metadata": {},
     "output_type": "execute_result"
    }
   ],
   "source": [
    "1/3"
   ]
  },
  {
   "cell_type": "code",
   "execution_count": 7,
   "id": "133b6f07",
   "metadata": {},
   "outputs": [
    {
     "data": {
      "text/plain": [
       "0"
      ]
     },
     "execution_count": 7,
     "metadata": {},
     "output_type": "execute_result"
    }
   ],
   "source": [
    "1//3"
   ]
  },
  {
   "cell_type": "code",
   "execution_count": 8,
   "id": "aa9881aa",
   "metadata": {},
   "outputs": [
    {
     "data": {
      "text/plain": [
       "2.0"
      ]
     },
     "execution_count": 8,
     "metadata": {},
     "output_type": "execute_result"
    }
   ],
   "source": [
    "4/2"
   ]
  },
  {
   "cell_type": "code",
   "execution_count": 9,
   "id": "36c7c7ea",
   "metadata": {},
   "outputs": [
    {
     "data": {
      "text/plain": [
       "2"
      ]
     },
     "execution_count": 9,
     "metadata": {},
     "output_type": "execute_result"
    }
   ],
   "source": [
    "4//2"
   ]
  },
  {
   "cell_type": "code",
   "execution_count": 10,
   "id": "8cd430d5",
   "metadata": {},
   "outputs": [
    {
     "data": {
      "text/plain": [
       "1.5"
      ]
     },
     "execution_count": 10,
     "metadata": {},
     "output_type": "execute_result"
    }
   ],
   "source": [
    "3/2"
   ]
  },
  {
   "cell_type": "code",
   "execution_count": 11,
   "id": "f9fa8154",
   "metadata": {},
   "outputs": [
    {
     "data": {
      "text/plain": [
       "1"
      ]
     },
     "execution_count": 11,
     "metadata": {},
     "output_type": "execute_result"
    }
   ],
   "source": [
    "3//2"
   ]
  },
  {
   "cell_type": "code",
   "execution_count": 4,
   "id": "f9f3c0de",
   "metadata": {},
   "outputs": [
    {
     "ename": "NameError",
     "evalue": "name 'ipython' is not defined",
     "output_type": "error",
     "traceback": [
      "\u001b[1;31m---------------------------------------------------------------------------\u001b[0m",
      "\u001b[1;31mNameError\u001b[0m                                 Traceback (most recent call last)",
      "\u001b[1;32m~\\AppData\\Local\\Temp/ipykernel_7628/1740166267.py\u001b[0m in \u001b[0;36m<module>\u001b[1;34m\u001b[0m\n\u001b[1;32m----> 1\u001b[1;33m \u001b[0mipython\u001b[0m\u001b[1;33m.\u001b[0m\u001b[0mversion\u001b[0m\u001b[1;33m(\u001b[0m\u001b[1;33m)\u001b[0m\u001b[1;33m\u001b[0m\u001b[1;33m\u001b[0m\u001b[0m\n\u001b[0m",
      "\u001b[1;31mNameError\u001b[0m: name 'ipython' is not defined"
     ]
    }
   ],
   "source": [
    "ipython.version()"
   ]
  },
  {
   "cell_type": "code",
   "execution_count": 5,
   "id": "7012184e",
   "metadata": {},
   "outputs": [
    {
     "name": "stdout",
     "output_type": "stream",
     "text": [
      "Selected Jupyter core packages...\n",
      "IPython          : 7.29.0\n",
      "ipykernel        : 6.4.1\n",
      "ipywidgets       : 7.6.5\n",
      "jupyter_client   : 6.1.12\n",
      "jupyter_core     : 4.8.1\n",
      "jupyter_server   : 1.4.1\n",
      "jupyterlab       : 3.2.1\n",
      "nbclient         : 0.5.3\n",
      "nbconvert        : 6.1.0\n",
      "nbformat         : 5.1.3\n",
      "notebook         : 6.4.5\n",
      "qtconsole        : 5.1.1\n",
      "traitlets        : 5.1.0\n"
     ]
    }
   ],
   "source": [
    "!jupyter --version"
   ]
  },
  {
   "cell_type": "code",
   "execution_count": 7,
   "id": "69c4a6ed",
   "metadata": {},
   "outputs": [
    {
     "name": "stdout",
     "output_type": "stream",
     "text": [
      "Python 3.9.7\n"
     ]
    }
   ],
   "source": [
    "!python --version"
   ]
  },
  {
   "cell_type": "code",
   "execution_count": null,
   "id": "f0e19e11",
   "metadata": {},
   "outputs": [],
   "source": []
  }
 ],
 "metadata": {
  "kernelspec": {
   "display_name": "Python 3 (ipykernel)",
   "language": "python",
   "name": "python3"
  },
  "language_info": {
   "codemirror_mode": {
    "name": "ipython",
    "version": 3
   },
   "file_extension": ".py",
   "mimetype": "text/x-python",
   "name": "python",
   "nbconvert_exporter": "python",
   "pygments_lexer": "ipython3",
   "version": "3.9.7"
  }
 },
 "nbformat": 4,
 "nbformat_minor": 5
}
