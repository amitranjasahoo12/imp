{
 "cells": [
  {
   "cell_type": "code",
   "execution_count": 1,
   "id": "b5efa226",
   "metadata": {},
   "outputs": [],
   "source": [
    "sample= [15, 101, 18, 7, 13, 16, 11, 21, 5, 15, 10, 9]"
   ]
  },
  {
   "cell_type": "code",
   "execution_count": 4,
   "id": "2c9a60be",
   "metadata": {},
   "outputs": [],
   "source": [
    "sample.sort()"
   ]
  },
  {
   "cell_type": "code",
   "execution_count": 5,
   "id": "92eda737",
   "metadata": {},
   "outputs": [
    {
     "data": {
      "text/plain": [
       "[5, 7, 9, 10, 11, 13, 15, 15, 16, 18, 21, 101]"
      ]
     },
     "execution_count": 5,
     "metadata": {},
     "output_type": "execute_result"
    }
   ],
   "source": [
    "sample"
   ]
  },
  {
   "cell_type": "code",
   "execution_count": 6,
   "id": "3581b250",
   "metadata": {},
   "outputs": [],
   "source": [
    "import numpy as np"
   ]
  },
  {
   "cell_type": "code",
   "execution_count": 8,
   "id": "53e71596",
   "metadata": {},
   "outputs": [
    {
     "data": {
      "text/plain": [
       "20.083333333333332"
      ]
     },
     "execution_count": 8,
     "metadata": {},
     "output_type": "execute_result"
    }
   ],
   "source": [
    "np.mean(sample)"
   ]
  },
  {
   "cell_type": "code",
   "execution_count": 10,
   "id": "79705b56",
   "metadata": {},
   "outputs": [
    {
     "data": {
      "text/plain": [
       "ModeResult(mode=array([15]), count=array([2]))"
      ]
     },
     "execution_count": 10,
     "metadata": {},
     "output_type": "execute_result"
    }
   ],
   "source": [
    "from scipy import stats as st\n",
    "st.mode(sample)"
   ]
  },
  {
   "cell_type": "code",
   "execution_count": 11,
   "id": "7d828062",
   "metadata": {},
   "outputs": [
    {
     "data": {
      "text/plain": [
       "14.0"
      ]
     },
     "execution_count": 11,
     "metadata": {},
     "output_type": "execute_result"
    }
   ],
   "source": [
    "np.median(sample)"
   ]
  },
  {
   "cell_type": "code",
   "execution_count": 12,
   "id": "cf49c139",
   "metadata": {},
   "outputs": [
    {
     "data": {
      "text/plain": [
       "24.794012494059036"
      ]
     },
     "execution_count": 12,
     "metadata": {},
     "output_type": "execute_result"
    }
   ],
   "source": [
    "np.std(sample)"
   ]
  },
  {
   "cell_type": "code",
   "execution_count": 13,
   "id": "4d4012d2",
   "metadata": {},
   "outputs": [
    {
     "data": {
      "text/plain": [
       "614.7430555555557"
      ]
     },
     "execution_count": 13,
     "metadata": {},
     "output_type": "execute_result"
    }
   ],
   "source": [
    "np.var(sample)"
   ]
  },
  {
   "cell_type": "code",
   "execution_count": 18,
   "id": "0d485888",
   "metadata": {},
   "outputs": [],
   "source": [
    "l= [15, 18, 7, 13, 16, 11, 21, 5, 15, 10, 9]"
   ]
  },
  {
   "cell_type": "code",
   "execution_count": 19,
   "id": "1af04c8b",
   "metadata": {},
   "outputs": [
    {
     "data": {
      "text/plain": [
       "12.727272727272727"
      ]
     },
     "execution_count": 19,
     "metadata": {},
     "output_type": "execute_result"
    }
   ],
   "source": [
    "np.mean(l)"
   ]
  },
  {
   "cell_type": "code",
   "execution_count": 20,
   "id": "98134a10",
   "metadata": {},
   "outputs": [
    {
     "data": {
      "text/plain": [
       "ModeResult(mode=array([15]), count=array([2]))"
      ]
     },
     "execution_count": 20,
     "metadata": {},
     "output_type": "execute_result"
    }
   ],
   "source": [
    "st.mode(l)"
   ]
  },
  {
   "cell_type": "code",
   "execution_count": 21,
   "id": "b3d04c23",
   "metadata": {},
   "outputs": [
    {
     "data": {
      "text/plain": [
       "13.0"
      ]
     },
     "execution_count": 21,
     "metadata": {},
     "output_type": "execute_result"
    }
   ],
   "source": [
    "np.median(l)"
   ]
  },
  {
   "cell_type": "code",
   "execution_count": 22,
   "id": "b1ffbaaa",
   "metadata": {},
   "outputs": [
    {
     "data": {
      "text/plain": [
       "4.614028196527099"
      ]
     },
     "execution_count": 22,
     "metadata": {},
     "output_type": "execute_result"
    }
   ],
   "source": [
    "np.std(l)"
   ]
  },
  {
   "cell_type": "code",
   "execution_count": 23,
   "id": "1c1010b4",
   "metadata": {},
   "outputs": [
    {
     "data": {
      "text/plain": [
       "21.28925619834711"
      ]
     },
     "execution_count": 23,
     "metadata": {},
     "output_type": "execute_result"
    }
   ],
   "source": [
    "np.var(l)"
   ]
  },
  {
   "cell_type": "code",
   "execution_count": 24,
   "id": "01317a8a",
   "metadata": {},
   "outputs": [
    {
     "name": "stdout",
     "output_type": "stream",
     "text": [
      "Outliers from Z-scores method:  [101]\n"
     ]
    }
   ],
   "source": [
    "import numpy as np\n",
    "outliers = []\n",
    "def detect_outliers_zscore(data):\n",
    "    thres = 3\n",
    "    mean = np.mean(data)\n",
    "    std = np.std(data)\n",
    "    # print(mean, std)\n",
    "    for i in data:\n",
    "        z_score = (i-mean)/std\n",
    "        if (np.abs(z_score) > thres):\n",
    "            outliers.append(i)\n",
    "    return outliers# Driver code\n",
    "sample_outliers = detect_outliers_zscore(sample)\n",
    "print(\"Outliers from Z-scores method: \", sample_outliers)"
   ]
  },
  {
   "cell_type": "code",
   "execution_count": null,
   "id": "e75d6470",
   "metadata": {},
   "outputs": [],
   "source": []
  }
 ],
 "metadata": {
  "kernelspec": {
   "display_name": "Python 3 (ipykernel)",
   "language": "python",
   "name": "python3"
  },
  "language_info": {
   "codemirror_mode": {
    "name": "ipython",
    "version": 3
   },
   "file_extension": ".py",
   "mimetype": "text/x-python",
   "name": "python",
   "nbconvert_exporter": "python",
   "pygments_lexer": "ipython3",
   "version": "3.9.7"
  }
 },
 "nbformat": 4,
 "nbformat_minor": 5
}
