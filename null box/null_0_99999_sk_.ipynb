{
 "cells": [
  {
   "cell_type": "code",
   "execution_count": 1,
   "id": "417ab7b6",
   "metadata": {},
   "outputs": [
    {
     "name": "stdout",
     "output_type": "stream",
     "text": [
      "Contents of the Dataframe : \n",
      "      A     B   C       D     E   F   G     H    I\n",
      "0  Jack   NaN  34  Sydney   NaN   5 NaN   NaN  NaN\n",
      "1  Riti  23.0  31     NaN   NaN   7 NaN   NaN  NaN\n",
      "2   NaN   NaN  16  London  32.0  11 NaN   3.0  NaN\n",
      "3  Mark   NaN  41   Delhi   NaN  12 NaN  11.0  1.0\n",
      "Modified Dataframe : \n",
      "[      A   C       D   F     H\n",
      "0  Jack  34  Sydney   5   NaN\n",
      "1  Riti  31     NaN   7   NaN\n",
      "2   NaN  16  London  11   3.0\n",
      "3  Mark  41   Delhi  12  11.0]\n"
     ]
    }
   ],
   "source": [
    "import pandas as pd\n",
    "import numpy as np\n",
    "# List of Tuples\n",
    "empoyees = [('Jack', np.NaN, 34, 'Sydney', np.NaN,  5,  np.NaN, np.NaN, np.NaN),\n",
    "            ('Riti', 23    , 31, np.NaN , np.NaN,  7,  np.NaN, np.NaN, np.NaN),\n",
    "            (np.NaN, np.NaN, 16, 'London', 32,      11, np.NaN, 3, np.NaN),\n",
    "            ('Mark', np.NaN, 41, 'Delhi' , np.NaN,  12, np.NaN, 11, 1)]\n",
    "\n",
    "\n",
    "# Create a DataFrame object\n",
    "df = pd.DataFrame(  empoyees,\n",
    "                    columns=['A', 'B', 'C', 'D', 'E', 'F', 'G', 'H', 'I'])\n",
    "\n",
    "\n",
    "print(\"Contents of the Dataframe : \")\n",
    "print(df)\n",
    "\n",
    "\n",
    "# Delete columns containing either 75% or more than 75% NaN Values\n",
    "perc = 75.0\n",
    "min_count =  int(((100-perc)/100)*df.shape[0] + 1)\n",
    "mod_df = df.dropna( axis=1, thresh=min_count)\n",
    "print(\"Modified Dataframe : \")\n",
    "print([mod_df])"
   ]
  },
  {
   "cell_type": "code",
   "execution_count": 2,
   "id": "dc77fc78",
   "metadata": {},
   "outputs": [
    {
     "name": "stdout",
     "output_type": "stream",
     "text": [
      "Contents of the Dataframe : \n",
      "      A     B   C       D     E   F   G     H    I\n",
      "0  Jack   NaN  34  Sydney   NaN   5 NaN   NaN  NaN\n",
      "1  Riti  23.0  31     NaN   NaN   7 NaN   NaN  NaN\n",
      "2   NaN   NaN  16  London  32.0  11 NaN   3.0  NaN\n",
      "3  Mark   NaN  41   Delhi   NaN  12 NaN  11.0  1.0\n"
     ]
    }
   ],
   "source": [
    "empoyees = [('Jack', np.NaN, 34, 'Sydney', np.NaN,  5,  np.NaN, np.NaN, np.NaN),\n",
    "            ('Riti', 23    , 31, np.NaN , np.NaN,  7,  np.NaN, np.NaN, np.NaN),\n",
    "            (np.NaN, np.NaN, 16, 'London', 32,      11, np.NaN, 3, np.NaN),\n",
    "            ('Mark', np.NaN, 41, 'Delhi' , np.NaN,  12, np.NaN, 11, 1)]\n",
    "\n",
    "\n",
    "\n",
    "# Create a DataFrame object\n",
    "df = pd.DataFrame(  empoyees,\n",
    "                    columns=['A', 'B', 'C', 'D', 'E', 'F', 'G', 'H', 'I'])\n",
    "print(\"Contents of the Dataframe : \")\n",
    "print(df)"
   ]
  },
  {
   "cell_type": "code",
   "execution_count": 3,
   "id": "efa4a08d",
   "metadata": {},
   "outputs": [
    {
     "name": "stderr",
     "output_type": "stream",
     "text": [
      "C:\\Users\\sony\\anaconda3\\lib\\site-packages\\pandas\\core\\algorithms.py:969: UserWarning: Unable to sort modes: '<' not supported between instances of 'numpy.ndarray' and 'str'\n",
      "  warn(f\"Unable to sort modes: {err}\")\n"
     ]
    }
   ],
   "source": [
    "# numeric columns\n",
    ">>> df.fillna(df.select_dtypes(include='number').mean().iloc[0], inplace=True)\n",
    "\n",
    "# categorical columns\n",
    ">>> df.fillna(df.select_dtypes(include='object').mode().iloc[0], inplace=True)\n"
   ]
  },
  {
   "cell_type": "code",
   "execution_count": 4,
   "id": "debd5887",
   "metadata": {},
   "outputs": [
    {
     "name": "stdout",
     "output_type": "stream",
     "text": [
      "Modified Dataframe : \n",
      "[      A     B   C       D     E   F     G     H     I\n",
      "0  Jack  23.0  34  Sydney  23.0   5  23.0  23.0  23.0\n",
      "1  Riti  23.0  31    23.0  23.0   7  23.0  23.0  23.0\n",
      "2  23.0  23.0  16  London  32.0  11  23.0   3.0  23.0\n",
      "3  Mark  23.0  41   Delhi  23.0  12  23.0  11.0   1.0]\n"
     ]
    }
   ],
   "source": [
    "# Delete columns containing either 95% or more than 95% NaN Values\n",
    "perc = 95.0\n",
    "min_count =  int(((100-perc)/100)*df.shape[0] + 1)\n",
    "mod_df = df.dropna( axis=1, thresh=min_count)\n",
    "print(\"Modified Dataframe : \")\n",
    "print([mod_df])"
   ]
  },
  {
   "cell_type": "markdown",
   "id": "e07f667b",
   "metadata": {},
   "source": [
    "DataFrame.dropna(axis=0, how='any', thresh=None, subset=None, inplace=False)"
   ]
  },
  {
   "cell_type": "code",
   "execution_count": 5,
   "id": "0bfa172d",
   "metadata": {},
   "outputs": [
    {
     "name": "stderr",
     "output_type": "stream",
     "text": [
      "C:\\Users\\sony\\AppData\\Local\\Temp/ipykernel_732/779930004.py:1: FutureWarning: Dropping of nuisance columns in DataFrame reductions (with 'numeric_only=None') is deprecated; in a future version this will raise TypeError.  Select only valid columns before calling the reduction.\n",
      "  df.fillna(df.mean()).fillna(df.mode().iloc[0])\n",
      "C:\\Users\\sony\\anaconda3\\lib\\site-packages\\pandas\\core\\algorithms.py:969: UserWarning: Unable to sort modes: '<' not supported between instances of 'numpy.ndarray' and 'str'\n",
      "  warn(f\"Unable to sort modes: {err}\")\n"
     ]
    },
    {
     "data": {
      "text/html": [
       "<div>\n",
       "<style scoped>\n",
       "    .dataframe tbody tr th:only-of-type {\n",
       "        vertical-align: middle;\n",
       "    }\n",
       "\n",
       "    .dataframe tbody tr th {\n",
       "        vertical-align: top;\n",
       "    }\n",
       "\n",
       "    .dataframe thead th {\n",
       "        text-align: right;\n",
       "    }\n",
       "</style>\n",
       "<table border=\"1\" class=\"dataframe\">\n",
       "  <thead>\n",
       "    <tr style=\"text-align: right;\">\n",
       "      <th></th>\n",
       "      <th>A</th>\n",
       "      <th>B</th>\n",
       "      <th>C</th>\n",
       "      <th>D</th>\n",
       "      <th>E</th>\n",
       "      <th>F</th>\n",
       "      <th>G</th>\n",
       "      <th>H</th>\n",
       "      <th>I</th>\n",
       "    </tr>\n",
       "  </thead>\n",
       "  <tbody>\n",
       "    <tr>\n",
       "      <th>0</th>\n",
       "      <td>Jack</td>\n",
       "      <td>23.0</td>\n",
       "      <td>34</td>\n",
       "      <td>Sydney</td>\n",
       "      <td>23.0</td>\n",
       "      <td>5</td>\n",
       "      <td>23.0</td>\n",
       "      <td>23.0</td>\n",
       "      <td>23.0</td>\n",
       "    </tr>\n",
       "    <tr>\n",
       "      <th>1</th>\n",
       "      <td>Riti</td>\n",
       "      <td>23.0</td>\n",
       "      <td>31</td>\n",
       "      <td>23.0</td>\n",
       "      <td>23.0</td>\n",
       "      <td>7</td>\n",
       "      <td>23.0</td>\n",
       "      <td>23.0</td>\n",
       "      <td>23.0</td>\n",
       "    </tr>\n",
       "    <tr>\n",
       "      <th>2</th>\n",
       "      <td>23.0</td>\n",
       "      <td>23.0</td>\n",
       "      <td>16</td>\n",
       "      <td>London</td>\n",
       "      <td>32.0</td>\n",
       "      <td>11</td>\n",
       "      <td>23.0</td>\n",
       "      <td>3.0</td>\n",
       "      <td>23.0</td>\n",
       "    </tr>\n",
       "    <tr>\n",
       "      <th>3</th>\n",
       "      <td>Mark</td>\n",
       "      <td>23.0</td>\n",
       "      <td>41</td>\n",
       "      <td>Delhi</td>\n",
       "      <td>23.0</td>\n",
       "      <td>12</td>\n",
       "      <td>23.0</td>\n",
       "      <td>11.0</td>\n",
       "      <td>1.0</td>\n",
       "    </tr>\n",
       "  </tbody>\n",
       "</table>\n",
       "</div>"
      ],
      "text/plain": [
       "      A     B   C       D     E   F     G     H     I\n",
       "0  Jack  23.0  34  Sydney  23.0   5  23.0  23.0  23.0\n",
       "1  Riti  23.0  31    23.0  23.0   7  23.0  23.0  23.0\n",
       "2  23.0  23.0  16  London  32.0  11  23.0   3.0  23.0\n",
       "3  Mark  23.0  41   Delhi  23.0  12  23.0  11.0   1.0"
      ]
     },
     "execution_count": 5,
     "metadata": {},
     "output_type": "execute_result"
    }
   ],
   "source": [
    "df.fillna(df.mean()).fillna(df.mode().iloc[0])"
   ]
  },
  {
   "cell_type": "code",
   "execution_count": null,
   "id": "b33dc09e",
   "metadata": {},
   "outputs": [],
   "source": []
  },
  {
   "cell_type": "code",
   "execution_count": null,
   "id": "0bccd27a",
   "metadata": {},
   "outputs": [],
   "source": []
  },
  {
   "cell_type": "code",
   "execution_count": null,
   "id": "6c6575ca",
   "metadata": {},
   "outputs": [],
   "source": []
  },
  {
   "cell_type": "markdown",
   "id": "b45874d8",
   "metadata": {},
   "source": [
    "df['DataFrame Column'] = df['DataFrame Column'].fillna(0)"
   ]
  },
  {
   "cell_type": "markdown",
   "id": "1232aec6",
   "metadata": {},
   "source": [
    "df.fillna(int(0, inplace=True))"
   ]
  },
  {
   "cell_type": "code",
   "execution_count": 6,
   "id": "5a18b83e",
   "metadata": {},
   "outputs": [
    {
     "data": {
      "text/html": [
       "<div>\n",
       "<style scoped>\n",
       "    .dataframe tbody tr th:only-of-type {\n",
       "        vertical-align: middle;\n",
       "    }\n",
       "\n",
       "    .dataframe tbody tr th {\n",
       "        vertical-align: top;\n",
       "    }\n",
       "\n",
       "    .dataframe thead th {\n",
       "        text-align: right;\n",
       "    }\n",
       "</style>\n",
       "<table border=\"1\" class=\"dataframe\">\n",
       "  <thead>\n",
       "    <tr style=\"text-align: right;\">\n",
       "      <th></th>\n",
       "      <th>A</th>\n",
       "      <th>B</th>\n",
       "      <th>C</th>\n",
       "      <th>D</th>\n",
       "      <th>E</th>\n",
       "      <th>F</th>\n",
       "      <th>G</th>\n",
       "      <th>H</th>\n",
       "      <th>I</th>\n",
       "    </tr>\n",
       "  </thead>\n",
       "  <tbody>\n",
       "    <tr>\n",
       "      <th>0</th>\n",
       "      <td>Jack</td>\n",
       "      <td>23.0</td>\n",
       "      <td>34</td>\n",
       "      <td>Sydney</td>\n",
       "      <td>23.0</td>\n",
       "      <td>5</td>\n",
       "      <td>23.0</td>\n",
       "      <td>23.0</td>\n",
       "      <td>23.0</td>\n",
       "    </tr>\n",
       "    <tr>\n",
       "      <th>1</th>\n",
       "      <td>Riti</td>\n",
       "      <td>23.0</td>\n",
       "      <td>31</td>\n",
       "      <td>23.0</td>\n",
       "      <td>23.0</td>\n",
       "      <td>7</td>\n",
       "      <td>23.0</td>\n",
       "      <td>23.0</td>\n",
       "      <td>23.0</td>\n",
       "    </tr>\n",
       "    <tr>\n",
       "      <th>2</th>\n",
       "      <td>23.0</td>\n",
       "      <td>23.0</td>\n",
       "      <td>16</td>\n",
       "      <td>London</td>\n",
       "      <td>32.0</td>\n",
       "      <td>11</td>\n",
       "      <td>23.0</td>\n",
       "      <td>3.0</td>\n",
       "      <td>23.0</td>\n",
       "    </tr>\n",
       "    <tr>\n",
       "      <th>3</th>\n",
       "      <td>Mark</td>\n",
       "      <td>23.0</td>\n",
       "      <td>41</td>\n",
       "      <td>Delhi</td>\n",
       "      <td>23.0</td>\n",
       "      <td>12</td>\n",
       "      <td>23.0</td>\n",
       "      <td>11.0</td>\n",
       "      <td>1.0</td>\n",
       "    </tr>\n",
       "  </tbody>\n",
       "</table>\n",
       "</div>"
      ],
      "text/plain": [
       "      A     B   C       D     E   F     G     H     I\n",
       "0  Jack  23.0  34  Sydney  23.0   5  23.0  23.0  23.0\n",
       "1  Riti  23.0  31    23.0  23.0   7  23.0  23.0  23.0\n",
       "2  23.0  23.0  16  London  32.0  11  23.0   3.0  23.0\n",
       "3  Mark  23.0  41   Delhi  23.0  12  23.0  11.0   1.0"
      ]
     },
     "execution_count": 6,
     "metadata": {},
     "output_type": "execute_result"
    }
   ],
   "source": [
    "mod_df"
   ]
  },
  {
   "cell_type": "code",
   "execution_count": 7,
   "id": "48b35024",
   "metadata": {},
   "outputs": [
    {
     "ename": "SyntaxError",
     "evalue": "invalid syntax (Temp/ipykernel_732/2570753218.py, line 1)",
     "output_type": "error",
     "traceback": [
      "\u001b[1;36m  File \u001b[1;32m\"C:\\Users\\sony\\AppData\\Local\\Temp/ipykernel_732/2570753218.py\"\u001b[1;36m, line \u001b[1;32m1\u001b[0m\n\u001b[1;33m    my_data = mod_df.replace(mod_df, is.numeric, ~replace(., is.na(.), 0))\u001b[0m\n\u001b[1;37m                                     ^\u001b[0m\n\u001b[1;31mSyntaxError\u001b[0m\u001b[1;31m:\u001b[0m invalid syntax\n"
     ]
    }
   ],
   "source": [
    "my_data = mod_df.replace(mod_df, is.numeric, ~replace(., is.na(.), 0))\n",
    "#my_data = mod_df.replace((np.NaN,0), value=0,inplace=True,limit=None,regex=False)"
   ]
  },
  {
   "cell_type": "code",
   "execution_count": 8,
   "id": "78cf1f40",
   "metadata": {},
   "outputs": [],
   "source": [
    "\n",
    "# importing libraries\n",
    "import pandas as pd\n",
    "import numpy as np\n",
    "  \n",
    "nums = {'Student Name': [ np.nan, 'Shivansh', 'Ishdeep',  \n",
    "                         'Siddharth', np.nan, 'Prakhar',\n",
    "                         'Yash', 'Srikar', 'Kaustubh', \n",
    "                         'Aditya',  'Manav', np.nan],\n",
    "        'Roll No.': [ 18229, 18232, np.nan, 18247, 18136, \n",
    "                     np.nan, 18283, 18310, 18102, 18012,\n",
    "                     18121, 18168],\n",
    "        'Subject ID': [204, np.nan, 201, 105, np.nan, 204,\n",
    "                       101, 101, np.nan, 165, 715, np.nan],\n",
    "       'Grade Point': [9, np.nan, 7, np.nan, 8, 7, 9, 10,\n",
    "                       np.nan, 9, 6, 8]}\n",
    "  \n"
   ]
  },
  {
   "cell_type": "code",
   "execution_count": 9,
   "id": "421523d8",
   "metadata": {},
   "outputs": [
    {
     "data": {
      "text/html": [
       "<div>\n",
       "<style scoped>\n",
       "    .dataframe tbody tr th:only-of-type {\n",
       "        vertical-align: middle;\n",
       "    }\n",
       "\n",
       "    .dataframe tbody tr th {\n",
       "        vertical-align: top;\n",
       "    }\n",
       "\n",
       "    .dataframe thead th {\n",
       "        text-align: right;\n",
       "    }\n",
       "</style>\n",
       "<table border=\"1\" class=\"dataframe\">\n",
       "  <thead>\n",
       "    <tr style=\"text-align: right;\">\n",
       "      <th></th>\n",
       "      <th>Student Name</th>\n",
       "      <th>Roll No.</th>\n",
       "      <th>Subject ID</th>\n",
       "      <th>Grade Point</th>\n",
       "    </tr>\n",
       "  </thead>\n",
       "  <tbody>\n",
       "    <tr>\n",
       "      <th>0</th>\n",
       "      <td>NaN</td>\n",
       "      <td>18229.0</td>\n",
       "      <td>204.0</td>\n",
       "      <td>9.0</td>\n",
       "    </tr>\n",
       "    <tr>\n",
       "      <th>1</th>\n",
       "      <td>Shivansh</td>\n",
       "      <td>18232.0</td>\n",
       "      <td>NaN</td>\n",
       "      <td>NaN</td>\n",
       "    </tr>\n",
       "    <tr>\n",
       "      <th>2</th>\n",
       "      <td>Ishdeep</td>\n",
       "      <td>NaN</td>\n",
       "      <td>201.0</td>\n",
       "      <td>7.0</td>\n",
       "    </tr>\n",
       "    <tr>\n",
       "      <th>3</th>\n",
       "      <td>Siddharth</td>\n",
       "      <td>18247.0</td>\n",
       "      <td>105.0</td>\n",
       "      <td>NaN</td>\n",
       "    </tr>\n",
       "    <tr>\n",
       "      <th>4</th>\n",
       "      <td>NaN</td>\n",
       "      <td>18136.0</td>\n",
       "      <td>NaN</td>\n",
       "      <td>8.0</td>\n",
       "    </tr>\n",
       "    <tr>\n",
       "      <th>5</th>\n",
       "      <td>Prakhar</td>\n",
       "      <td>NaN</td>\n",
       "      <td>204.0</td>\n",
       "      <td>7.0</td>\n",
       "    </tr>\n",
       "    <tr>\n",
       "      <th>6</th>\n",
       "      <td>Yash</td>\n",
       "      <td>18283.0</td>\n",
       "      <td>101.0</td>\n",
       "      <td>9.0</td>\n",
       "    </tr>\n",
       "    <tr>\n",
       "      <th>7</th>\n",
       "      <td>Srikar</td>\n",
       "      <td>18310.0</td>\n",
       "      <td>101.0</td>\n",
       "      <td>10.0</td>\n",
       "    </tr>\n",
       "    <tr>\n",
       "      <th>8</th>\n",
       "      <td>Kaustubh</td>\n",
       "      <td>18102.0</td>\n",
       "      <td>NaN</td>\n",
       "      <td>NaN</td>\n",
       "    </tr>\n",
       "    <tr>\n",
       "      <th>9</th>\n",
       "      <td>Aditya</td>\n",
       "      <td>18012.0</td>\n",
       "      <td>165.0</td>\n",
       "      <td>9.0</td>\n",
       "    </tr>\n",
       "    <tr>\n",
       "      <th>10</th>\n",
       "      <td>Manav</td>\n",
       "      <td>18121.0</td>\n",
       "      <td>715.0</td>\n",
       "      <td>6.0</td>\n",
       "    </tr>\n",
       "    <tr>\n",
       "      <th>11</th>\n",
       "      <td>NaN</td>\n",
       "      <td>18168.0</td>\n",
       "      <td>NaN</td>\n",
       "      <td>8.0</td>\n",
       "    </tr>\n",
       "  </tbody>\n",
       "</table>\n",
       "</div>"
      ],
      "text/plain": [
       "   Student Name  Roll No.  Subject ID  Grade Point\n",
       "0           NaN   18229.0       204.0          9.0\n",
       "1      Shivansh   18232.0         NaN          NaN\n",
       "2       Ishdeep       NaN       201.0          7.0\n",
       "3     Siddharth   18247.0       105.0          NaN\n",
       "4           NaN   18136.0         NaN          8.0\n",
       "5       Prakhar       NaN       204.0          7.0\n",
       "6          Yash   18283.0       101.0          9.0\n",
       "7        Srikar   18310.0       101.0         10.0\n",
       "8      Kaustubh   18102.0         NaN          NaN\n",
       "9        Aditya   18012.0       165.0          9.0\n",
       "10        Manav   18121.0       715.0          6.0\n",
       "11          NaN   18168.0         NaN          8.0"
      ]
     },
     "execution_count": 9,
     "metadata": {},
     "output_type": "execute_result"
    }
   ],
   "source": [
    "# Create the dataframe\n",
    "df = pd.DataFrame(nums)\n",
    "  \n",
    "df"
   ]
  },
  {
   "cell_type": "code",
   "execution_count": 10,
   "id": "b6975a4f",
   "metadata": {},
   "outputs": [
    {
     "data": {
      "text/plain": [
       "Student Name     object\n",
       "Roll No.        float64\n",
       "Subject ID      float64\n",
       "Grade Point     float64\n",
       "dtype: object"
      ]
     },
     "execution_count": 10,
     "metadata": {},
     "output_type": "execute_result"
    }
   ],
   "source": [
    "df.dtypes"
   ]
  },
  {
   "cell_type": "code",
   "execution_count": null,
   "id": "76a48caa",
   "metadata": {},
   "outputs": [],
   "source": []
  },
  {
   "cell_type": "code",
   "execution_count": 11,
   "id": "255bcbf9",
   "metadata": {},
   "outputs": [
    {
     "data": {
      "text/plain": [
       "pandas.core.indexes.base.Index"
      ]
     },
     "execution_count": 11,
     "metadata": {},
     "output_type": "execute_result"
    }
   ],
   "source": [
    "type(df.columns)"
   ]
  },
  {
   "cell_type": "code",
   "execution_count": 12,
   "id": "a0c383a1",
   "metadata": {},
   "outputs": [
    {
     "data": {
      "text/html": [
       "<div>\n",
       "<style scoped>\n",
       "    .dataframe tbody tr th:only-of-type {\n",
       "        vertical-align: middle;\n",
       "    }\n",
       "\n",
       "    .dataframe tbody tr th {\n",
       "        vertical-align: top;\n",
       "    }\n",
       "\n",
       "    .dataframe thead th {\n",
       "        text-align: right;\n",
       "    }\n",
       "</style>\n",
       "<table border=\"1\" class=\"dataframe\">\n",
       "  <thead>\n",
       "    <tr style=\"text-align: right;\">\n",
       "      <th></th>\n",
       "      <th>Student Name</th>\n",
       "      <th>Roll No.</th>\n",
       "      <th>Subject ID</th>\n",
       "      <th>Grade Point</th>\n",
       "    </tr>\n",
       "  </thead>\n",
       "  <tbody>\n",
       "    <tr>\n",
       "      <th>0</th>\n",
       "      <td>NaN</td>\n",
       "      <td>18229.0</td>\n",
       "      <td>204.0</td>\n",
       "      <td>9.0</td>\n",
       "    </tr>\n",
       "    <tr>\n",
       "      <th>1</th>\n",
       "      <td>Shivansh</td>\n",
       "      <td>18232.0</td>\n",
       "      <td>0.0</td>\n",
       "      <td>0.0</td>\n",
       "    </tr>\n",
       "    <tr>\n",
       "      <th>2</th>\n",
       "      <td>Ishdeep</td>\n",
       "      <td>0.0</td>\n",
       "      <td>201.0</td>\n",
       "      <td>7.0</td>\n",
       "    </tr>\n",
       "    <tr>\n",
       "      <th>3</th>\n",
       "      <td>Siddharth</td>\n",
       "      <td>18247.0</td>\n",
       "      <td>105.0</td>\n",
       "      <td>0.0</td>\n",
       "    </tr>\n",
       "    <tr>\n",
       "      <th>4</th>\n",
       "      <td>NaN</td>\n",
       "      <td>18136.0</td>\n",
       "      <td>0.0</td>\n",
       "      <td>8.0</td>\n",
       "    </tr>\n",
       "    <tr>\n",
       "      <th>5</th>\n",
       "      <td>Prakhar</td>\n",
       "      <td>0.0</td>\n",
       "      <td>204.0</td>\n",
       "      <td>7.0</td>\n",
       "    </tr>\n",
       "    <tr>\n",
       "      <th>6</th>\n",
       "      <td>Yash</td>\n",
       "      <td>18283.0</td>\n",
       "      <td>101.0</td>\n",
       "      <td>9.0</td>\n",
       "    </tr>\n",
       "    <tr>\n",
       "      <th>7</th>\n",
       "      <td>Srikar</td>\n",
       "      <td>18310.0</td>\n",
       "      <td>101.0</td>\n",
       "      <td>10.0</td>\n",
       "    </tr>\n",
       "    <tr>\n",
       "      <th>8</th>\n",
       "      <td>Kaustubh</td>\n",
       "      <td>18102.0</td>\n",
       "      <td>0.0</td>\n",
       "      <td>0.0</td>\n",
       "    </tr>\n",
       "    <tr>\n",
       "      <th>9</th>\n",
       "      <td>Aditya</td>\n",
       "      <td>18012.0</td>\n",
       "      <td>165.0</td>\n",
       "      <td>9.0</td>\n",
       "    </tr>\n",
       "    <tr>\n",
       "      <th>10</th>\n",
       "      <td>Manav</td>\n",
       "      <td>18121.0</td>\n",
       "      <td>715.0</td>\n",
       "      <td>6.0</td>\n",
       "    </tr>\n",
       "    <tr>\n",
       "      <th>11</th>\n",
       "      <td>NaN</td>\n",
       "      <td>18168.0</td>\n",
       "      <td>0.0</td>\n",
       "      <td>8.0</td>\n",
       "    </tr>\n",
       "  </tbody>\n",
       "</table>\n",
       "</div>"
      ],
      "text/plain": [
       "   Student Name  Roll No.  Subject ID  Grade Point\n",
       "0           NaN   18229.0       204.0          9.0\n",
       "1      Shivansh   18232.0         0.0          0.0\n",
       "2       Ishdeep       0.0       201.0          7.0\n",
       "3     Siddharth   18247.0       105.0          0.0\n",
       "4           NaN   18136.0         0.0          8.0\n",
       "5       Prakhar       0.0       204.0          7.0\n",
       "6          Yash   18283.0       101.0          9.0\n",
       "7        Srikar   18310.0       101.0         10.0\n",
       "8      Kaustubh   18102.0         0.0          0.0\n",
       "9        Aditya   18012.0       165.0          9.0\n",
       "10        Manav   18121.0       715.0          6.0\n",
       "11          NaN   18168.0         0.0          8.0"
      ]
     },
     "execution_count": 12,
     "metadata": {},
     "output_type": "execute_result"
    }
   ],
   "source": [
    "df[['Roll No.', 'Subject ID', 'Grade Point']] = df[['Roll No.', 'Subject ID', 'Grade Point']].replace(np.nan, 0)\n",
    "df"
   ]
  },
  {
   "cell_type": "code",
   "execution_count": 13,
   "id": "0a466c3f",
   "metadata": {},
   "outputs": [
    {
     "data": {
      "text/html": [
       "<div>\n",
       "<style scoped>\n",
       "    .dataframe tbody tr th:only-of-type {\n",
       "        vertical-align: middle;\n",
       "    }\n",
       "\n",
       "    .dataframe tbody tr th {\n",
       "        vertical-align: top;\n",
       "    }\n",
       "\n",
       "    .dataframe thead th {\n",
       "        text-align: right;\n",
       "    }\n",
       "</style>\n",
       "<table border=\"1\" class=\"dataframe\">\n",
       "  <thead>\n",
       "    <tr style=\"text-align: right;\">\n",
       "      <th></th>\n",
       "      <th>Student Name</th>\n",
       "      <th>Roll No.</th>\n",
       "      <th>Subject ID</th>\n",
       "      <th>Grade Point</th>\n",
       "    </tr>\n",
       "  </thead>\n",
       "  <tbody>\n",
       "    <tr>\n",
       "      <th>0</th>\n",
       "      <td>-999999</td>\n",
       "      <td>18229.0</td>\n",
       "      <td>204.0</td>\n",
       "      <td>9.0</td>\n",
       "    </tr>\n",
       "    <tr>\n",
       "      <th>1</th>\n",
       "      <td>Shivansh</td>\n",
       "      <td>18232.0</td>\n",
       "      <td>0.0</td>\n",
       "      <td>0.0</td>\n",
       "    </tr>\n",
       "    <tr>\n",
       "      <th>2</th>\n",
       "      <td>Ishdeep</td>\n",
       "      <td>0.0</td>\n",
       "      <td>201.0</td>\n",
       "      <td>7.0</td>\n",
       "    </tr>\n",
       "    <tr>\n",
       "      <th>3</th>\n",
       "      <td>Siddharth</td>\n",
       "      <td>18247.0</td>\n",
       "      <td>105.0</td>\n",
       "      <td>0.0</td>\n",
       "    </tr>\n",
       "    <tr>\n",
       "      <th>4</th>\n",
       "      <td>-999999</td>\n",
       "      <td>18136.0</td>\n",
       "      <td>0.0</td>\n",
       "      <td>8.0</td>\n",
       "    </tr>\n",
       "    <tr>\n",
       "      <th>5</th>\n",
       "      <td>Prakhar</td>\n",
       "      <td>0.0</td>\n",
       "      <td>204.0</td>\n",
       "      <td>7.0</td>\n",
       "    </tr>\n",
       "    <tr>\n",
       "      <th>6</th>\n",
       "      <td>Yash</td>\n",
       "      <td>18283.0</td>\n",
       "      <td>101.0</td>\n",
       "      <td>9.0</td>\n",
       "    </tr>\n",
       "    <tr>\n",
       "      <th>7</th>\n",
       "      <td>Srikar</td>\n",
       "      <td>18310.0</td>\n",
       "      <td>101.0</td>\n",
       "      <td>10.0</td>\n",
       "    </tr>\n",
       "    <tr>\n",
       "      <th>8</th>\n",
       "      <td>Kaustubh</td>\n",
       "      <td>18102.0</td>\n",
       "      <td>0.0</td>\n",
       "      <td>0.0</td>\n",
       "    </tr>\n",
       "    <tr>\n",
       "      <th>9</th>\n",
       "      <td>Aditya</td>\n",
       "      <td>18012.0</td>\n",
       "      <td>165.0</td>\n",
       "      <td>9.0</td>\n",
       "    </tr>\n",
       "    <tr>\n",
       "      <th>10</th>\n",
       "      <td>Manav</td>\n",
       "      <td>18121.0</td>\n",
       "      <td>715.0</td>\n",
       "      <td>6.0</td>\n",
       "    </tr>\n",
       "    <tr>\n",
       "      <th>11</th>\n",
       "      <td>-999999</td>\n",
       "      <td>18168.0</td>\n",
       "      <td>0.0</td>\n",
       "      <td>8.0</td>\n",
       "    </tr>\n",
       "  </tbody>\n",
       "</table>\n",
       "</div>"
      ],
      "text/plain": [
       "   Student Name  Roll No.  Subject ID  Grade Point\n",
       "0       -999999   18229.0       204.0          9.0\n",
       "1      Shivansh   18232.0         0.0          0.0\n",
       "2       Ishdeep       0.0       201.0          7.0\n",
       "3     Siddharth   18247.0       105.0          0.0\n",
       "4       -999999   18136.0         0.0          8.0\n",
       "5       Prakhar       0.0       204.0          7.0\n",
       "6          Yash   18283.0       101.0          9.0\n",
       "7        Srikar   18310.0       101.0         10.0\n",
       "8      Kaustubh   18102.0         0.0          0.0\n",
       "9        Aditya   18012.0       165.0          9.0\n",
       "10        Manav   18121.0       715.0          6.0\n",
       "11      -999999   18168.0         0.0          8.0"
      ]
     },
     "execution_count": 13,
     "metadata": {},
     "output_type": "execute_result"
    }
   ],
   "source": [
    "df.replace(np.nan, -999999)"
   ]
  },
  {
   "cell_type": "code",
   "execution_count": 14,
   "id": "3cf5aadf",
   "metadata": {},
   "outputs": [
    {
     "data": {
      "text/html": [
       "<div>\n",
       "<style scoped>\n",
       "    .dataframe tbody tr th:only-of-type {\n",
       "        vertical-align: middle;\n",
       "    }\n",
       "\n",
       "    .dataframe tbody tr th {\n",
       "        vertical-align: top;\n",
       "    }\n",
       "\n",
       "    .dataframe thead th {\n",
       "        text-align: right;\n",
       "    }\n",
       "</style>\n",
       "<table border=\"1\" class=\"dataframe\">\n",
       "  <thead>\n",
       "    <tr style=\"text-align: right;\">\n",
       "      <th></th>\n",
       "      <th>Student Name</th>\n",
       "      <th>Roll No.</th>\n",
       "      <th>Subject ID</th>\n",
       "      <th>Grade Point</th>\n",
       "    </tr>\n",
       "  </thead>\n",
       "  <tbody>\n",
       "    <tr>\n",
       "      <th>0</th>\n",
       "      <td>0</td>\n",
       "      <td>18229.0</td>\n",
       "      <td>204.0</td>\n",
       "      <td>9.0</td>\n",
       "    </tr>\n",
       "    <tr>\n",
       "      <th>1</th>\n",
       "      <td>Shivansh</td>\n",
       "      <td>18232.0</td>\n",
       "      <td>0.0</td>\n",
       "      <td>0.0</td>\n",
       "    </tr>\n",
       "    <tr>\n",
       "      <th>2</th>\n",
       "      <td>Ishdeep</td>\n",
       "      <td>0.0</td>\n",
       "      <td>201.0</td>\n",
       "      <td>7.0</td>\n",
       "    </tr>\n",
       "    <tr>\n",
       "      <th>3</th>\n",
       "      <td>Siddharth</td>\n",
       "      <td>18247.0</td>\n",
       "      <td>105.0</td>\n",
       "      <td>0.0</td>\n",
       "    </tr>\n",
       "    <tr>\n",
       "      <th>4</th>\n",
       "      <td>0</td>\n",
       "      <td>18136.0</td>\n",
       "      <td>0.0</td>\n",
       "      <td>8.0</td>\n",
       "    </tr>\n",
       "    <tr>\n",
       "      <th>5</th>\n",
       "      <td>Prakhar</td>\n",
       "      <td>0.0</td>\n",
       "      <td>204.0</td>\n",
       "      <td>7.0</td>\n",
       "    </tr>\n",
       "    <tr>\n",
       "      <th>6</th>\n",
       "      <td>Yash</td>\n",
       "      <td>18283.0</td>\n",
       "      <td>101.0</td>\n",
       "      <td>9.0</td>\n",
       "    </tr>\n",
       "    <tr>\n",
       "      <th>7</th>\n",
       "      <td>Srikar</td>\n",
       "      <td>18310.0</td>\n",
       "      <td>101.0</td>\n",
       "      <td>10.0</td>\n",
       "    </tr>\n",
       "    <tr>\n",
       "      <th>8</th>\n",
       "      <td>Kaustubh</td>\n",
       "      <td>18102.0</td>\n",
       "      <td>0.0</td>\n",
       "      <td>0.0</td>\n",
       "    </tr>\n",
       "    <tr>\n",
       "      <th>9</th>\n",
       "      <td>Aditya</td>\n",
       "      <td>18012.0</td>\n",
       "      <td>165.0</td>\n",
       "      <td>9.0</td>\n",
       "    </tr>\n",
       "    <tr>\n",
       "      <th>10</th>\n",
       "      <td>Manav</td>\n",
       "      <td>18121.0</td>\n",
       "      <td>715.0</td>\n",
       "      <td>6.0</td>\n",
       "    </tr>\n",
       "    <tr>\n",
       "      <th>11</th>\n",
       "      <td>0</td>\n",
       "      <td>18168.0</td>\n",
       "      <td>0.0</td>\n",
       "      <td>8.0</td>\n",
       "    </tr>\n",
       "  </tbody>\n",
       "</table>\n",
       "</div>"
      ],
      "text/plain": [
       "   Student Name  Roll No.  Subject ID  Grade Point\n",
       "0             0   18229.0       204.0          9.0\n",
       "1      Shivansh   18232.0         0.0          0.0\n",
       "2       Ishdeep       0.0       201.0          7.0\n",
       "3     Siddharth   18247.0       105.0          0.0\n",
       "4             0   18136.0         0.0          8.0\n",
       "5       Prakhar       0.0       204.0          7.0\n",
       "6          Yash   18283.0       101.0          9.0\n",
       "7        Srikar   18310.0       101.0         10.0\n",
       "8      Kaustubh   18102.0         0.0          0.0\n",
       "9        Aditya   18012.0       165.0          9.0\n",
       "10        Manav   18121.0       715.0          6.0\n",
       "11            0   18168.0         0.0          8.0"
      ]
     },
     "execution_count": 14,
     "metadata": {},
     "output_type": "execute_result"
    }
   ],
   "source": [
    "# Apply the function\n",
    "df = df.replace(np.nan, 0)\n",
    "  \n",
    "# print the DataFrame\n",
    "df"
   ]
  },
  {
   "cell_type": "code",
   "execution_count": 15,
   "id": "ae91ebe5",
   "metadata": {},
   "outputs": [],
   "source": [
    "df.fillna(0, inplace=True)"
   ]
  },
  {
   "cell_type": "code",
   "execution_count": 16,
   "id": "8f2730aa",
   "metadata": {},
   "outputs": [
    {
     "data": {
      "text/html": [
       "<div>\n",
       "<style scoped>\n",
       "    .dataframe tbody tr th:only-of-type {\n",
       "        vertical-align: middle;\n",
       "    }\n",
       "\n",
       "    .dataframe tbody tr th {\n",
       "        vertical-align: top;\n",
       "    }\n",
       "\n",
       "    .dataframe thead th {\n",
       "        text-align: right;\n",
       "    }\n",
       "</style>\n",
       "<table border=\"1\" class=\"dataframe\">\n",
       "  <thead>\n",
       "    <tr style=\"text-align: right;\">\n",
       "      <th></th>\n",
       "      <th>Student Name</th>\n",
       "      <th>Roll No.</th>\n",
       "      <th>Subject ID</th>\n",
       "      <th>Grade Point</th>\n",
       "    </tr>\n",
       "  </thead>\n",
       "  <tbody>\n",
       "    <tr>\n",
       "      <th>0</th>\n",
       "      <td>0</td>\n",
       "      <td>18229.0</td>\n",
       "      <td>204.0</td>\n",
       "      <td>9.0</td>\n",
       "    </tr>\n",
       "    <tr>\n",
       "      <th>1</th>\n",
       "      <td>Shivansh</td>\n",
       "      <td>18232.0</td>\n",
       "      <td>0.0</td>\n",
       "      <td>0.0</td>\n",
       "    </tr>\n",
       "    <tr>\n",
       "      <th>2</th>\n",
       "      <td>Ishdeep</td>\n",
       "      <td>0.0</td>\n",
       "      <td>201.0</td>\n",
       "      <td>7.0</td>\n",
       "    </tr>\n",
       "    <tr>\n",
       "      <th>3</th>\n",
       "      <td>Siddharth</td>\n",
       "      <td>18247.0</td>\n",
       "      <td>105.0</td>\n",
       "      <td>0.0</td>\n",
       "    </tr>\n",
       "    <tr>\n",
       "      <th>4</th>\n",
       "      <td>0</td>\n",
       "      <td>18136.0</td>\n",
       "      <td>0.0</td>\n",
       "      <td>8.0</td>\n",
       "    </tr>\n",
       "    <tr>\n",
       "      <th>5</th>\n",
       "      <td>Prakhar</td>\n",
       "      <td>0.0</td>\n",
       "      <td>204.0</td>\n",
       "      <td>7.0</td>\n",
       "    </tr>\n",
       "    <tr>\n",
       "      <th>6</th>\n",
       "      <td>Yash</td>\n",
       "      <td>18283.0</td>\n",
       "      <td>101.0</td>\n",
       "      <td>9.0</td>\n",
       "    </tr>\n",
       "    <tr>\n",
       "      <th>7</th>\n",
       "      <td>Srikar</td>\n",
       "      <td>18310.0</td>\n",
       "      <td>101.0</td>\n",
       "      <td>10.0</td>\n",
       "    </tr>\n",
       "    <tr>\n",
       "      <th>8</th>\n",
       "      <td>Kaustubh</td>\n",
       "      <td>18102.0</td>\n",
       "      <td>0.0</td>\n",
       "      <td>0.0</td>\n",
       "    </tr>\n",
       "    <tr>\n",
       "      <th>9</th>\n",
       "      <td>Aditya</td>\n",
       "      <td>18012.0</td>\n",
       "      <td>165.0</td>\n",
       "      <td>9.0</td>\n",
       "    </tr>\n",
       "    <tr>\n",
       "      <th>10</th>\n",
       "      <td>Manav</td>\n",
       "      <td>18121.0</td>\n",
       "      <td>715.0</td>\n",
       "      <td>6.0</td>\n",
       "    </tr>\n",
       "    <tr>\n",
       "      <th>11</th>\n",
       "      <td>0</td>\n",
       "      <td>18168.0</td>\n",
       "      <td>0.0</td>\n",
       "      <td>8.0</td>\n",
       "    </tr>\n",
       "  </tbody>\n",
       "</table>\n",
       "</div>"
      ],
      "text/plain": [
       "   Student Name  Roll No.  Subject ID  Grade Point\n",
       "0             0   18229.0       204.0          9.0\n",
       "1      Shivansh   18232.0         0.0          0.0\n",
       "2       Ishdeep       0.0       201.0          7.0\n",
       "3     Siddharth   18247.0       105.0          0.0\n",
       "4             0   18136.0         0.0          8.0\n",
       "5       Prakhar       0.0       204.0          7.0\n",
       "6          Yash   18283.0       101.0          9.0\n",
       "7        Srikar   18310.0       101.0         10.0\n",
       "8      Kaustubh   18102.0         0.0          0.0\n",
       "9        Aditya   18012.0       165.0          9.0\n",
       "10        Manav   18121.0       715.0          6.0\n",
       "11            0   18168.0         0.0          8.0"
      ]
     },
     "execution_count": 16,
     "metadata": {},
     "output_type": "execute_result"
    }
   ],
   "source": [
    "df"
   ]
  },
  {
   "cell_type": "code",
   "execution_count": 17,
   "id": "0adabe9a",
   "metadata": {},
   "outputs": [],
   "source": [
    "c = df.select_dtypes(np.number).columns\n",
    "\n",
    "df[c] = df[c].fillna(0)"
   ]
  },
  {
   "cell_type": "code",
   "execution_count": 18,
   "id": "d34d492c",
   "metadata": {},
   "outputs": [
    {
     "data": {
      "text/html": [
       "<div>\n",
       "<style scoped>\n",
       "    .dataframe tbody tr th:only-of-type {\n",
       "        vertical-align: middle;\n",
       "    }\n",
       "\n",
       "    .dataframe tbody tr th {\n",
       "        vertical-align: top;\n",
       "    }\n",
       "\n",
       "    .dataframe thead th {\n",
       "        text-align: right;\n",
       "    }\n",
       "</style>\n",
       "<table border=\"1\" class=\"dataframe\">\n",
       "  <thead>\n",
       "    <tr style=\"text-align: right;\">\n",
       "      <th></th>\n",
       "      <th>Student Name</th>\n",
       "      <th>Roll No.</th>\n",
       "      <th>Subject ID</th>\n",
       "      <th>Grade Point</th>\n",
       "    </tr>\n",
       "  </thead>\n",
       "  <tbody>\n",
       "    <tr>\n",
       "      <th>0</th>\n",
       "      <td>0</td>\n",
       "      <td>18229.0</td>\n",
       "      <td>204.0</td>\n",
       "      <td>9.0</td>\n",
       "    </tr>\n",
       "    <tr>\n",
       "      <th>1</th>\n",
       "      <td>Shivansh</td>\n",
       "      <td>18232.0</td>\n",
       "      <td>0.0</td>\n",
       "      <td>0.0</td>\n",
       "    </tr>\n",
       "    <tr>\n",
       "      <th>2</th>\n",
       "      <td>Ishdeep</td>\n",
       "      <td>0.0</td>\n",
       "      <td>201.0</td>\n",
       "      <td>7.0</td>\n",
       "    </tr>\n",
       "    <tr>\n",
       "      <th>3</th>\n",
       "      <td>Siddharth</td>\n",
       "      <td>18247.0</td>\n",
       "      <td>105.0</td>\n",
       "      <td>0.0</td>\n",
       "    </tr>\n",
       "    <tr>\n",
       "      <th>4</th>\n",
       "      <td>0</td>\n",
       "      <td>18136.0</td>\n",
       "      <td>0.0</td>\n",
       "      <td>8.0</td>\n",
       "    </tr>\n",
       "    <tr>\n",
       "      <th>5</th>\n",
       "      <td>Prakhar</td>\n",
       "      <td>0.0</td>\n",
       "      <td>204.0</td>\n",
       "      <td>7.0</td>\n",
       "    </tr>\n",
       "    <tr>\n",
       "      <th>6</th>\n",
       "      <td>Yash</td>\n",
       "      <td>18283.0</td>\n",
       "      <td>101.0</td>\n",
       "      <td>9.0</td>\n",
       "    </tr>\n",
       "    <tr>\n",
       "      <th>7</th>\n",
       "      <td>Srikar</td>\n",
       "      <td>18310.0</td>\n",
       "      <td>101.0</td>\n",
       "      <td>10.0</td>\n",
       "    </tr>\n",
       "    <tr>\n",
       "      <th>8</th>\n",
       "      <td>Kaustubh</td>\n",
       "      <td>18102.0</td>\n",
       "      <td>0.0</td>\n",
       "      <td>0.0</td>\n",
       "    </tr>\n",
       "    <tr>\n",
       "      <th>9</th>\n",
       "      <td>Aditya</td>\n",
       "      <td>18012.0</td>\n",
       "      <td>165.0</td>\n",
       "      <td>9.0</td>\n",
       "    </tr>\n",
       "    <tr>\n",
       "      <th>10</th>\n",
       "      <td>Manav</td>\n",
       "      <td>18121.0</td>\n",
       "      <td>715.0</td>\n",
       "      <td>6.0</td>\n",
       "    </tr>\n",
       "    <tr>\n",
       "      <th>11</th>\n",
       "      <td>0</td>\n",
       "      <td>18168.0</td>\n",
       "      <td>0.0</td>\n",
       "      <td>8.0</td>\n",
       "    </tr>\n",
       "  </tbody>\n",
       "</table>\n",
       "</div>"
      ],
      "text/plain": [
       "   Student Name  Roll No.  Subject ID  Grade Point\n",
       "0             0   18229.0       204.0          9.0\n",
       "1      Shivansh   18232.0         0.0          0.0\n",
       "2       Ishdeep       0.0       201.0          7.0\n",
       "3     Siddharth   18247.0       105.0          0.0\n",
       "4             0   18136.0         0.0          8.0\n",
       "5       Prakhar       0.0       204.0          7.0\n",
       "6          Yash   18283.0       101.0          9.0\n",
       "7        Srikar   18310.0       101.0         10.0\n",
       "8      Kaustubh   18102.0         0.0          0.0\n",
       "9        Aditya   18012.0       165.0          9.0\n",
       "10        Manav   18121.0       715.0          6.0\n",
       "11            0   18168.0         0.0          8.0"
      ]
     },
     "execution_count": 18,
     "metadata": {},
     "output_type": "execute_result"
    }
   ],
   "source": [
    "df"
   ]
  },
  {
   "cell_type": "code",
   "execution_count": 19,
   "id": "99e09cd9",
   "metadata": {},
   "outputs": [
    {
     "name": "stdout",
     "output_type": "stream",
     "text": [
      "  col1  col2 col3  col4\n",
      "0  NaN   1.0  NaN   1.0\n",
      "1    b   2.0    b   2.0\n",
      "2    c   NaN    c   NaN\n",
      "3    d   4.0    d   4.0\n"
     ]
    }
   ],
   "source": [
    "df= pd.DataFrame(data={'col1': [np.nan,'b','c','d'],\n",
    "                       'col2': [1,2,np.nan,4],\n",
    "                       'col3': [np.nan,'b','c','d'],\n",
    "                       'col4': [1,2,np.nan,4]})\n",
    "\n",
    "print (df)\n",
    "  "
   ]
  },
  {
   "cell_type": "code",
   "execution_count": 20,
   "id": "ce6442d0",
   "metadata": {},
   "outputs": [],
   "source": [
    "c = df.select_dtypes(np.number).columns\n",
    "\n",
    "df[c] = df[c].fillna(0)"
   ]
  },
  {
   "cell_type": "code",
   "execution_count": 21,
   "id": "8d067b71",
   "metadata": {},
   "outputs": [
    {
     "data": {
      "text/html": [
       "<div>\n",
       "<style scoped>\n",
       "    .dataframe tbody tr th:only-of-type {\n",
       "        vertical-align: middle;\n",
       "    }\n",
       "\n",
       "    .dataframe tbody tr th {\n",
       "        vertical-align: top;\n",
       "    }\n",
       "\n",
       "    .dataframe thead th {\n",
       "        text-align: right;\n",
       "    }\n",
       "</style>\n",
       "<table border=\"1\" class=\"dataframe\">\n",
       "  <thead>\n",
       "    <tr style=\"text-align: right;\">\n",
       "      <th></th>\n",
       "      <th>col1</th>\n",
       "      <th>col2</th>\n",
       "      <th>col3</th>\n",
       "      <th>col4</th>\n",
       "    </tr>\n",
       "  </thead>\n",
       "  <tbody>\n",
       "    <tr>\n",
       "      <th>0</th>\n",
       "      <td>NaN</td>\n",
       "      <td>1.0</td>\n",
       "      <td>NaN</td>\n",
       "      <td>1.0</td>\n",
       "    </tr>\n",
       "    <tr>\n",
       "      <th>1</th>\n",
       "      <td>b</td>\n",
       "      <td>2.0</td>\n",
       "      <td>b</td>\n",
       "      <td>2.0</td>\n",
       "    </tr>\n",
       "    <tr>\n",
       "      <th>2</th>\n",
       "      <td>c</td>\n",
       "      <td>0.0</td>\n",
       "      <td>c</td>\n",
       "      <td>0.0</td>\n",
       "    </tr>\n",
       "    <tr>\n",
       "      <th>3</th>\n",
       "      <td>d</td>\n",
       "      <td>4.0</td>\n",
       "      <td>d</td>\n",
       "      <td>4.0</td>\n",
       "    </tr>\n",
       "  </tbody>\n",
       "</table>\n",
       "</div>"
      ],
      "text/plain": [
       "  col1  col2 col3  col4\n",
       "0  NaN   1.0  NaN   1.0\n",
       "1    b   2.0    b   2.0\n",
       "2    c   0.0    c   0.0\n",
       "3    d   4.0    d   4.0"
      ]
     },
     "execution_count": 21,
     "metadata": {},
     "output_type": "execute_result"
    }
   ],
   "source": [
    "df"
   ]
  },
  {
   "cell_type": "code",
   "execution_count": 22,
   "id": "fb09bb50",
   "metadata": {},
   "outputs": [
    {
     "name": "stdout",
     "output_type": "stream",
     "text": [
      "Contents of the Dataframe : \n",
      "      A     B   C       D     E   F   G     H    I\n",
      "0  Jack   NaN  34  Sydney   NaN   5 NaN   NaN  NaN\n",
      "1  Riti  23.0  31     NaN   NaN   7 NaN   NaN  NaN\n",
      "2   NaN   NaN  16  London  32.0  11 NaN   3.0  NaN\n",
      "3  Mark   NaN  41   Delhi   NaN  12 NaN  11.0  1.0\n"
     ]
    }
   ],
   "source": [
    "empoyees = [('Jack', np.NaN, 34, 'Sydney', np.NaN,  5,  np.NaN, np.NaN, np.NaN),\n",
    "            ('Riti', 23    , 31, np.NaN , np.NaN,  7,  np.NaN, np.NaN, np.NaN),\n",
    "            (np.NaN, np.NaN, 16, 'London', 32,      11, np.NaN, 3, np.NaN),\n",
    "            ('Mark', np.NaN, 41, 'Delhi' , np.NaN,  12, np.NaN, 11, 1)]\n",
    "\n",
    "\n",
    "\n",
    "# Create a DataFrame object\n",
    "df = pd.DataFrame(  empoyees,\n",
    "                    columns=['A', 'B', 'C', 'D', 'E', 'F', 'G', 'H', 'I'])\n",
    "print(\"Contents of the Dataframe : \")\n",
    "print(df)"
   ]
  },
  {
   "cell_type": "code",
   "execution_count": 23,
   "id": "0c5a9d26",
   "metadata": {},
   "outputs": [],
   "source": [
    "def rmissingvaluecol(dff, threshold):\n",
    "    l = []\n",
    "    l = list(dff.drop(dff.loc[:,list((100*(dff.isnull().sum()/len(dff.index)) >= threshold))].columns, 1).columns.values)\n",
    "    print(\"# Columns having more than %s percent missing values: \"%threshold, (dff.shape[1] - len(l)))\n",
    "    print(\"Columns:\\n\", list(set(list((dff.columns.values))) - set(l)))\n",
    "    return l"
   ]
  },
  {
   "cell_type": "code",
   "execution_count": null,
   "id": "1a00cfd4",
   "metadata": {},
   "outputs": [],
   "source": [
    "# Delete columns containing either 95% or more than 95% NaN Values\n",
    "perc = 95.0\n",
    "min_count =  int(((100-perc)/100)*df.shape[0] + 1)\n",
    "df = df.dropna( axis=1, thresh=min_count,inplace=True)\n",
    "print(\"Modified Dataframe : \")\n",
    "print(df)"
   ]
  },
  {
   "cell_type": "code",
   "execution_count": null,
   "id": "564e9777",
   "metadata": {},
   "outputs": [],
   "source": [
    "df"
   ]
  },
  {
   "cell_type": "code",
   "execution_count": null,
   "id": "ebef6640",
   "metadata": {},
   "outputs": [],
   "source": [
    "df.dtypes"
   ]
  },
  {
   "cell_type": "code",
   "execution_count": null,
   "id": "ffb92375",
   "metadata": {},
   "outputs": [],
   "source": [
    "df.columns"
   ]
  },
  {
   "cell_type": "markdown",
   "id": "5a1fa08e",
   "metadata": {},
   "source": [
    "df.dtype='category'"
   ]
  },
  {
   "cell_type": "code",
   "execution_count": null,
   "id": "10233fec",
   "metadata": {},
   "outputs": [],
   "source": [
    "df"
   ]
  },
  {
   "cell_type": "code",
   "execution_count": null,
   "id": "eb61ec84",
   "metadata": {},
   "outputs": [],
   "source": [
    "c = df.select_dtypes('float64',\"int64\").columns\n",
    "\n",
    "df[c]=df[c].replace(np.nan,0)\n",
    "\n",
    "\n",
    "#df[[ 'B', 'C', 'E', 'F', 'H', 'I']] = df[['B', 'C', 'E', 'F', 'H', 'I']].replace(np.nan, 0)\n",
    "df"
   ]
  },
  {
   "cell_type": "code",
   "execution_count": null,
   "id": "7f6b44fd",
   "metadata": {},
   "outputs": [],
   "source": [
    "df.dtypes\n"
   ]
  },
  {
   "cell_type": "code",
   "execution_count": null,
   "id": "e4dcbf42",
   "metadata": {},
   "outputs": [],
   "source": [
    "c = df.select_dtypes('object').columns\n",
    "\n",
    "df[c]=df[c].replace(np.NaN,-99999)"
   ]
  },
  {
   "cell_type": "code",
   "execution_count": null,
   "id": "139caa8c",
   "metadata": {},
   "outputs": [],
   "source": [
    "df.info()"
   ]
  },
  {
   "cell_type": "code",
   "execution_count": null,
   "id": "a553aa47",
   "metadata": {},
   "outputs": [],
   "source": [
    "df"
   ]
  },
  {
   "cell_type": "code",
   "execution_count": null,
   "id": "f2a744e3",
   "metadata": {},
   "outputs": [],
   "source": [
    "def missingvaluecol(df, threshold):\n",
    "    perc = 95.0\n",
    "    min_count =  int(((100-perc)/100)*df.shape[0] + 1)\n",
    "    df = df.dropna( axis=1, thresh=min_count)\n",
    "    print(\"Modified Dataframe : \")\n",
    "    print([df])"
   ]
  },
  {
   "cell_type": "code",
   "execution_count": null,
   "id": "00668eaf",
   "metadata": {},
   "outputs": [],
   "source": [
    "missingvaluecol(df, 0.95)"
   ]
  },
  {
   "cell_type": "code",
   "execution_count": null,
   "id": "a9143203",
   "metadata": {},
   "outputs": [],
   "source": []
  },
  {
   "cell_type": "code",
   "execution_count": null,
   "id": "f2cfb0ca",
   "metadata": {},
   "outputs": [],
   "source": [
    "df"
   ]
  },
  {
   "cell_type": "code",
   "execution_count": null,
   "id": "bdd88f96",
   "metadata": {},
   "outputs": [],
   "source": [
    "empoyees = [('Jack', np.NaN, 34, 'Sydney', np.NaN,  5,  np.NaN, np.NaN, np.NaN),\n",
    "            ('Riti', 23    , 31, np.NaN , np.NaN,  7,  np.NaN, np.NaN, np.NaN),\n",
    "            (np.NaN, np.NaN, 16, 'London', 32,      11, np.NaN, 3, np.NaN),\n",
    "            ('Mark', np.NaN, 41, 'Delhi' , np.NaN,  12, np.NaN, 11, 1)]\n",
    "\n",
    "\n",
    "\n",
    "# Create a DataFrame object\n",
    "df = pd.DataFrame(  empoyees,\n",
    "                    columns=['A', 'B', 'C', 'D', 'E', 'F', 'G', 'H', 'I'])\n",
    "print(\"Contents of the Dataframe : \")\n",
    "print(df)"
   ]
  },
  {
   "cell_type": "code",
   "execution_count": null,
   "id": "5938caa7",
   "metadata": {},
   "outputs": [],
   "source": [
    "df.info()"
   ]
  },
  {
   "cell_type": "code",
   "execution_count": null,
   "id": "5af7261d",
   "metadata": {},
   "outputs": [],
   "source": [
    "#class data:\n",
    "\n",
    "def missingvaluecol(df, threshold):\n",
    "    perc = 95.0\n",
    "    min_count =  int(((100-perc)/100)*df.shape[1]+1 )\n",
    "    df = df.dropna( axis=1, thresh=min_count,inplace=True)\n",
    "\n",
    "    #print(\"Modified Dataframe : \")\n",
    "    print(df)\n",
    "    \n",
    "def replace_numeric(df,value): \n",
    "    c = df.select_dtypes(\"float64\",\"int64\").columns\n",
    "    df[c]=df[c].replace(np.nan,value)\n",
    "    print(df)\n",
    "    \n",
    "def replace_catagory(df,value):     \n",
    "    c = df.select_dtypes('object').columns\n",
    "    df[c]=df[c].replace(np.NaN,value)    "
   ]
  },
  {
   "cell_type": "code",
   "execution_count": null,
   "id": "ee981b24",
   "metadata": {},
   "outputs": [],
   "source": [
    "class data :\n",
    "    \n",
    "    \n",
    "    #def my_function(df,value):\n",
    "    \n",
    "    def missingvaluecol(df, threshold):                                 #if  perc <= 95.0:\n",
    "        perc = 95.0\n",
    "        min_count =  int(((100-perc)/100)*df.shape[1]+1 )\n",
    "        df = df.dropna( axis=1, thresh=min_count,inplace=True)\n",
    "        return df\n",
    "\n",
    "    def replace_numeric(df,value): \n",
    "        #if type == int and float64 :\n",
    "        #else:\n",
    "            df.c = df.select_dtypes(\"float64\",\"int64\").columns\n",
    "            df.df[c]=df[c].replace(np.nan,0)\n",
    "            print(df)\n",
    "    \n",
    "    def replace_catagory(df,value):     \n",
    "        #if type == object:\n",
    "            df.c = df.select_dtypes('object').columns\n",
    "            df.df[c]=df[c].replace(np.NaN,value)\n",
    "            print(df)"
   ]
  },
  {
   "cell_type": "code",
   "execution_count": null,
   "id": "a3d9e7cb",
   "metadata": {},
   "outputs": [],
   "source": [
    "df=data"
   ]
  },
  {
   "cell_type": "code",
   "execution_count": null,
   "id": "b53331e0",
   "metadata": {},
   "outputs": [],
   "source": [
    "missingvaluecol(df,95)"
   ]
  },
  {
   "cell_type": "code",
   "execution_count": null,
   "id": "70b218fd",
   "metadata": {},
   "outputs": [],
   "source": [
    "df"
   ]
  },
  {
   "cell_type": "code",
   "execution_count": null,
   "id": "d37e1767",
   "metadata": {},
   "outputs": [],
   "source": [
    "def tri_recursion(k):\n",
    "    if(k > 0):\n",
    "        result = k + tri_recursion(k - 1)\n",
    "        print(result)\n",
    "    else:\n",
    "        result = 0\n",
    "    return result\n",
    "\n",
    "print(\"\\n\\nRecursion Example Results\")\n",
    "tri_recursion(6)"
   ]
  },
  {
   "cell_type": "code",
   "execution_count": null,
   "id": "595d49d2",
   "metadata": {},
   "outputs": [],
   "source": [
    "#def my_function():\n",
    "      #print(\"Hello from a function\")"
   ]
  },
  {
   "cell_type": "code",
   "execution_count": null,
   "id": "f04f408f",
   "metadata": {},
   "outputs": [],
   "source": [
    "my_function(df)"
   ]
  },
  {
   "cell_type": "code",
   "execution_count": null,
   "id": "c134e226",
   "metadata": {},
   "outputs": [],
   "source": [
    "df"
   ]
  },
  {
   "cell_type": "code",
   "execution_count": null,
   "id": "14bceeb3",
   "metadata": {},
   "outputs": [],
   "source": [
    "my_function(df,95.0)"
   ]
  },
  {
   "cell_type": "code",
   "execution_count": null,
   "id": "4f49faf9",
   "metadata": {},
   "outputs": [],
   "source": [
    "replace_numeric(df,0)"
   ]
  },
  {
   "cell_type": "code",
   "execution_count": null,
   "id": "46b5b0e7",
   "metadata": {},
   "outputs": [],
   "source": [
    "df"
   ]
  },
  {
   "cell_type": "code",
   "execution_count": null,
   "id": "e7feadac",
   "metadata": {},
   "outputs": [],
   "source": [
    "missingvaluecol(df,95)"
   ]
  },
  {
   "cell_type": "code",
   "execution_count": null,
   "id": "7cdea548",
   "metadata": {},
   "outputs": [],
   "source": [
    "df"
   ]
  },
  {
   "cell_type": "code",
   "execution_count": null,
   "id": "c6e91f93",
   "metadata": {},
   "outputs": [],
   "source": [
    "replace_numeric(df,0)"
   ]
  },
  {
   "cell_type": "code",
   "execution_count": null,
   "id": "0f4890cd",
   "metadata": {},
   "outputs": [],
   "source": [
    "df"
   ]
  },
  {
   "cell_type": "code",
   "execution_count": null,
   "id": "8f0151ff",
   "metadata": {},
   "outputs": [],
   "source": [
    "replace_catagory(df,-99999)"
   ]
  },
  {
   "cell_type": "code",
   "execution_count": null,
   "id": "4caa2011",
   "metadata": {},
   "outputs": [],
   "source": [
    "df"
   ]
  },
  {
   "cell_type": "code",
   "execution_count": null,
   "id": "7334a2e2",
   "metadata": {},
   "outputs": [],
   "source": [
    "df"
   ]
  },
  {
   "cell_type": "code",
   "execution_count": null,
   "id": "20d098e1",
   "metadata": {},
   "outputs": [],
   "source": [
    "df.info()"
   ]
  },
  {
   "cell_type": "code",
   "execution_count": null,
   "id": "3ee04beb",
   "metadata": {},
   "outputs": [],
   "source": [
    " perc = 95.0\n",
    "    min_count =  int(((100-perc)/100)*df.shape[0] + 1)\n",
    "    df = df.dropna( axis=1, thresh=min_count)"
   ]
  },
  {
   "cell_type": "code",
   "execution_count": null,
   "id": "42d295b5",
   "metadata": {},
   "outputs": [],
   "source": [
    "Size = 4122\n",
    "Shape=(458, 9)\n",
    "Shape[0] x Shape[1] = 4122\n",
    "ndim of dataframe = 2\n",
    "ndim of series=1"
   ]
  },
  {
   "cell_type": "code",
   "execution_count": null,
   "id": "9aed0d25",
   "metadata": {},
   "outputs": [],
   "source": [
    "df = pd.DataFrame({\"name\": ['Alfred', 'Batman', 'Catwoman'],\n",
    "                  \"toy\": [np.nan, 'Batmobile', 'Bullwhip'],\n",
    "                   \"born\": [pd.NaT, pd.Timestamp(\"1940-04-25\"),\n",
    "                            pd.NaT]})\n",
    "df"
   ]
  },
  {
   "cell_type": "code",
   "execution_count": null,
   "id": "2a825e9b",
   "metadata": {},
   "outputs": [],
   "source": [
    "df.dropna()"
   ]
  },
  {
   "cell_type": "code",
   "execution_count": null,
   "id": "cc770ea7",
   "metadata": {},
   "outputs": [],
   "source": [
    "df.dropna(axis='columns')"
   ]
  },
  {
   "cell_type": "code",
   "execution_count": null,
   "id": "7f7641ce",
   "metadata": {},
   "outputs": [],
   "source": [
    "df.dropna(how='all')"
   ]
  },
  {
   "cell_type": "code",
   "execution_count": null,
   "id": "5c12d894",
   "metadata": {},
   "outputs": [],
   "source": [
    "df.dropna(thresh=3)"
   ]
  },
  {
   "cell_type": "code",
   "execution_count": null,
   "id": "bec58350",
   "metadata": {},
   "outputs": [],
   "source": [
    "df.dropna(inplace=True)"
   ]
  },
  {
   "cell_type": "code",
   "execution_count": null,
   "id": "553e3a96",
   "metadata": {},
   "outputs": [],
   "source": [
    "df"
   ]
  },
  {
   "cell_type": "code",
   "execution_count": null,
   "id": "a6a98378",
   "metadata": {},
   "outputs": [],
   "source": [
    "empoyees = [('Jack', np.NaN, 34, 'Sydney', np.NaN,  5,  np.NaN, np.NaN, np.NaN),\n",
    "            ('Riti', 23    , 31, np.NaN , np.NaN,  7,  np.NaN, np.NaN, np.NaN),\n",
    "            (np.NaN, np.NaN, 16, 'London', 32,      11, np.NaN, 3, np.NaN),\n",
    "            ('Mark', np.NaN, 41, 'Delhi' , np.NaN,  12, np.NaN, 11, 1)]\n",
    "\n",
    "\n",
    "\n",
    "# Create a DataFrame object\n",
    "df = pd.DataFrame(  empoyees,\n",
    "                    columns=['A', 'B', 'C', 'D', 'E', 'F', 'G', 'H', 'I'])\n",
    "print(\"Contents of the Dataframe : \")\n",
    "print(df)"
   ]
  },
  {
   "cell_type": "code",
   "execution_count": null,
   "id": "55e0b808",
   "metadata": {},
   "outputs": [],
   "source": [
    "for col in df.columns: \n",
    "    if sum(df[col].isnull())/float(len(df.index)) > 0.8: \n",
    "        del df[col]"
   ]
  },
  {
   "cell_type": "code",
   "execution_count": null,
   "id": "e8883861",
   "metadata": {},
   "outputs": [],
   "source": [
    "df = df.loc[:, df.isnull().mean() < .8]"
   ]
  },
  {
   "cell_type": "code",
   "execution_count": null,
   "id": "d3642890",
   "metadata": {},
   "outputs": [],
   "source": [
    "for col in df.columns: \n",
    "    if sum(df[col].isnull()>0.95): \n",
    "        del df[col]"
   ]
  },
  {
   "cell_type": "code",
   "execution_count": null,
   "id": "a9f39c2f",
   "metadata": {},
   "outputs": [],
   "source": [
    "df"
   ]
  },
  {
   "cell_type": "code",
   "execution_count": null,
   "id": "da070931",
   "metadata": {},
   "outputs": [],
   "source": [
    "df"
   ]
  },
  {
   "cell_type": "code",
   "execution_count": null,
   "id": "ee8ba7a6",
   "metadata": {},
   "outputs": [],
   "source": [
    "df.dropna(axis=1, thresh = int(0.8*df.shape[]), inplace=True)"
   ]
  },
  {
   "cell_type": "code",
   "execution_count": null,
   "id": "dbe184f1",
   "metadata": {},
   "outputs": [],
   "source": [
    "df.shape[1]"
   ]
  },
  {
   "cell_type": "code",
   "execution_count": null,
   "id": "06908f7e",
   "metadata": {},
   "outputs": [],
   "source": [
    "import pandas as pd\n",
    "import numpy as np\n",
    "\n",
    "empoyees = [('Jack', np.NaN, 34, 'Sydney', np.NaN,  5,  np.NaN, np.NaN, np.NaN),\n",
    "            ('Riti', 23    , 31, np.NaN , np.NaN,  7,  np.NaN, np.NaN, np.NaN),\n",
    "            (np.NaN, np.NaN, 16, 'London', 32,      11, np.NaN, 3, np.NaN),\n",
    "            ('Mark', np.NaN, 41, 'Delhi' , np.NaN,  12, np.NaN, 11, 1)]\n",
    "\n",
    "\n",
    "\n",
    "# Create a DataFrame object\n",
    "df = pd.DataFrame(  empoyees,\n",
    "                    columns=['A', 'B', 'C', 'D', 'E', 'F', 'G', 'H', 'I'])"
   ]
  },
  {
   "cell_type": "code",
   "execution_count": null,
   "id": "0b982c13",
   "metadata": {},
   "outputs": [],
   "source": [
    "categorical_variables= (df.select_dtypes('object') ) # categorical variables\n",
    "\n",
    "categ_var_list=(list(categorical_variables))\n",
    "print(categ_var_list)\n",
    "\n",
    "condition_pivot_list_names=[]\n",
    "pivot_values_list=[]\n",
    "for i in categ_var_list:\n",
    "    condition_pivot = df.pivot_table(index=i, values='weight', aggfunc=np.mean)\n",
    "    pivot_names = (condition_pivot.index.values.tolist())\n",
    "    condition_pivot_list_names.append(pivot_names)\n",
    "    pivot_values_draft = ((condition_pivot.values.tolist()))\n",
    "    pivot_values = [i[0] for i in pivot_values_draft]\n",
    "    pivot_values_list.append(pivot_values)\n",
    "print(condition_pivot_list_names, 'condition pivot list names')\n",
    "print(pivot_values_list,'pivot values list')\n",
    "\n",
    "\n",
    "sublist_names=[(sublists) for sublists in condition_pivot_list_names]\n",
    "print(sublist_names)\n",
    "\n",
    "\n",
    "sublist_values=[(sublists1) for sublists1 in pivot_values_list]\n",
    "print(sublist_values)\n",
    "\n",
    "def myfunc(x):\n",
    "if x in sublist_names:\n",
    "    index=sublist_names.index(x)\n",
    "    return sublist_values[index]\n",
    "return x\n",
    "\n",
    "df['Name'] = df['Name'].apply(lambda x: myfunc(x))\n",
    "\n",
    "print(df['Name'])"
   ]
  },
  {
   "cell_type": "code",
   "execution_count": null,
   "id": "94925212",
   "metadata": {},
   "outputs": [],
   "source": [
    "df.info()"
   ]
  },
  {
   "cell_type": "code",
   "execution_count": null,
   "id": "401c4349",
   "metadata": {},
   "outputs": [],
   "source": [
    "df.select_dtypes(('int64',\"float64\"))"
   ]
  },
  {
   "cell_type": "code",
   "execution_count": null,
   "id": "04735c5d",
   "metadata": {},
   "outputs": [],
   "source": [
    "df"
   ]
  },
  {
   "cell_type": "code",
   "execution_count": null,
   "id": "6e1806df",
   "metadata": {},
   "outputs": [],
   "source": [
    "df.index.isnull()"
   ]
  },
  {
   "cell_type": "code",
   "execution_count": null,
   "id": "fbab391b",
   "metadata": {},
   "outputs": [],
   "source": [
    "categorical_variables= (df.select_dtypes('object') ) # categorical variables\n",
    "\n",
    "categ_var_list=(list(categorical_variables))"
   ]
  },
  {
   "cell_type": "code",
   "execution_count": null,
   "id": "03b55aa9",
   "metadata": {},
   "outputs": [],
   "source": [
    "categ_var_list"
   ]
  },
  {
   "cell_type": "code",
   "execution_count": null,
   "id": "a5a294e1",
   "metadata": {},
   "outputs": [],
   "source": [
    "condition_pivot_list_names=[]\n",
    "pivot_values_list=[]\n",
    "for i in categ_var_list:\n",
    "    condition_pivot = df.pivot_table(index=i, values='-999999', agg)\n",
    "    pivot_names = (condition_pivot.index.values.tolist())\n",
    "    condition_pivot_list_names.append(pivot_names)\n",
    "    pivot_values_draft = ((condition_pivot.values.tolist()))\n",
    "    pivot_values = [i[0] for i in pivot_values_draft]\n",
    "    pivot_values_list.append(pivot_values)"
   ]
  },
  {
   "cell_type": "code",
   "execution_count": 42,
   "id": "3e7b7ac3",
   "metadata": {},
   "outputs": [
    {
     "name": "stdout",
     "output_type": "stream",
     "text": [
      "0\n"
     ]
    }
   ],
   "source": [
    "x=2\n",
    "for i in range(10):\n",
    "    if i/2==0 :\n",
    "        x*=i\n",
    "        print(x)"
   ]
  },
  {
   "cell_type": "code",
   "execution_count": 52,
   "id": "a25cfe10",
   "metadata": {},
   "outputs": [
    {
     "name": "stdout",
     "output_type": "stream",
     "text": [
      "0\n",
      "-2\n",
      "-6\n",
      "-12\n",
      "-20\n"
     ]
    }
   ],
   "source": [
    "x=0\n",
    "for i in range(10):\n",
    "    if i%2==0 :\n",
    "        x-=i\n",
    "        print(x)"
   ]
  },
  {
   "cell_type": "code",
   "execution_count": 50,
   "id": "25d2cacd",
   "metadata": {},
   "outputs": [],
   "source": [
    "x=10\n",
    "\n",
    "x+=5"
   ]
  },
  {
   "cell_type": "code",
   "execution_count": 44,
   "id": "d44ded51",
   "metadata": {},
   "outputs": [
    {
     "ename": "SyntaxError",
     "evalue": "invalid syntax (Temp/ipykernel_14560/3615754344.py, line 1)",
     "output_type": "error",
     "traceback": [
      "\u001b[1;36m  File \u001b[1;32m\"C:\\Users\\sony\\AppData\\Local\\Temp/ipykernel_14560/3615754344.py\"\u001b[1;36m, line \u001b[1;32m1\u001b[0m\n\u001b[1;33m    print(x+=5)\u001b[0m\n\u001b[1;37m           ^\u001b[0m\n\u001b[1;31mSyntaxError\u001b[0m\u001b[1;31m:\u001b[0m invalid syntax\n"
     ]
    }
   ],
   "source": [
    "print(x+=5)\n"
   ]
  },
  {
   "cell_type": "code",
   "execution_count": null,
   "id": "0b436efc",
   "metadata": {},
   "outputs": [],
   "source": []
  }
 ],
 "metadata": {
  "kernelspec": {
   "display_name": "Python 3 (ipykernel)",
   "language": "python",
   "name": "python3"
  },
  "language_info": {
   "codemirror_mode": {
    "name": "ipython",
    "version": 3
   },
   "file_extension": ".py",
   "mimetype": "text/x-python",
   "name": "python",
   "nbconvert_exporter": "python",
   "pygments_lexer": "ipython3",
   "version": "3.9.7"
  }
 },
 "nbformat": 4,
 "nbformat_minor": 5
}
