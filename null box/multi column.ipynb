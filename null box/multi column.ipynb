{
 "cells": [
  {
   "cell_type": "code",
   "execution_count": 1,
   "id": "8078b432",
   "metadata": {},
   "outputs": [],
   "source": [
    "import pandas as pd\n",
    "import matplotlib.pyplot as plt\n",
    "import seaborn as sns\n",
    "import numpy as np\n",
    "%matplotlib inline"
   ]
  },
  {
   "cell_type": "code",
   "execution_count": 2,
   "id": "e01bd97f",
   "metadata": {},
   "outputs": [],
   "source": [
    "Url = \"https://raw.githubusercontent.com/BigDataGal/Python-for-Data-Science/master/titanic-train.csv\""
   ]
  },
  {
   "cell_type": "code",
   "execution_count": 3,
   "id": "ab0e1e03",
   "metadata": {},
   "outputs": [],
   "source": [
    "data = pd.read_csv(Url)"
   ]
  },
  {
   "cell_type": "code",
   "execution_count": 4,
   "id": "98c62126",
   "metadata": {},
   "outputs": [
    {
     "data": {
      "text/html": [
       "<div>\n",
       "<style scoped>\n",
       "    .dataframe tbody tr th:only-of-type {\n",
       "        vertical-align: middle;\n",
       "    }\n",
       "\n",
       "    .dataframe tbody tr th {\n",
       "        vertical-align: top;\n",
       "    }\n",
       "\n",
       "    .dataframe thead th {\n",
       "        text-align: right;\n",
       "    }\n",
       "</style>\n",
       "<table border=\"1\" class=\"dataframe\">\n",
       "  <thead>\n",
       "    <tr style=\"text-align: right;\">\n",
       "      <th></th>\n",
       "      <th>PassengerId</th>\n",
       "      <th>Survived</th>\n",
       "      <th>Pclass</th>\n",
       "      <th>Name</th>\n",
       "      <th>Sex</th>\n",
       "      <th>Age</th>\n",
       "      <th>SibSp</th>\n",
       "      <th>Parch</th>\n",
       "      <th>Ticket</th>\n",
       "      <th>Fare</th>\n",
       "      <th>Cabin</th>\n",
       "      <th>Embarked</th>\n",
       "    </tr>\n",
       "  </thead>\n",
       "  <tbody>\n",
       "    <tr>\n",
       "      <th>0</th>\n",
       "      <td>1</td>\n",
       "      <td>0</td>\n",
       "      <td>3</td>\n",
       "      <td>Braund, Mr. Owen Harris</td>\n",
       "      <td>male</td>\n",
       "      <td>22.0</td>\n",
       "      <td>1</td>\n",
       "      <td>0</td>\n",
       "      <td>A/5 21171</td>\n",
       "      <td>7.2500</td>\n",
       "      <td>NaN</td>\n",
       "      <td>S</td>\n",
       "    </tr>\n",
       "    <tr>\n",
       "      <th>1</th>\n",
       "      <td>2</td>\n",
       "      <td>1</td>\n",
       "      <td>1</td>\n",
       "      <td>Cumings, Mrs. John Bradley (Florence Briggs Th...</td>\n",
       "      <td>female</td>\n",
       "      <td>38.0</td>\n",
       "      <td>1</td>\n",
       "      <td>0</td>\n",
       "      <td>PC 17599</td>\n",
       "      <td>71.2833</td>\n",
       "      <td>C85</td>\n",
       "      <td>C</td>\n",
       "    </tr>\n",
       "    <tr>\n",
       "      <th>2</th>\n",
       "      <td>3</td>\n",
       "      <td>1</td>\n",
       "      <td>3</td>\n",
       "      <td>Heikkinen, Miss. Laina</td>\n",
       "      <td>female</td>\n",
       "      <td>26.0</td>\n",
       "      <td>0</td>\n",
       "      <td>0</td>\n",
       "      <td>STON/O2. 3101282</td>\n",
       "      <td>7.9250</td>\n",
       "      <td>NaN</td>\n",
       "      <td>S</td>\n",
       "    </tr>\n",
       "    <tr>\n",
       "      <th>3</th>\n",
       "      <td>4</td>\n",
       "      <td>1</td>\n",
       "      <td>1</td>\n",
       "      <td>Futrelle, Mrs. Jacques Heath (Lily May Peel)</td>\n",
       "      <td>female</td>\n",
       "      <td>35.0</td>\n",
       "      <td>1</td>\n",
       "      <td>0</td>\n",
       "      <td>113803</td>\n",
       "      <td>53.1000</td>\n",
       "      <td>C123</td>\n",
       "      <td>S</td>\n",
       "    </tr>\n",
       "    <tr>\n",
       "      <th>4</th>\n",
       "      <td>5</td>\n",
       "      <td>0</td>\n",
       "      <td>3</td>\n",
       "      <td>Allen, Mr. William Henry</td>\n",
       "      <td>male</td>\n",
       "      <td>35.0</td>\n",
       "      <td>0</td>\n",
       "      <td>0</td>\n",
       "      <td>373450</td>\n",
       "      <td>8.0500</td>\n",
       "      <td>NaN</td>\n",
       "      <td>S</td>\n",
       "    </tr>\n",
       "  </tbody>\n",
       "</table>\n",
       "</div>"
      ],
      "text/plain": [
       "   PassengerId  Survived  Pclass  \\\n",
       "0            1         0       3   \n",
       "1            2         1       1   \n",
       "2            3         1       3   \n",
       "3            4         1       1   \n",
       "4            5         0       3   \n",
       "\n",
       "                                                Name     Sex   Age  SibSp  \\\n",
       "0                            Braund, Mr. Owen Harris    male  22.0      1   \n",
       "1  Cumings, Mrs. John Bradley (Florence Briggs Th...  female  38.0      1   \n",
       "2                             Heikkinen, Miss. Laina  female  26.0      0   \n",
       "3       Futrelle, Mrs. Jacques Heath (Lily May Peel)  female  35.0      1   \n",
       "4                           Allen, Mr. William Henry    male  35.0      0   \n",
       "\n",
       "   Parch            Ticket     Fare Cabin Embarked  \n",
       "0      0         A/5 21171   7.2500   NaN        S  \n",
       "1      0          PC 17599  71.2833   C85        C  \n",
       "2      0  STON/O2. 3101282   7.9250   NaN        S  \n",
       "3      0            113803  53.1000  C123        S  \n",
       "4      0            373450   8.0500   NaN        S  "
      ]
     },
     "execution_count": 4,
     "metadata": {},
     "output_type": "execute_result"
    }
   ],
   "source": [
    "data.head()"
   ]
  },
  {
   "cell_type": "code",
   "execution_count": 5,
   "id": "1c2032f1",
   "metadata": {},
   "outputs": [
    {
     "data": {
      "text/plain": [
       "PassengerId      int64\n",
       "Survived         int64\n",
       "Pclass           int64\n",
       "Name            object\n",
       "Sex             object\n",
       "Age            float64\n",
       "SibSp            int64\n",
       "Parch            int64\n",
       "Ticket          object\n",
       "Fare           float64\n",
       "Cabin           object\n",
       "Embarked        object\n",
       "dtype: object"
      ]
     },
     "execution_count": 5,
     "metadata": {},
     "output_type": "execute_result"
    }
   ],
   "source": [
    "data.dtypes"
   ]
  },
  {
   "cell_type": "code",
   "execution_count": 6,
   "id": "2e4136a5",
   "metadata": {},
   "outputs": [
    {
     "data": {
      "text/plain": [
       "Index(['PassengerId', 'Survived', 'Pclass', 'Name', 'Sex', 'Age', 'SibSp',\n",
       "       'Parch', 'Ticket', 'Fare', 'Cabin', 'Embarked'],\n",
       "      dtype='object')"
      ]
     },
     "execution_count": 6,
     "metadata": {},
     "output_type": "execute_result"
    }
   ],
   "source": [
    "data.columns"
   ]
  },
  {
   "cell_type": "code",
   "execution_count": 7,
   "id": "1aa44c5f",
   "metadata": {},
   "outputs": [
    {
     "data": {
      "text/plain": [
       "PassengerId      0\n",
       "Survived         0\n",
       "Pclass           0\n",
       "Name             0\n",
       "Sex              0\n",
       "Age            177\n",
       "SibSp            0\n",
       "Parch            0\n",
       "Ticket           0\n",
       "Fare             0\n",
       "Cabin          687\n",
       "Embarked         2\n",
       "dtype: int64"
      ]
     },
     "execution_count": 7,
     "metadata": {},
     "output_type": "execute_result"
    }
   ],
   "source": [
    "data.isnull().sum()"
   ]
  },
  {
   "cell_type": "code",
   "execution_count": 8,
   "id": "22b19fa6",
   "metadata": {},
   "outputs": [
    {
     "data": {
      "text/plain": [
       "29.69911764705882"
      ]
     },
     "execution_count": 8,
     "metadata": {},
     "output_type": "execute_result"
    }
   ],
   "source": [
    "mean=data.Age.mean()\n",
    "mean"
   ]
  },
  {
   "cell_type": "code",
   "execution_count": 9,
   "id": "c6b3a3d6",
   "metadata": {},
   "outputs": [],
   "source": [
    "def impute_nan(df,variable,mean):\n",
    "    df[variable]=df[variable].fillna(mean)"
   ]
  },
  {
   "cell_type": "code",
   "execution_count": 10,
   "id": "e5fbb7e1",
   "metadata": {},
   "outputs": [],
   "source": [
    "impute_nan(data,'Age',mean)"
   ]
  },
  {
   "cell_type": "code",
   "execution_count": 11,
   "id": "676d8933",
   "metadata": {},
   "outputs": [],
   "source": [
    "df=data[['PassengerId', 'Survived', 'Pclass', 'Age', 'SibSp','Parch', 'Fare']]"
   ]
  },
  {
   "cell_type": "code",
   "execution_count": 49,
   "id": "67651966",
   "metadata": {},
   "outputs": [
    {
     "data": {
      "text/html": [
       "<div>\n",
       "<style scoped>\n",
       "    .dataframe tbody tr th:only-of-type {\n",
       "        vertical-align: middle;\n",
       "    }\n",
       "\n",
       "    .dataframe tbody tr th {\n",
       "        vertical-align: top;\n",
       "    }\n",
       "\n",
       "    .dataframe thead th {\n",
       "        text-align: right;\n",
       "    }\n",
       "</style>\n",
       "<table border=\"1\" class=\"dataframe\">\n",
       "  <thead>\n",
       "    <tr style=\"text-align: right;\">\n",
       "      <th></th>\n",
       "      <th>PassengerId</th>\n",
       "      <th>Survived</th>\n",
       "      <th>Pclass</th>\n",
       "      <th>Age</th>\n",
       "      <th>SibSp</th>\n",
       "      <th>Parch</th>\n",
       "      <th>Fare</th>\n",
       "    </tr>\n",
       "  </thead>\n",
       "  <tbody>\n",
       "    <tr>\n",
       "      <th>0</th>\n",
       "      <td>223.750</td>\n",
       "      <td>0</td>\n",
       "      <td>3</td>\n",
       "      <td>29.699118</td>\n",
       "      <td>1</td>\n",
       "      <td>0</td>\n",
       "      <td>7.9177</td>\n",
       "    </tr>\n",
       "    <tr>\n",
       "      <th>1</th>\n",
       "      <td>223.750</td>\n",
       "      <td>1</td>\n",
       "      <td>2</td>\n",
       "      <td>29.699118</td>\n",
       "      <td>1</td>\n",
       "      <td>0</td>\n",
       "      <td>14.4542</td>\n",
       "    </tr>\n",
       "    <tr>\n",
       "      <th>2</th>\n",
       "      <td>223.750</td>\n",
       "      <td>1</td>\n",
       "      <td>3</td>\n",
       "      <td>29.699118</td>\n",
       "      <td>0</td>\n",
       "      <td>0</td>\n",
       "      <td>7.9250</td>\n",
       "    </tr>\n",
       "    <tr>\n",
       "      <th>3</th>\n",
       "      <td>223.750</td>\n",
       "      <td>1</td>\n",
       "      <td>2</td>\n",
       "      <td>29.699118</td>\n",
       "      <td>1</td>\n",
       "      <td>0</td>\n",
       "      <td>14.4542</td>\n",
       "    </tr>\n",
       "    <tr>\n",
       "      <th>4</th>\n",
       "      <td>223.750</td>\n",
       "      <td>0</td>\n",
       "      <td>3</td>\n",
       "      <td>29.699118</td>\n",
       "      <td>0</td>\n",
       "      <td>0</td>\n",
       "      <td>8.0500</td>\n",
       "    </tr>\n",
       "    <tr>\n",
       "      <th>...</th>\n",
       "      <td>...</td>\n",
       "      <td>...</td>\n",
       "      <td>...</td>\n",
       "      <td>...</td>\n",
       "      <td>...</td>\n",
       "      <td>...</td>\n",
       "      <td>...</td>\n",
       "    </tr>\n",
       "    <tr>\n",
       "      <th>886</th>\n",
       "      <td>882.001</td>\n",
       "      <td>0</td>\n",
       "      <td>2</td>\n",
       "      <td>29.699118</td>\n",
       "      <td>0</td>\n",
       "      <td>0</td>\n",
       "      <td>13.0000</td>\n",
       "    </tr>\n",
       "    <tr>\n",
       "      <th>887</th>\n",
       "      <td>882.001</td>\n",
       "      <td>1</td>\n",
       "      <td>2</td>\n",
       "      <td>29.699118</td>\n",
       "      <td>0</td>\n",
       "      <td>0</td>\n",
       "      <td>14.4542</td>\n",
       "    </tr>\n",
       "    <tr>\n",
       "      <th>888</th>\n",
       "      <td>882.001</td>\n",
       "      <td>0</td>\n",
       "      <td>3</td>\n",
       "      <td>29.699118</td>\n",
       "      <td>1</td>\n",
       "      <td>0</td>\n",
       "      <td>23.4500</td>\n",
       "    </tr>\n",
       "    <tr>\n",
       "      <th>889</th>\n",
       "      <td>882.001</td>\n",
       "      <td>1</td>\n",
       "      <td>2</td>\n",
       "      <td>29.699118</td>\n",
       "      <td>0</td>\n",
       "      <td>0</td>\n",
       "      <td>14.4542</td>\n",
       "    </tr>\n",
       "    <tr>\n",
       "      <th>890</th>\n",
       "      <td>882.001</td>\n",
       "      <td>0</td>\n",
       "      <td>3</td>\n",
       "      <td>29.699118</td>\n",
       "      <td>0</td>\n",
       "      <td>0</td>\n",
       "      <td>7.9177</td>\n",
       "    </tr>\n",
       "  </tbody>\n",
       "</table>\n",
       "<p>891 rows × 7 columns</p>\n",
       "</div>"
      ],
      "text/plain": [
       "     PassengerId  Survived  Pclass        Age  SibSp  Parch     Fare\n",
       "0        223.750         0       3  29.699118      1      0   7.9177\n",
       "1        223.750         1       2  29.699118      1      0  14.4542\n",
       "2        223.750         1       3  29.699118      0      0   7.9250\n",
       "3        223.750         1       2  29.699118      1      0  14.4542\n",
       "4        223.750         0       3  29.699118      0      0   8.0500\n",
       "..           ...       ...     ...        ...    ...    ...      ...\n",
       "886      882.001         0       2  29.699118      0      0  13.0000\n",
       "887      882.001         1       2  29.699118      0      0  14.4542\n",
       "888      882.001         0       3  29.699118      1      0  23.4500\n",
       "889      882.001         1       2  29.699118      0      0  14.4542\n",
       "890      882.001         0       3  29.699118      0      0   7.9177\n",
       "\n",
       "[891 rows x 7 columns]"
      ]
     },
     "execution_count": 49,
     "metadata": {},
     "output_type": "execute_result"
    }
   ],
   "source": [
    "df"
   ]
  },
  {
   "cell_type": "code",
   "execution_count": 12,
   "id": "5a3d6bec",
   "metadata": {},
   "outputs": [
    {
     "data": {
      "text/plain": [
       "PassengerId    0\n",
       "Survived       0\n",
       "Pclass         0\n",
       "Age            0\n",
       "SibSp          0\n",
       "Parch          0\n",
       "Fare           0\n",
       "dtype: int64"
      ]
     },
     "execution_count": 12,
     "metadata": {},
     "output_type": "execute_result"
    }
   ],
   "source": [
    "df.isnull().sum()"
   ]
  },
  {
   "cell_type": "code",
   "execution_count": 14,
   "id": "122e13bd",
   "metadata": {},
   "outputs": [],
   "source": [
    "def Box_plot(df):\n",
    "    plt.figure(figsize=(10,4))\n",
    "    plt.title(\"Box plot\")\n",
    "    sns.boxplot(df)\n",
    "    plt.show()\n",
    "    \n",
    "def hist_plots(df):\n",
    "    plt.figure(figsize=(10,4))\n",
    "    plt.title(\"Histogram plot\")\n",
    "    plt.hist(df)\n",
    "    plt.show()\n",
    "    \n",
    "def scatter_plots(df1,df2):\n",
    "    fig,ax = plt.subplots(figsize=(10,4))\n",
    "    ax.scatter(df1,df2)\n",
    "    ax.set_xlabel(\"123\")\n",
    "    ax.set_ylabel(\"456\")\n",
    "    plt.title(\"scatter plot\")\n",
    "    plt.show()\n",
    "    \n",
    "    \n",
    "def dist_plots(df):\n",
    "    plt.figure(figsize=(10,4))\n",
    "    plt.title(\"distrinution plot\")\n",
    "    sns.distplot(df)\n",
    "    sns.despine()\n",
    "    plt.show()"
   ]
  },
  {
   "cell_type": "code",
   "execution_count": 15,
   "id": "63b64f91",
   "metadata": {},
   "outputs": [
    {
     "name": "stderr",
     "output_type": "stream",
     "text": [
      "C:\\Users\\sony\\anaconda3\\lib\\site-packages\\seaborn\\_decorators.py:36: FutureWarning: Pass the following variable as a keyword arg: x. From version 0.12, the only valid positional argument will be `data`, and passing other arguments without an explicit keyword will result in an error or misinterpretation.\n",
      "  warnings.warn(\n"
     ]
    },
    {
     "data": {
      "image/png": "[encoded data removed]",
      "text/plain": [
       "<Figure size 720x288 with 1 Axes>"
      ]
     },
     "metadata": {
      "needs_background": "light"
     },
     "output_type": "display_data"
    }
   ],
   "source": [
    "Box_plot(df[\"Fare\"])"
   ]
  },
  {
   "cell_type": "code",
   "execution_count": 13,
   "id": "9fb2077d",
   "metadata": {
    "scrolled": true
   },
   "outputs": [
    {
     "data": {
      "image/png": "[encoded data removed]",
      "text/plain": [
       "<Figure size 1440x1440 with 1 Axes>"
      ]
     },
     "metadata": {
      "needs_background": "light"
     },
     "output_type": "display_data"
    }
   ],
   "source": [
    "fig , ax = plt.subplots(figsize=(20,20))\n",
    "sns.boxplot(data= df, ax = ax)\n",
    "plt.show()"
   ]
  },
  {
   "cell_type": "code",
   "execution_count": 16,
   "id": "307583b9",
   "metadata": {},
   "outputs": [
    {
     "name": "stdout",
     "output_type": "stream",
     "text": [
      "capping the  PassengerId\n"
     ]
    },
    {
     "name": "stderr",
     "output_type": "stream",
     "text": [
      "C:\\Users\\sony\\AppData\\Local\\Temp/ipykernel_11148/313707280.py:30: SettingWithCopyWarning: \n",
      "A value is trying to be set on a copy of a slice from a DataFrame.\n",
      "Try using .loc[row_indexer,col_indexer] = value instead\n",
      "\n",
      "See the caveats in the documentation: https://pandas.pydata.org/pandas-docs/stable/user_guide/indexing.html#returning-a-view-versus-a-copy\n",
      "  df[i]=df[i]\n"
     ]
    },
    {
     "name": "stdout",
     "output_type": "stream",
     "text": [
      "capping the  Survived\n",
      "capping the  Pclass\n",
      "capping the  Age\n"
     ]
    },
    {
     "name": "stderr",
     "output_type": "stream",
     "text": [
      "C:\\Users\\sony\\AppData\\Local\\Temp/ipykernel_11148/313707280.py:27: SettingWithCopyWarning: \n",
      "A value is trying to be set on a copy of a slice from a DataFrame.\n",
      "Try using .loc[row_indexer,col_indexer] = value instead\n",
      "\n",
      "See the caveats in the documentation: https://pandas.pydata.org/pandas-docs/stable/user_guide/indexing.html#returning-a-view-versus-a-copy\n",
      "  df[i]=df[i].replace(j, np.median(df[i]))\n"
     ]
    },
    {
     "name": "stdout",
     "output_type": "stream",
     "text": [
      "capping the  SibSp\n",
      "capping the  Parch\n",
      "capping the  Fare\n",
      "Quantile-1 (Q1):  7.9104 \n",
      "\n",
      "Quantile-2-median (Q2):  14.4542 \n",
      "\n",
      "Quantile-3 (Q3):  14.4542 \n",
      "\n",
      "Inter Quantile Range (IQR):  6.5438 \n",
      "\n",
      "lowerBound :  -1.9052999999999995 \n",
      "\n",
      "upperBound :  24.2699 \n",
      "\n",
      "Detection Success \n",
      "\n",
      "No_outliers :  [0.0, 0.0, 0.0, 0.0, 0.0, 0.0, 0.0, 0.0, 0.0, 0.0, 0.0, 0.0, 0.0, 0.0, 0.0, 4.0125, 5.0, 6.2375, 6.4375, 6.45, 6.4958, 6.4958, 6.75, 6.75, 6.8583, 6.95, 6.975, 6.975, 7.0458, 7.05, 7.05, 7.05, 7.05, 7.05, 7.05, 7.05, 7.0542, 7.0542, 7.125, 7.125, 7.125, 7.125, 7.1417, 7.225, 7.225, 7.225, 7.225, 7.225, 7.225, 7.225, 7.225, 7.225, 7.225, 7.225, 7.225, 7.2292, 7.2292, 7.2292, 7.2292, 7.2292, 7.2292, 7.2292, 7.2292, 7.2292, 7.2292, 7.2292, 7.2292, 7.2292, 7.2292, 7.2292, 7.25, 7.25, 7.25, 7.25, 7.25, 7.25, 7.25, 7.25, 7.25, 7.25, 7.25, 7.25, 7.25, 7.3125, 7.4958, 7.4958, 7.4958, 7.5208, 7.55, 7.55, 7.55, 7.55, 7.6292, 7.65, 7.65, 7.65, 7.65, 7.725, 7.7292, 7.7333, 7.7333, 7.7333, 7.7333, 7.7375, 7.7375, 7.7417, 7.75, 7.75, 7.75, 7.75, 7.75, 7.75, 7.75, 7.75, 7.75, 7.75, 7.75, 7.75, 7.75, 7.75, 7.75, 7.75, 7.75, 7.75, 7.75, 7.75, 7.75, 7.75, 7.75, 7.75, 7.75, 7.75, 7.75, 7.75, 7.75, 7.75, 7.75, 7.75, 7.75, 7.75, 7.775, 7.775, 7.775, 7.775, 7.775, 7.775, 7.775, 7.775, 7.775, 7.775, 7.775, 7.775, 7.775, 7.775, 7.775, 7.775, 7.7875, 7.7958, 7.7958, 7.7958, 7.7958, 7.7958, 7.7958, 7.8, 7.8292, 7.8292, 7.8542, 7.8542, 7.8542, 7.8542, 7.8542, 7.8542, 7.8542, 7.8542, 7.8542, 7.8542, 7.8542, 7.8542, 7.8542, 7.875, 7.8792, 7.8792, 7.8792, 7.8792, 7.8875, 7.8958, 7.8958, 7.8958, 7.8958, 7.8958, 7.8958, 7.8958, 7.8958, 7.8958, 7.8958, 7.8958, 7.8958, 7.8958, 7.8958, 7.8958, 7.8958, 7.8958, 7.8958, 7.8958, 7.8958, 7.8958, 7.8958, 7.8958, 7.8958, 7.8958, 7.8958, 7.8958, 7.8958, 7.8958, 7.8958, 7.8958, 7.8958, 7.8958, 7.8958, 7.8958, 7.8958, 7.8958, 7.8958, 7.925, 7.925, 7.925, 7.925, 7.925, 7.925, 7.925, 7.925, 7.925, 7.925, 7.925, 7.925, 7.925, 7.925, 7.925, 7.925, 7.925, 7.925, 8.0292, 8.05, 8.05, 8.05, 8.05, 8.05, 8.05, 8.05, 8.05, 8.05, 8.05, 8.05, 8.05, 8.05, 8.05, 8.05, 8.05, 8.05, 8.05, 8.05, 8.05, 8.05, 8.05, 8.05, 8.05, 8.05, 8.05, 8.05, 8.05, 8.05, 8.05, 8.05, 8.05, 8.05, 8.05, 8.05, 8.05, 8.05, 8.05, 8.05, 8.05, 8.05, 8.05, 8.05, 8.1125, 8.1375, 8.1583, 8.3, 8.3625, 8.4042, 8.4333, 8.4583, 8.5167, 8.6542, 8.6625, 8.6625, 8.6625, 8.6625, 8.6625, 8.6625, 8.6625, 8.6625, 8.6625, 8.6625, 8.6625, 8.6625, 8.6625, 8.6833, 8.7125, 8.85, 9.0, 9.0, 9.2167, 9.225, 9.225, 9.35, 9.35, 9.475, 9.4833, 9.5, 9.5, 9.5, 9.5, 9.5, 9.5, 9.5, 9.5, 9.5, 9.5875, 9.5875, 9.825, 9.825, 9.8375, 9.8417, 9.8458, 10.1708, 10.4625, 10.4625, 10.5, 10.5, 10.5, 10.5, 10.5, 10.5, 10.5, 10.5, 10.5, 10.5, 10.5, 10.5, 10.5, 10.5, 10.5, 10.5, 10.5, 10.5, 10.5, 10.5, 10.5, 10.5, 10.5, 10.5, 10.5167, 11.1333, 11.1333, 11.1333, 11.2417, 11.2417, 11.5, 11.5, 11.5, 11.5, 12.0, 12.275, 12.2875, 12.35, 12.35, 12.35, 12.475, 12.475, 12.475, 12.475, 12.525, 12.65, 12.875, 13.0, 13.0, 13.0, 13.0, 13.0, 13.0, 13.0, 13.0, 13.0, 13.0, 13.0, 13.0, 13.0, 13.0, 13.0, 13.0, 13.0, 13.0, 13.0, 13.0, 13.0, 13.0, 13.0, 13.0, 13.0, 13.0, 13.0, 13.0, 13.0, 13.0, 13.0, 13.0, 13.0, 13.0, 13.0, 13.0, 13.0, 13.0, 13.0, 13.0, 13.0, 13.0, 13.4167, 13.5, 13.5, 13.5, 13.5, 13.7917, 13.8583, 13.8625, 14.0, 14.1083, 14.4, 14.4, 14.4542, 14.4542, 14.4542, 14.4542, 14.4542, 14.4542, 14.4542, 14.4542, 14.4542, 14.4542, 14.4542, 14.4542, 14.4542, 14.4542, 14.4542, 14.4542, 14.4542, 14.4542, 14.4542, 14.4542, 14.4542, 14.4542, 14.4542, 14.4542, 14.4542, 14.4542, 14.4542, 14.4542, 14.4542, 14.4542, 14.4542, 14.4542, 14.4542, 14.4542, 14.4542, 14.4542, 14.4542, 14.4542, 14.4542, 14.4542, 14.4542, 14.4542, 14.4542, 14.4542, 14.4542, 14.4542, 14.4542, 14.4542, 14.4542, 14.4542, 14.4542, 14.4542, 14.4542, 14.4542, 14.4542, 14.4542, 14.4542, 14.4542, 14.4542, 14.4542, 14.4542, 14.4542, 14.4542, 14.4542, 14.4542, 14.4542, 14.4542, 14.4542, 14.4542, 14.4542, 14.4542, 14.4542, 14.4542, 14.4542, 14.4542, 14.4542, 14.4542, 14.4542, 14.4542, 14.4542, 14.4542, 14.4542, 14.4542, 14.4542, 14.4542, 14.4542, 14.4542, 14.4542, 14.4542, 14.4542, 14.4542, 14.4542, 14.4542, 14.4542, 14.4542, 14.4542, 14.4542, 14.4542, 14.4542, 14.4542, 14.4542, 14.4542, 14.4542, 14.4542, 14.4542, 14.4542, 14.4542, 14.4542, 14.4542, 14.4542, 14.4542, 14.4542, 14.4542, 14.4542, 14.4542, 14.4542, 14.4542, 14.4542, 14.4542, 14.4542, 14.4542, 14.4542, 14.4542, 14.4542, 14.4542, 14.4542, 14.4542, 14.4542, 14.4542, 14.4542, 14.4542, 14.4542, 14.4542, 14.4542, 14.4542, 14.4542, 14.4542, 14.4542, 14.4542, 14.4542, 14.4542, 14.4542, 14.4542, 14.4542, 14.4542, 14.4542, 14.4542, 14.4542, 14.4542, 14.4542, 14.4542, 14.4542, 14.4542, 14.4542, 14.4542, 14.4542, 14.4542, 14.4542, 14.4542, 14.4542, 14.4542, 14.4542, 14.4542, 14.4542, 14.4542, 14.4542, 14.4542, 14.4542, 14.4542, 14.4542, 14.4542, 14.4542, 14.4542, 14.4542, 14.4542, 14.4542, 14.4542, 14.4542, 14.4542, 14.4542, 14.4542, 14.4542, 14.4542, 14.4542, 14.4542, 14.4542, 14.4542, 14.4542, 14.4542, 14.4542, 14.4542, 14.4542, 14.4542, 14.4542, 14.4542, 14.4542, 14.4542, 14.4542, 14.4542, 14.4542, 14.4542, 14.4542, 14.4542, 14.4542, 14.4542, 14.4542, 14.4542, 14.4542, 14.4542, 14.4542, 14.4542, 14.4542, 14.4542, 14.4542, 14.4542, 14.4542, 14.4542, 14.4542, 14.4542, 14.4542, 14.4542, 14.4542, 14.4542, 14.4542, 14.4542, 14.4542, 14.4542, 14.4542, 14.4542, 14.4542, 14.4542, 14.4542, 14.4542, 14.4542, 14.4542, 14.4542, 14.4542, 14.4542, 14.4542, 14.4542, 14.4542, 14.4542, 14.4542, 14.4542, 14.4542, 14.4542, 14.4542, 14.4542, 14.4542, 14.4542, 14.4542, 14.4542, 14.4542, 14.4542, 14.4542, 14.4542, 14.4542, 14.4542, 14.4542, 14.4542, 14.4542, 14.4542, 14.4542, 14.4542, 14.4542, 14.4542, 14.4542, 14.4542, 14.4542, 14.4542, 14.4542, 14.4542, 14.4542, 14.4542, 14.4542, 14.4542, 14.4542, 14.4542, 14.4542, 14.4542, 14.4542, 14.4542, 14.4542, 14.4542, 14.4542, 14.4542, 14.4542, 14.4542, 14.4542, 14.4542, 14.4542, 14.4542, 14.4583, 14.4583, 14.4583, 14.5, 14.5, 14.5, 14.5, 14.5, 14.5, 14.5, 15.0, 15.0458, 15.05, 15.1, 15.2458, 15.2458, 15.2458, 15.2458, 15.2458, 15.5, 15.5, 15.5, 15.5, 15.5, 15.5, 15.5, 15.5, 15.55, 15.7417, 15.7417, 15.75, 15.85, 15.85, 15.85, 15.85, 15.9, 15.9, 16.0, 16.1, 16.1, 16.1, 16.1, 16.1, 16.1, 16.1, 16.1, 16.1, 16.7, 16.7, 17.4, 17.8, 17.8, 18.0, 18.0, 18.0, 18.75, 18.75, 18.75, 18.7875, 18.7875, 19.2583, 19.2583, 19.2583, 19.2583, 19.5, 19.5, 19.9667, 19.9667, 20.2125, 20.2125, 20.25, 20.25, 20.525, 20.525, 20.525, 20.575, 20.575, 21.0, 21.0, 21.0, 21.0, 21.0, 21.0, 21.075, 21.075, 21.075, 21.075, 21.6792, 22.025, 22.3583, 22.3583, 22.525, 23.0, 23.0, 23.0, 23.0, 23.25, 23.25, 23.45, 23.45, 24.0, 24.0, 24.15, 24.15, 24.15, 24.15, 24.15, 24.15, 24.15, 24.15] \n",
      "\n",
      "lower_fence_otlier :  [] \n",
      "\n",
      "upper_fence_otlier :  [25.4667, 25.4667, 25.4667, 25.4667, 25.5875, 25.925, 26.2833, 26.2875, 26.2875, 26.2875, 26.3875, 27.0, 27.0, 27.7208, 27.7208, 27.7208, 27.7208, 27.7208, 27.75, 27.75, 27.75, 27.75, 28.5, 28.7125, 29.0, 29.0, 30.0708, 30.0708, 30.5, 30.5, 30.5, 30.5, 30.5, 31.3875, 31.3875, 31.3875, 31.3875, 32.3208, 32.5, 33.5, 34.0208, 34.6542, 35.0, 36.75, 36.75, 38.5, 47.1, 50.0, 61.9792] \n",
      "\n",
      "Length lower_fence_otlier :  0 \n",
      "\n",
      "Length upper_fence_otlier :  49 \n",
      "\n",
      "Length Outliers :  49 \n",
      "\n"
     ]
    }
   ],
   "source": [
    "def outlier_data(df):\n",
    "    for i in df.columns:\n",
    "        print(\"capping the \",i)\n",
    "        for j in df[i]:\n",
    "            if (((df[i].dtype)=='float64') | ((df[i].dtype)=='int64')):\n",
    "                \n",
    "                Q1 = np.quantile(df[i], .25) \n",
    "                Q3 = np.quantile(df[i], .75) \n",
    "                Q2 = np.quantile(df[i], .50)\n",
    "                \n",
    "                IQR = Q3-Q1\n",
    "                lower = Q1 -(1.5 * IQR) \n",
    "                upper = Q3 +(1.5 * IQR)\n",
    "                \n",
    "                no_outliers = df[i][(Q1 - 1.5*IQR < df[i]) &  (df[i] < Q3 + 1.5*IQR)]\n",
    "    \n",
    "                outliers = df[i][(Q1 - 1.5*IQR > df[i]) |  (df[i] > Q3 + 1.5*IQR)] # or\n",
    "\n",
    "                lower_fence_otlier=df[i] [(Q1 - 1.5*IQR > df[i])]\n",
    "\n",
    "                upper_fence_otlier=df[i] [(df[i] > Q3 + 1.5*IQR)]\n",
    "                \n",
    "                \n",
    "            \n",
    "            \n",
    "            if j > upper or j < lower:\n",
    "                df[i]=df[i].replace(j, np.median(df[i]))\n",
    "                \n",
    "            else:\n",
    "                df[i]=df[i]\n",
    "                \n",
    "                \n",
    "                \n",
    "    print(\"Quantile-1 (Q1): \",Q1, \"\\n\")\n",
    "    print(\"Quantile-2-median (Q2): \",Q2, \"\\n\")\n",
    "    print(\"Quantile-3 (Q3): \",Q3, \"\\n\")\n",
    "    print(\"Inter Quantile Range (IQR): \",IQR, \"\\n\")\n",
    "    \n",
    "    print('lowerBound : ',lower,\"\\n\")\n",
    "    print('upperBound : ',upper,\"\\n\")\n",
    "    \n",
    "    \n",
    "    \n",
    "    print('Detection Success',\"\\n\")\n",
    "    \n",
    "    print('No_outliers : ',sorted(no_outliers),\"\\n\")\n",
    "    \n",
    "    \n",
    "    \n",
    "    print('lower_fence_otlier : ',sorted(lower_fence_otlier),\"\\n\")\n",
    "    \n",
    "    print('upper_fence_otlier : ',sorted(upper_fence_otlier),\"\\n\")\n",
    "    \n",
    "    \n",
    "    print('Length lower_fence_otlier : ',len(lower_fence_otlier),\"\\n\")\n",
    "    \n",
    "    print('Length upper_fence_otlier : ',len(upper_fence_otlier),\"\\n\")\n",
    "    \n",
    "    #print('Outliers : ',outliers,\"\\n\")\n",
    "    \n",
    "    print('Length Outliers : ',len(outliers),\"\\n\")\n",
    "    \n",
    "    \n",
    "    return lower,upper,df #,outliers            \n",
    "        \n",
    "    \n",
    "\n",
    "final_df=outlier_data(df)"
   ]
  },
  {
   "cell_type": "code",
   "execution_count": 50,
   "id": "ad5de3a4",
   "metadata": {},
   "outputs": [
    {
     "data": {
      "text/html": [
       "<div>\n",
       "<style scoped>\n",
       "    .dataframe tbody tr th:only-of-type {\n",
       "        vertical-align: middle;\n",
       "    }\n",
       "\n",
       "    .dataframe tbody tr th {\n",
       "        vertical-align: top;\n",
       "    }\n",
       "\n",
       "    .dataframe thead th {\n",
       "        text-align: right;\n",
       "    }\n",
       "</style>\n",
       "<table border=\"1\" class=\"dataframe\">\n",
       "  <thead>\n",
       "    <tr style=\"text-align: right;\">\n",
       "      <th></th>\n",
       "      <th>PassengerId</th>\n",
       "      <th>Survived</th>\n",
       "      <th>Pclass</th>\n",
       "      <th>Age</th>\n",
       "      <th>SibSp</th>\n",
       "      <th>Parch</th>\n",
       "      <th>Fare</th>\n",
       "    </tr>\n",
       "  </thead>\n",
       "  <tbody>\n",
       "    <tr>\n",
       "      <th>0</th>\n",
       "      <td>223.750</td>\n",
       "      <td>0</td>\n",
       "      <td>3</td>\n",
       "      <td>29.699118</td>\n",
       "      <td>1</td>\n",
       "      <td>0</td>\n",
       "      <td>7.9177</td>\n",
       "    </tr>\n",
       "    <tr>\n",
       "      <th>1</th>\n",
       "      <td>223.750</td>\n",
       "      <td>1</td>\n",
       "      <td>2</td>\n",
       "      <td>29.699118</td>\n",
       "      <td>1</td>\n",
       "      <td>0</td>\n",
       "      <td>14.4542</td>\n",
       "    </tr>\n",
       "    <tr>\n",
       "      <th>2</th>\n",
       "      <td>223.750</td>\n",
       "      <td>1</td>\n",
       "      <td>3</td>\n",
       "      <td>29.699118</td>\n",
       "      <td>0</td>\n",
       "      <td>0</td>\n",
       "      <td>7.9250</td>\n",
       "    </tr>\n",
       "    <tr>\n",
       "      <th>3</th>\n",
       "      <td>223.750</td>\n",
       "      <td>1</td>\n",
       "      <td>2</td>\n",
       "      <td>29.699118</td>\n",
       "      <td>1</td>\n",
       "      <td>0</td>\n",
       "      <td>14.4542</td>\n",
       "    </tr>\n",
       "    <tr>\n",
       "      <th>4</th>\n",
       "      <td>223.750</td>\n",
       "      <td>0</td>\n",
       "      <td>3</td>\n",
       "      <td>29.699118</td>\n",
       "      <td>0</td>\n",
       "      <td>0</td>\n",
       "      <td>8.0500</td>\n",
       "    </tr>\n",
       "    <tr>\n",
       "      <th>...</th>\n",
       "      <td>...</td>\n",
       "      <td>...</td>\n",
       "      <td>...</td>\n",
       "      <td>...</td>\n",
       "      <td>...</td>\n",
       "      <td>...</td>\n",
       "      <td>...</td>\n",
       "    </tr>\n",
       "    <tr>\n",
       "      <th>886</th>\n",
       "      <td>882.001</td>\n",
       "      <td>0</td>\n",
       "      <td>2</td>\n",
       "      <td>29.699118</td>\n",
       "      <td>0</td>\n",
       "      <td>0</td>\n",
       "      <td>13.0000</td>\n",
       "    </tr>\n",
       "    <tr>\n",
       "      <th>887</th>\n",
       "      <td>882.001</td>\n",
       "      <td>1</td>\n",
       "      <td>2</td>\n",
       "      <td>29.699118</td>\n",
       "      <td>0</td>\n",
       "      <td>0</td>\n",
       "      <td>14.4542</td>\n",
       "    </tr>\n",
       "    <tr>\n",
       "      <th>888</th>\n",
       "      <td>882.001</td>\n",
       "      <td>0</td>\n",
       "      <td>3</td>\n",
       "      <td>29.699118</td>\n",
       "      <td>1</td>\n",
       "      <td>0</td>\n",
       "      <td>23.4500</td>\n",
       "    </tr>\n",
       "    <tr>\n",
       "      <th>889</th>\n",
       "      <td>882.001</td>\n",
       "      <td>1</td>\n",
       "      <td>2</td>\n",
       "      <td>29.699118</td>\n",
       "      <td>0</td>\n",
       "      <td>0</td>\n",
       "      <td>14.4542</td>\n",
       "    </tr>\n",
       "    <tr>\n",
       "      <th>890</th>\n",
       "      <td>882.001</td>\n",
       "      <td>0</td>\n",
       "      <td>3</td>\n",
       "      <td>29.699118</td>\n",
       "      <td>0</td>\n",
       "      <td>0</td>\n",
       "      <td>7.9177</td>\n",
       "    </tr>\n",
       "  </tbody>\n",
       "</table>\n",
       "<p>891 rows × 7 columns</p>\n",
       "</div>"
      ],
      "text/plain": [
       "     PassengerId  Survived  Pclass        Age  SibSp  Parch     Fare\n",
       "0        223.750         0       3  29.699118      1      0   7.9177\n",
       "1        223.750         1       2  29.699118      1      0  14.4542\n",
       "2        223.750         1       3  29.699118      0      0   7.9250\n",
       "3        223.750         1       2  29.699118      1      0  14.4542\n",
       "4        223.750         0       3  29.699118      0      0   8.0500\n",
       "..           ...       ...     ...        ...    ...    ...      ...\n",
       "886      882.001         0       2  29.699118      0      0  13.0000\n",
       "887      882.001         1       2  29.699118      0      0  14.4542\n",
       "888      882.001         0       3  29.699118      1      0  23.4500\n",
       "889      882.001         1       2  29.699118      0      0  14.4542\n",
       "890      882.001         0       3  29.699118      0      0   7.9177\n",
       "\n",
       "[891 rows x 7 columns]"
      ]
     },
     "execution_count": 50,
     "metadata": {},
     "output_type": "execute_result"
    }
   ],
   "source": [
    "final_df"
   ]
  },
  {
   "cell_type": "code",
   "execution_count": 18,
   "id": "6c117a10",
   "metadata": {},
   "outputs": [
    {
     "name": "stderr",
     "output_type": "stream",
     "text": [
      "C:\\Users\\sony\\anaconda3\\lib\\site-packages\\seaborn\\_decorators.py:36: FutureWarning: Pass the following variable as a keyword arg: x. From version 0.12, the only valid positional argument will be `data`, and passing other arguments without an explicit keyword will result in an error or misinterpretation.\n",
      "  warnings.warn(\n"
     ]
    },
    {
     "data": {
      "image/png": "[encoded data removed]",
      "text/plain": [
       "<Figure size 720x288 with 1 Axes>"
      ]
     },
     "metadata": {
      "needs_background": "light"
     },
     "output_type": "display_data"
    }
   ],
   "source": [
    "Box_plot(df[\"Fare\"])"
   ]
  },
  {
   "cell_type": "code",
   "execution_count": null,
   "id": "60c47059",
   "metadata": {},
   "outputs": [],
   "source": []
  },
  {
   "cell_type": "code",
   "execution_count": 32,
   "id": "b2495afc",
   "metadata": {},
   "outputs": [],
   "source": [
    "df2=data[['PassengerId', 'Survived', 'Pclass', 'Age', 'SibSp','Parch', 'Fare']]"
   ]
  },
  {
   "cell_type": "code",
   "execution_count": 48,
   "id": "fe12efae",
   "metadata": {},
   "outputs": [
    {
     "data": {
      "text/html": [
       "<div>\n",
       "<style scoped>\n",
       "    .dataframe tbody tr th:only-of-type {\n",
       "        vertical-align: middle;\n",
       "    }\n",
       "\n",
       "    .dataframe tbody tr th {\n",
       "        vertical-align: top;\n",
       "    }\n",
       "\n",
       "    .dataframe thead th {\n",
       "        text-align: right;\n",
       "    }\n",
       "</style>\n",
       "<table border=\"1\" class=\"dataframe\">\n",
       "  <thead>\n",
       "    <tr style=\"text-align: right;\">\n",
       "      <th></th>\n",
       "      <th>PassengerId</th>\n",
       "      <th>Survived</th>\n",
       "      <th>Pclass</th>\n",
       "      <th>Age</th>\n",
       "      <th>SibSp</th>\n",
       "      <th>Parch</th>\n",
       "      <th>Fare</th>\n",
       "    </tr>\n",
       "  </thead>\n",
       "  <tbody>\n",
       "    <tr>\n",
       "      <th>0</th>\n",
       "      <td>1</td>\n",
       "      <td>0</td>\n",
       "      <td>3</td>\n",
       "      <td>22.000000</td>\n",
       "      <td>1</td>\n",
       "      <td>0</td>\n",
       "      <td>7.2500</td>\n",
       "    </tr>\n",
       "    <tr>\n",
       "      <th>1</th>\n",
       "      <td>2</td>\n",
       "      <td>1</td>\n",
       "      <td>1</td>\n",
       "      <td>38.000000</td>\n",
       "      <td>1</td>\n",
       "      <td>0</td>\n",
       "      <td>71.2833</td>\n",
       "    </tr>\n",
       "    <tr>\n",
       "      <th>2</th>\n",
       "      <td>3</td>\n",
       "      <td>1</td>\n",
       "      <td>3</td>\n",
       "      <td>26.000000</td>\n",
       "      <td>0</td>\n",
       "      <td>0</td>\n",
       "      <td>7.9250</td>\n",
       "    </tr>\n",
       "    <tr>\n",
       "      <th>3</th>\n",
       "      <td>4</td>\n",
       "      <td>1</td>\n",
       "      <td>1</td>\n",
       "      <td>35.000000</td>\n",
       "      <td>1</td>\n",
       "      <td>0</td>\n",
       "      <td>53.1000</td>\n",
       "    </tr>\n",
       "    <tr>\n",
       "      <th>4</th>\n",
       "      <td>5</td>\n",
       "      <td>0</td>\n",
       "      <td>3</td>\n",
       "      <td>35.000000</td>\n",
       "      <td>0</td>\n",
       "      <td>0</td>\n",
       "      <td>8.0500</td>\n",
       "    </tr>\n",
       "    <tr>\n",
       "      <th>...</th>\n",
       "      <td>...</td>\n",
       "      <td>...</td>\n",
       "      <td>...</td>\n",
       "      <td>...</td>\n",
       "      <td>...</td>\n",
       "      <td>...</td>\n",
       "      <td>...</td>\n",
       "    </tr>\n",
       "    <tr>\n",
       "      <th>886</th>\n",
       "      <td>887</td>\n",
       "      <td>0</td>\n",
       "      <td>2</td>\n",
       "      <td>27.000000</td>\n",
       "      <td>0</td>\n",
       "      <td>0</td>\n",
       "      <td>13.0000</td>\n",
       "    </tr>\n",
       "    <tr>\n",
       "      <th>887</th>\n",
       "      <td>888</td>\n",
       "      <td>1</td>\n",
       "      <td>1</td>\n",
       "      <td>19.000000</td>\n",
       "      <td>0</td>\n",
       "      <td>0</td>\n",
       "      <td>30.0000</td>\n",
       "    </tr>\n",
       "    <tr>\n",
       "      <th>888</th>\n",
       "      <td>889</td>\n",
       "      <td>0</td>\n",
       "      <td>3</td>\n",
       "      <td>29.699118</td>\n",
       "      <td>1</td>\n",
       "      <td>2</td>\n",
       "      <td>23.4500</td>\n",
       "    </tr>\n",
       "    <tr>\n",
       "      <th>889</th>\n",
       "      <td>890</td>\n",
       "      <td>1</td>\n",
       "      <td>1</td>\n",
       "      <td>26.000000</td>\n",
       "      <td>0</td>\n",
       "      <td>0</td>\n",
       "      <td>30.0000</td>\n",
       "    </tr>\n",
       "    <tr>\n",
       "      <th>890</th>\n",
       "      <td>891</td>\n",
       "      <td>0</td>\n",
       "      <td>3</td>\n",
       "      <td>32.000000</td>\n",
       "      <td>0</td>\n",
       "      <td>0</td>\n",
       "      <td>7.7500</td>\n",
       "    </tr>\n",
       "  </tbody>\n",
       "</table>\n",
       "<p>891 rows × 7 columns</p>\n",
       "</div>"
      ],
      "text/plain": [
       "     PassengerId  Survived  Pclass        Age  SibSp  Parch     Fare\n",
       "0              1         0       3  22.000000      1      0   7.2500\n",
       "1              2         1       1  38.000000      1      0  71.2833\n",
       "2              3         1       3  26.000000      0      0   7.9250\n",
       "3              4         1       1  35.000000      1      0  53.1000\n",
       "4              5         0       3  35.000000      0      0   8.0500\n",
       "..           ...       ...     ...        ...    ...    ...      ...\n",
       "886          887         0       2  27.000000      0      0  13.0000\n",
       "887          888         1       1  19.000000      0      0  30.0000\n",
       "888          889         0       3  29.699118      1      2  23.4500\n",
       "889          890         1       1  26.000000      0      0  30.0000\n",
       "890          891         0       3  32.000000      0      0   7.7500\n",
       "\n",
       "[891 rows x 7 columns]"
      ]
     },
     "execution_count": 48,
     "metadata": {},
     "output_type": "execute_result"
    }
   ],
   "source": [
    "df2"
   ]
  },
  {
   "cell_type": "code",
   "execution_count": 33,
   "id": "6629e17c",
   "metadata": {},
   "outputs": [
    {
     "name": "stderr",
     "output_type": "stream",
     "text": [
      "C:\\Users\\sony\\anaconda3\\lib\\site-packages\\seaborn\\_decorators.py:36: FutureWarning: Pass the following variable as a keyword arg: x. From version 0.12, the only valid positional argument will be `data`, and passing other arguments without an explicit keyword will result in an error or misinterpretation.\n",
      "  warnings.warn(\n"
     ]
    },
    {
     "data": {
      "image/png": "[encoded data removed]",
      "text/plain": [
       "<Figure size 720x288 with 1 Axes>"
      ]
     },
     "metadata": {
      "needs_background": "light"
     },
     "output_type": "display_data"
    }
   ],
   "source": [
    "Box_plot(df2[\"Fare\"])"
   ]
  },
  {
   "cell_type": "code",
   "execution_count": 35,
   "id": "cad1334e",
   "metadata": {},
   "outputs": [
    {
     "name": "stdout",
     "output_type": "stream",
     "text": [
      "capping the  PassengerId\n",
      "capping the  Survived\n",
      "capping the  Pclass\n",
      "capping the  Age\n"
     ]
    },
    {
     "name": "stderr",
     "output_type": "stream",
     "text": [
      "C:\\Users\\sony\\AppData\\Local\\Temp/ipykernel_11148/2971718671.py:28: SettingWithCopyWarning: \n",
      "A value is trying to be set on a copy of a slice from a DataFrame.\n",
      "Try using .loc[row_indexer,col_indexer] = value instead\n",
      "\n",
      "See the caveats in the documentation: https://pandas.pydata.org/pandas-docs/stable/user_guide/indexing.html#returning-a-view-versus-a-copy\n",
      "  df[i]=df[i].replace(i,upper)\n"
     ]
    },
    {
     "name": "stdout",
     "output_type": "stream",
     "text": [
      "capping the  SibSp\n",
      "capping the  Parch\n",
      "capping the  Fare\n",
      "Quantile-1 (Q1):  7.9104 \n",
      "\n",
      "Quantile-2-median (Q2):  14.4542 \n",
      "\n",
      "Quantile-3 (Q3):  31.0 \n",
      "\n",
      "Inter Quantile Range (IQR):  23.0896 \n",
      "\n",
      "lowerBound :  -26.724 \n",
      "\n",
      "upperBound :  65.6344 \n",
      "\n",
      "Detection Success \n",
      "\n",
      "No_outliers :  [0.0, 0.0, 0.0, 0.0, 0.0, 0.0, 0.0, 0.0, 0.0, 0.0, 0.0, 0.0, 0.0, 0.0, 0.0, 4.0125, 5.0, 6.2375, 6.4375, 6.45, 6.4958, 6.4958, 6.75, 6.75, 6.8583, 6.95, 6.975, 6.975, 7.0458, 7.05, 7.05, 7.05, 7.05, 7.05, 7.05, 7.05, 7.0542, 7.0542, 7.125, 7.125, 7.125, 7.125, 7.1417, 7.225, 7.225, 7.225, 7.225, 7.225, 7.225, 7.225, 7.225, 7.225, 7.225, 7.225, 7.225, 7.2292, 7.2292, 7.2292, 7.2292, 7.2292, 7.2292, 7.2292, 7.2292, 7.2292, 7.2292, 7.2292, 7.2292, 7.2292, 7.2292, 7.2292, 7.25, 7.25, 7.25, 7.25, 7.25, 7.25, 7.25, 7.25, 7.25, 7.25, 7.25, 7.25, 7.25, 7.3125, 7.4958, 7.4958, 7.4958, 7.5208, 7.55, 7.55, 7.55, 7.55, 7.6292, 7.65, 7.65, 7.65, 7.65, 7.725, 7.7292, 7.7333, 7.7333, 7.7333, 7.7333, 7.7375, 7.7375, 7.7417, 7.75, 7.75, 7.75, 7.75, 7.75, 7.75, 7.75, 7.75, 7.75, 7.75, 7.75, 7.75, 7.75, 7.75, 7.75, 7.75, 7.75, 7.75, 7.75, 7.75, 7.75, 7.75, 7.75, 7.75, 7.75, 7.75, 7.75, 7.75, 7.75, 7.75, 7.75, 7.75, 7.75, 7.75, 7.775, 7.775, 7.775, 7.775, 7.775, 7.775, 7.775, 7.775, 7.775, 7.775, 7.775, 7.775, 7.775, 7.775, 7.775, 7.775, 7.7875, 7.7958, 7.7958, 7.7958, 7.7958, 7.7958, 7.7958, 7.8, 7.8292, 7.8292, 7.8542, 7.8542, 7.8542, 7.8542, 7.8542, 7.8542, 7.8542, 7.8542, 7.8542, 7.8542, 7.8542, 7.8542, 7.8542, 7.875, 7.8792, 7.8792, 7.8792, 7.8792, 7.8875, 7.8958, 7.8958, 7.8958, 7.8958, 7.8958, 7.8958, 7.8958, 7.8958, 7.8958, 7.8958, 7.8958, 7.8958, 7.8958, 7.8958, 7.8958, 7.8958, 7.8958, 7.8958, 7.8958, 7.8958, 7.8958, 7.8958, 7.8958, 7.8958, 7.8958, 7.8958, 7.8958, 7.8958, 7.8958, 7.8958, 7.8958, 7.8958, 7.8958, 7.8958, 7.8958, 7.8958, 7.8958, 7.8958, 7.925, 7.925, 7.925, 7.925, 7.925, 7.925, 7.925, 7.925, 7.925, 7.925, 7.925, 7.925, 7.925, 7.925, 7.925, 7.925, 7.925, 7.925, 8.0292, 8.05, 8.05, 8.05, 8.05, 8.05, 8.05, 8.05, 8.05, 8.05, 8.05, 8.05, 8.05, 8.05, 8.05, 8.05, 8.05, 8.05, 8.05, 8.05, 8.05, 8.05, 8.05, 8.05, 8.05, 8.05, 8.05, 8.05, 8.05, 8.05, 8.05, 8.05, 8.05, 8.05, 8.05, 8.05, 8.05, 8.05, 8.05, 8.05, 8.05, 8.05, 8.05, 8.05, 8.1125, 8.1375, 8.1583, 8.3, 8.3625, 8.4042, 8.4333, 8.4583, 8.5167, 8.6542, 8.6625, 8.6625, 8.6625, 8.6625, 8.6625, 8.6625, 8.6625, 8.6625, 8.6625, 8.6625, 8.6625, 8.6625, 8.6625, 8.6833, 8.7125, 8.85, 9.0, 9.0, 9.2167, 9.225, 9.225, 9.35, 9.35, 9.475, 9.4833, 9.5, 9.5, 9.5, 9.5, 9.5, 9.5, 9.5, 9.5, 9.5, 9.5875, 9.5875, 9.825, 9.825, 9.8375, 9.8417, 9.8458, 10.1708, 10.4625, 10.4625, 10.5, 10.5, 10.5, 10.5, 10.5, 10.5, 10.5, 10.5, 10.5, 10.5, 10.5, 10.5, 10.5, 10.5, 10.5, 10.5, 10.5, 10.5, 10.5, 10.5, 10.5, 10.5, 10.5, 10.5, 10.5167, 11.1333, 11.1333, 11.1333, 11.2417, 11.2417, 11.5, 11.5, 11.5, 11.5, 12.0, 12.275, 12.2875, 12.35, 12.35, 12.35, 12.475, 12.475, 12.475, 12.475, 12.525, 12.65, 12.875, 13.0, 13.0, 13.0, 13.0, 13.0, 13.0, 13.0, 13.0, 13.0, 13.0, 13.0, 13.0, 13.0, 13.0, 13.0, 13.0, 13.0, 13.0, 13.0, 13.0, 13.0, 13.0, 13.0, 13.0, 13.0, 13.0, 13.0, 13.0, 13.0, 13.0, 13.0, 13.0, 13.0, 13.0, 13.0, 13.0, 13.0, 13.0, 13.0, 13.0, 13.0, 13.0, 13.4167, 13.5, 13.5, 13.5, 13.5, 13.7917, 13.8583, 13.8625, 14.0, 14.1083, 14.4, 14.4, 14.4542, 14.4542, 14.4542, 14.4542, 14.4542, 14.4542, 14.4542, 14.4583, 14.4583, 14.4583, 14.5, 14.5, 14.5, 14.5, 14.5, 14.5, 14.5, 15.0, 15.0458, 15.05, 15.1, 15.2458, 15.2458, 15.2458, 15.2458, 15.2458, 15.5, 15.5, 15.5, 15.5, 15.5, 15.5, 15.5, 15.5, 15.55, 15.7417, 15.7417, 15.75, 15.85, 15.85, 15.85, 15.85, 15.9, 15.9, 16.0, 16.1, 16.1, 16.1, 16.1, 16.1, 16.1, 16.1, 16.1, 16.1, 16.7, 16.7, 17.4, 17.8, 17.8, 18.0, 18.0, 18.0, 18.75, 18.75, 18.75, 18.7875, 18.7875, 19.2583, 19.2583, 19.2583, 19.2583, 19.5, 19.5, 19.9667, 19.9667, 20.2125, 20.2125, 20.25, 20.25, 20.525, 20.525, 20.525, 20.575, 20.575, 21.0, 21.0, 21.0, 21.0, 21.0, 21.0, 21.075, 21.075, 21.075, 21.075, 21.6792, 22.025, 22.3583, 22.3583, 22.525, 23.0, 23.0, 23.0, 23.0, 23.25, 23.25, 23.45, 23.45, 24.0, 24.0, 24.15, 24.15, 24.15, 24.15, 24.15, 24.15, 24.15, 24.15, 25.4667, 25.4667, 25.4667, 25.4667, 25.5875, 25.925, 25.9292, 25.9292, 26.0, 26.0, 26.0, 26.0, 26.0, 26.0, 26.0, 26.0, 26.0, 26.0, 26.0, 26.0, 26.0, 26.0, 26.0, 26.0, 26.0, 26.0, 26.0, 26.0, 26.0, 26.0, 26.0, 26.0, 26.0, 26.0, 26.0, 26.0, 26.0, 26.0, 26.0, 26.25, 26.25, 26.25, 26.25, 26.25, 26.25, 26.2833, 26.2875, 26.2875, 26.2875, 26.3875, 26.55, 26.55, 26.55, 26.55, 26.55, 26.55, 26.55, 26.55, 26.55, 26.55, 26.55, 26.55, 26.55, 26.55, 26.55, 27.0, 27.0, 27.7208, 27.7208, 27.7208, 27.7208, 27.7208, 27.75, 27.75, 27.75, 27.75, 27.9, 27.9, 27.9, 27.9, 27.9, 27.9, 28.5, 28.7125, 29.0, 29.0, 29.125, 29.125, 29.125, 29.125, 29.125, 29.7, 29.7, 29.7, 30.0, 30.0, 30.0, 30.0, 30.0, 30.0, 30.0708, 30.0708, 30.5, 30.5, 30.5, 30.5, 30.5, 30.6958, 30.6958, 31.0, 31.0, 31.0, 31.275, 31.275, 31.275, 31.275, 31.275, 31.275, 31.275, 31.3875, 31.3875, 31.3875, 31.3875, 32.3208, 32.5, 33.0, 33.0, 33.0, 33.5, 34.0208, 34.375, 34.375, 34.375, 34.375, 34.6542, 35.0, 35.5, 35.5, 35.5, 35.5, 36.75, 36.75, 37.0042, 37.0042, 38.5, 39.0, 39.0, 39.0, 39.0, 39.4, 39.6, 39.6, 39.6875, 39.6875, 39.6875, 39.6875, 39.6875, 39.6875, 40.125, 41.5792, 41.5792, 41.5792, 42.4, 46.9, 46.9, 46.9, 46.9, 46.9, 46.9, 47.1, 49.5, 49.5042, 49.5042, 50.0, 50.4958, 51.4792, 51.8625, 51.8625, 52.0, 52.0, 52.0, 52.0, 52.0, 52.0, 52.0, 52.5542, 52.5542, 52.5542, 53.1, 53.1, 53.1, 53.1, 53.1, 55.0, 55.0, 55.4417, 55.9, 55.9, 56.4958, 56.4958, 56.4958, 56.4958, 56.4958, 56.4958, 56.4958, 56.9292, 56.9292, 57.0, 57.0, 57.9792, 57.9792, 59.4, 61.175, 61.3792, 61.9792, 63.3583, 65.0, 65.0] \n",
      "\n",
      "lower_fence_otlier :  [] \n",
      "\n",
      "upper_fence_otlier :  [66.6, 66.6, 69.3, 69.3, 69.55, 69.55, 69.55, 69.55, 69.55, 69.55, 69.55, 71.0, 71.0, 71.2833, 73.5, 73.5, 73.5, 73.5, 73.5, 75.25, 76.2917, 76.7292, 76.7292, 76.7292, 77.2875, 77.2875, 77.9583, 77.9583, 77.9583, 78.2667, 78.2667, 78.85, 78.85, 79.2, 79.2, 79.2, 79.2, 79.65, 79.65, 79.65, 80.0, 80.0, 81.8583, 82.1708, 82.1708, 83.1583, 83.1583, 83.1583, 83.475, 83.475, 86.5, 86.5, 86.5, 89.1042, 89.1042, 90.0, 90.0, 90.0, 90.0, 91.0792, 91.0792, 93.5, 93.5, 106.425, 106.425, 108.9, 108.9, 110.8833, 110.8833, 110.8833, 110.8833, 113.275, 113.275, 113.275, 120.0, 120.0, 120.0, 120.0, 133.65, 133.65, 134.5, 134.5, 135.6333, 135.6333, 135.6333, 146.5208, 146.5208, 151.55, 151.55, 151.55, 151.55, 153.4625, 153.4625, 153.4625, 164.8667, 164.8667, 211.3375, 211.3375, 211.3375, 211.5, 221.7792, 227.525, 227.525, 227.525, 227.525, 247.5208, 247.5208, 262.375, 262.375, 263.0, 263.0, 263.0, 263.0, 512.3292, 512.3292, 512.3292] \n",
      "\n",
      "Length lower_fence_otlier :  0 \n",
      "\n",
      "Length upper_fence_otlier :  116 \n",
      "\n",
      "Length Outliers :  116 \n",
      "\n"
     ]
    }
   ],
   "source": [
    "def outlier_data(df):\n",
    "    for i in df.columns:\n",
    "        \n",
    "        print(\"capping the \",i)\n",
    "        for j in df[i]:\n",
    "            if (((df[i].dtype)=='float64') | ((df[i].dtype)=='int64')):\n",
    "                \n",
    "                Q1 = np.quantile(df[i], .25) \n",
    "                Q3 = np.quantile(df[i], .75) \n",
    "                Q2 = np.quantile(df[i], .50)\n",
    "                \n",
    "                IQR = Q3-Q1\n",
    "                lower = Q1 -(1.5 * IQR) \n",
    "                upper = Q3 +(1.5 * IQR)\n",
    "                \n",
    "                no_outliers = df[i][(Q1 - 1.5*IQR < df[i]) &  (df[i] < Q3 + 1.5*IQR)]\n",
    "    \n",
    "                outliers = df[i][(Q1 - 1.5*IQR > df[i]) |  (df[i] > Q3 + 1.5*IQR)] # or\n",
    "\n",
    "                lower_fence_otlier=df[i] [(Q1 - 1.5*IQR > df[i])]\n",
    "\n",
    "                upper_fence_otlier=df[i] [(df[i] > Q3 + 1.5*IQR)]\n",
    "                \n",
    "                \n",
    "            \n",
    "            \n",
    "                if j > upper :\n",
    "                    df[i]=df[i].replace(i,upper)\n",
    "\n",
    "                    if j < lower:\n",
    "                        df[i]=df[i].replace(i,lower)\n",
    "                \n",
    "            else:\n",
    "                df[i]=df[i]\n",
    "                \n",
    "                \n",
    "                \n",
    "    print(\"Quantile-1 (Q1): \",Q1, \"\\n\")\n",
    "    print(\"Quantile-2-median (Q2): \",Q2, \"\\n\")\n",
    "    print(\"Quantile-3 (Q3): \",Q3, \"\\n\")\n",
    "    print(\"Inter Quantile Range (IQR): \",IQR, \"\\n\")\n",
    "    \n",
    "    print('lowerBound : ',lower,\"\\n\")\n",
    "    print('upperBound : ',upper,\"\\n\")\n",
    "    \n",
    "    \n",
    "    \n",
    "    print('Detection Success',\"\\n\")\n",
    "    \n",
    "    print('No_outliers : ',sorted(no_outliers),\"\\n\")\n",
    "    \n",
    "    \n",
    "    \n",
    "    print('lower_fence_otlier : ',sorted(lower_fence_otlier),\"\\n\")\n",
    "    \n",
    "    print('upper_fence_otlier : ',sorted(upper_fence_otlier),\"\\n\")\n",
    "    \n",
    "    \n",
    "    print('Length lower_fence_otlier : ',len(lower_fence_otlier),\"\\n\")\n",
    "    \n",
    "    print('Length upper_fence_otlier : ',len(upper_fence_otlier),\"\\n\")\n",
    "    \n",
    "    #print('Outliers : ',outliers,\"\\n\")\n",
    "    \n",
    "    print('Length Outliers : ',len(outliers),\"\\n\")\n",
    "    \n",
    "    \n",
    "    return lower,upper,df #,outliers            \n",
    "        \n",
    "    \n",
    "\n",
    "final_=outlier_data(df2)"
   ]
  },
  {
   "cell_type": "code",
   "execution_count": 36,
   "id": "e330d106",
   "metadata": {},
   "outputs": [
    {
     "name": "stderr",
     "output_type": "stream",
     "text": [
      "C:\\Users\\sony\\anaconda3\\lib\\site-packages\\seaborn\\_decorators.py:36: FutureWarning: Pass the following variable as a keyword arg: x. From version 0.12, the only valid positional argument will be `data`, and passing other arguments without an explicit keyword will result in an error or misinterpretation.\n",
      "  warnings.warn(\n"
     ]
    },
    {
     "data": {
      "image/png": "[encoded data removed]",
      "text/plain": [
       "<Figure size 720x288 with 1 Axes>"
      ]
     },
     "metadata": {
      "needs_background": "light"
     },
     "output_type": "display_data"
    }
   ],
   "source": [
    "Box_plot(df2[\"Fare\"])"
   ]
  },
  {
   "cell_type": "code",
   "execution_count": 37,
   "id": "9c62b108",
   "metadata": {},
   "outputs": [
    {
     "data": {
      "text/plain": [
       "(-26.724,\n",
       " 65.6344,\n",
       "      PassengerId  Survived  Pclass        Age  SibSp  Parch     Fare\n",
       " 0              1         0       3  22.000000      1      0   7.2500\n",
       " 1              2         1       1  38.000000      1      0  71.2833\n",
       " 2              3         1       3  26.000000      0      0   7.9250\n",
       " 3              4         1       1  35.000000      1      0  53.1000\n",
       " 4              5         0       3  35.000000      0      0   8.0500\n",
       " ..           ...       ...     ...        ...    ...    ...      ...\n",
       " 886          887         0       2  27.000000      0      0  13.0000\n",
       " 887          888         1       1  19.000000      0      0  30.0000\n",
       " 888          889         0       3  29.699118      1      2  23.4500\n",
       " 889          890         1       1  26.000000      0      0  30.0000\n",
       " 890          891         0       3  32.000000      0      0   7.7500\n",
       " \n",
       " [891 rows x 7 columns])"
      ]
     },
     "execution_count": 37,
     "metadata": {},
     "output_type": "execute_result"
    }
   ],
   "source": [
    "final_"
   ]
  },
  {
   "cell_type": "code",
   "execution_count": 38,
   "id": "694e2e10",
   "metadata": {},
   "outputs": [
    {
     "ename": "ValueError",
     "evalue": "setting an array element with a sequence. The requested array has an inhomogeneous shape after 1 dimensions. The detected shape was (3,) + inhomogeneous part.",
     "output_type": "error",
     "traceback": [
      "\u001b[1;31m---------------------------------------------------------------------------\u001b[0m",
      "\u001b[1;31mValueError\u001b[0m                                Traceback (most recent call last)",
      "\u001b[1;32m~\\AppData\\Local\\Temp/ipykernel_11148/1200809149.py\u001b[0m in \u001b[0;36m<module>\u001b[1;34m\u001b[0m\n\u001b[0;32m      1\u001b[0m \u001b[0mfig\u001b[0m \u001b[1;33m,\u001b[0m \u001b[0max\u001b[0m \u001b[1;33m=\u001b[0m \u001b[0mplt\u001b[0m\u001b[1;33m.\u001b[0m\u001b[0msubplots\u001b[0m\u001b[1;33m(\u001b[0m\u001b[0mfigsize\u001b[0m\u001b[1;33m=\u001b[0m\u001b[1;33m(\u001b[0m\u001b[1;36m20\u001b[0m\u001b[1;33m,\u001b[0m\u001b[1;36m20\u001b[0m\u001b[1;33m)\u001b[0m\u001b[1;33m)\u001b[0m\u001b[1;33m\u001b[0m\u001b[1;33m\u001b[0m\u001b[0m\n\u001b[1;32m----> 2\u001b[1;33m \u001b[0msns\u001b[0m\u001b[1;33m.\u001b[0m\u001b[0mboxplot\u001b[0m\u001b[1;33m(\u001b[0m\u001b[0mdata\u001b[0m\u001b[1;33m=\u001b[0m \u001b[0mfinal_\u001b[0m\u001b[1;33m,\u001b[0m \u001b[0max\u001b[0m \u001b[1;33m=\u001b[0m \u001b[0max\u001b[0m\u001b[1;33m)\u001b[0m\u001b[1;33m\u001b[0m\u001b[1;33m\u001b[0m\u001b[0m\n\u001b[0m\u001b[0;32m      3\u001b[0m \u001b[0mplt\u001b[0m\u001b[1;33m.\u001b[0m\u001b[0mshow\u001b[0m\u001b[1;33m(\u001b[0m\u001b[1;33m)\u001b[0m\u001b[1;33m\u001b[0m\u001b[1;33m\u001b[0m\u001b[0m\n",
      "\u001b[1;32m~\\anaconda3\\lib\\site-packages\\seaborn\\_decorators.py\u001b[0m in \u001b[0;36minner_f\u001b[1;34m(*args, **kwargs)\u001b[0m\n\u001b[0;32m     44\u001b[0m             )\n\u001b[0;32m     45\u001b[0m         \u001b[0mkwargs\u001b[0m\u001b[1;33m.\u001b[0m\u001b[0mupdate\u001b[0m\u001b[1;33m(\u001b[0m\u001b[1;33m{\u001b[0m\u001b[0mk\u001b[0m\u001b[1;33m:\u001b[0m \u001b[0marg\u001b[0m \u001b[1;32mfor\u001b[0m \u001b[0mk\u001b[0m\u001b[1;33m,\u001b[0m \u001b[0marg\u001b[0m \u001b[1;32min\u001b[0m \u001b[0mzip\u001b[0m\u001b[1;33m(\u001b[0m\u001b[0msig\u001b[0m\u001b[1;33m.\u001b[0m\u001b[0mparameters\u001b[0m\u001b[1;33m,\u001b[0m \u001b[0margs\u001b[0m\u001b[1;33m)\u001b[0m\u001b[1;33m}\u001b[0m\u001b[1;33m)\u001b[0m\u001b[1;33m\u001b[0m\u001b[1;33m\u001b[0m\u001b[0m\n\u001b[1;32m---> 46\u001b[1;33m         \u001b[1;32mreturn\u001b[0m \u001b[0mf\u001b[0m\u001b[1;33m(\u001b[0m\u001b[1;33m**\u001b[0m\u001b[0mkwargs\u001b[0m\u001b[1;33m)\u001b[0m\u001b[1;33m\u001b[0m\u001b[1;33m\u001b[0m\u001b[0m\n\u001b[0m\u001b[0;32m     47\u001b[0m     \u001b[1;32mreturn\u001b[0m \u001b[0minner_f\u001b[0m\u001b[1;33m\u001b[0m\u001b[1;33m\u001b[0m\u001b[0m\n\u001b[0;32m     48\u001b[0m \u001b[1;33m\u001b[0m\u001b[0m\n",
      "\u001b[1;32m~\\anaconda3\\lib\\site-packages\\seaborn\\categorical.py\u001b[0m in \u001b[0;36mboxplot\u001b[1;34m(x, y, hue, data, order, hue_order, orient, color, palette, saturation, width, dodge, fliersize, linewidth, whis, ax, **kwargs)\u001b[0m\n\u001b[0;32m   2241\u001b[0m ):\n\u001b[0;32m   2242\u001b[0m \u001b[1;33m\u001b[0m\u001b[0m\n\u001b[1;32m-> 2243\u001b[1;33m     plotter = _BoxPlotter(x, y, hue, data, order, hue_order,\n\u001b[0m\u001b[0;32m   2244\u001b[0m                           \u001b[0morient\u001b[0m\u001b[1;33m,\u001b[0m \u001b[0mcolor\u001b[0m\u001b[1;33m,\u001b[0m \u001b[0mpalette\u001b[0m\u001b[1;33m,\u001b[0m \u001b[0msaturation\u001b[0m\u001b[1;33m,\u001b[0m\u001b[1;33m\u001b[0m\u001b[1;33m\u001b[0m\u001b[0m\n\u001b[0;32m   2245\u001b[0m                           width, dodge, fliersize, linewidth)\n",
      "\u001b[1;32m~\\anaconda3\\lib\\site-packages\\seaborn\\categorical.py\u001b[0m in \u001b[0;36m__init__\u001b[1;34m(self, x, y, hue, data, order, hue_order, orient, color, palette, saturation, width, dodge, fliersize, linewidth)\u001b[0m\n\u001b[0;32m    404\u001b[0m                  width, dodge, fliersize, linewidth):\n\u001b[0;32m    405\u001b[0m \u001b[1;33m\u001b[0m\u001b[0m\n\u001b[1;32m--> 406\u001b[1;33m         \u001b[0mself\u001b[0m\u001b[1;33m.\u001b[0m\u001b[0mestablish_variables\u001b[0m\u001b[1;33m(\u001b[0m\u001b[0mx\u001b[0m\u001b[1;33m,\u001b[0m \u001b[0my\u001b[0m\u001b[1;33m,\u001b[0m \u001b[0mhue\u001b[0m\u001b[1;33m,\u001b[0m \u001b[0mdata\u001b[0m\u001b[1;33m,\u001b[0m \u001b[0morient\u001b[0m\u001b[1;33m,\u001b[0m \u001b[0morder\u001b[0m\u001b[1;33m,\u001b[0m \u001b[0mhue_order\u001b[0m\u001b[1;33m)\u001b[0m\u001b[1;33m\u001b[0m\u001b[1;33m\u001b[0m\u001b[0m\n\u001b[0m\u001b[0;32m    407\u001b[0m         \u001b[0mself\u001b[0m\u001b[1;33m.\u001b[0m\u001b[0mestablish_colors\u001b[0m\u001b[1;33m(\u001b[0m\u001b[0mcolor\u001b[0m\u001b[1;33m,\u001b[0m \u001b[0mpalette\u001b[0m\u001b[1;33m,\u001b[0m \u001b[0msaturation\u001b[0m\u001b[1;33m)\u001b[0m\u001b[1;33m\u001b[0m\u001b[1;33m\u001b[0m\u001b[0m\n\u001b[0;32m    408\u001b[0m \u001b[1;33m\u001b[0m\u001b[0m\n",
      "\u001b[1;32m~\\anaconda3\\lib\\site-packages\\seaborn\\categorical.py\u001b[0m in \u001b[0;36mestablish_variables\u001b[1;34m(self, x, y, hue, data, orient, order, hue_order, units)\u001b[0m\n\u001b[0;32m    126\u001b[0m \u001b[1;33m\u001b[0m\u001b[0m\n\u001b[0;32m    127\u001b[0m                 \u001b[1;31m# Convert to a list of arrays, the common representation\u001b[0m\u001b[1;33m\u001b[0m\u001b[1;33m\u001b[0m\u001b[0m\n\u001b[1;32m--> 128\u001b[1;33m                 \u001b[0mplot_data\u001b[0m \u001b[1;33m=\u001b[0m \u001b[1;33m[\u001b[0m\u001b[0mnp\u001b[0m\u001b[1;33m.\u001b[0m\u001b[0masarray\u001b[0m\u001b[1;33m(\u001b[0m\u001b[0md\u001b[0m\u001b[1;33m,\u001b[0m \u001b[0mfloat\u001b[0m\u001b[1;33m)\u001b[0m \u001b[1;32mfor\u001b[0m \u001b[0md\u001b[0m \u001b[1;32min\u001b[0m \u001b[0mplot_data\u001b[0m\u001b[1;33m]\u001b[0m\u001b[1;33m\u001b[0m\u001b[1;33m\u001b[0m\u001b[0m\n\u001b[0m\u001b[0;32m    129\u001b[0m \u001b[1;33m\u001b[0m\u001b[0m\n\u001b[0;32m    130\u001b[0m                 \u001b[1;31m# The group names will just be numeric indices\u001b[0m\u001b[1;33m\u001b[0m\u001b[1;33m\u001b[0m\u001b[0m\n",
      "\u001b[1;32m~\\anaconda3\\lib\\site-packages\\seaborn\\categorical.py\u001b[0m in \u001b[0;36m<listcomp>\u001b[1;34m(.0)\u001b[0m\n\u001b[0;32m    126\u001b[0m \u001b[1;33m\u001b[0m\u001b[0m\n\u001b[0;32m    127\u001b[0m                 \u001b[1;31m# Convert to a list of arrays, the common representation\u001b[0m\u001b[1;33m\u001b[0m\u001b[1;33m\u001b[0m\u001b[0m\n\u001b[1;32m--> 128\u001b[1;33m                 \u001b[0mplot_data\u001b[0m \u001b[1;33m=\u001b[0m \u001b[1;33m[\u001b[0m\u001b[0mnp\u001b[0m\u001b[1;33m.\u001b[0m\u001b[0masarray\u001b[0m\u001b[1;33m(\u001b[0m\u001b[0md\u001b[0m\u001b[1;33m,\u001b[0m \u001b[0mfloat\u001b[0m\u001b[1;33m)\u001b[0m \u001b[1;32mfor\u001b[0m \u001b[0md\u001b[0m \u001b[1;32min\u001b[0m \u001b[0mplot_data\u001b[0m\u001b[1;33m]\u001b[0m\u001b[1;33m\u001b[0m\u001b[1;33m\u001b[0m\u001b[0m\n\u001b[0m\u001b[0;32m    129\u001b[0m \u001b[1;33m\u001b[0m\u001b[0m\n\u001b[0;32m    130\u001b[0m                 \u001b[1;31m# The group names will just be numeric indices\u001b[0m\u001b[1;33m\u001b[0m\u001b[1;33m\u001b[0m\u001b[0m\n",
      "\u001b[1;32m~\\anaconda3\\lib\\site-packages\\numpy\\core\\_asarray.py\u001b[0m in \u001b[0;36masarray\u001b[1;34m(a, dtype, order, like)\u001b[0m\n\u001b[0;32m    100\u001b[0m         \u001b[1;32mreturn\u001b[0m \u001b[0m_asarray_with_like\u001b[0m\u001b[1;33m(\u001b[0m\u001b[0ma\u001b[0m\u001b[1;33m,\u001b[0m \u001b[0mdtype\u001b[0m\u001b[1;33m=\u001b[0m\u001b[0mdtype\u001b[0m\u001b[1;33m,\u001b[0m \u001b[0morder\u001b[0m\u001b[1;33m=\u001b[0m\u001b[0morder\u001b[0m\u001b[1;33m,\u001b[0m \u001b[0mlike\u001b[0m\u001b[1;33m=\u001b[0m\u001b[0mlike\u001b[0m\u001b[1;33m)\u001b[0m\u001b[1;33m\u001b[0m\u001b[1;33m\u001b[0m\u001b[0m\n\u001b[0;32m    101\u001b[0m \u001b[1;33m\u001b[0m\u001b[0m\n\u001b[1;32m--> 102\u001b[1;33m     \u001b[1;32mreturn\u001b[0m \u001b[0marray\u001b[0m\u001b[1;33m(\u001b[0m\u001b[0ma\u001b[0m\u001b[1;33m,\u001b[0m \u001b[0mdtype\u001b[0m\u001b[1;33m,\u001b[0m \u001b[0mcopy\u001b[0m\u001b[1;33m=\u001b[0m\u001b[1;32mFalse\u001b[0m\u001b[1;33m,\u001b[0m \u001b[0morder\u001b[0m\u001b[1;33m=\u001b[0m\u001b[0morder\u001b[0m\u001b[1;33m)\u001b[0m\u001b[1;33m\u001b[0m\u001b[1;33m\u001b[0m\u001b[0m\n\u001b[0m\u001b[0;32m    103\u001b[0m \u001b[1;33m\u001b[0m\u001b[0m\n\u001b[0;32m    104\u001b[0m \u001b[1;33m\u001b[0m\u001b[0m\n",
      "\u001b[1;31mValueError\u001b[0m: setting an array element with a sequence. The requested array has an inhomogeneous shape after 1 dimensions. The detected shape was (3,) + inhomogeneous part."
     ]
    },
    {
     "data": {
      "image/png": "[encoded data removed]",
      "text/plain": [
       "<Figure size 1440x1440 with 1 Axes>"
      ]
     },
     "metadata": {
      "needs_background": "light"
     },
     "output_type": "display_data"
    }
   ],
   "source": [
    "fig , ax = plt.subplots(figsize=(20,20))\n",
    "sns.boxplot(data= final_, ax = ax)\n",
    "plt.show()"
   ]
  },
  {
   "cell_type": "code",
   "execution_count": null,
   "id": "6658da88",
   "metadata": {},
   "outputs": [],
   "source": []
  },
  {
   "cell_type": "code",
   "execution_count": null,
   "id": "91a746a0",
   "metadata": {},
   "outputs": [],
   "source": []
  },
  {
   "cell_type": "code",
   "execution_count": null,
   "id": "8c249956",
   "metadata": {},
   "outputs": [],
   "source": []
  },
  {
   "cell_type": "code",
   "execution_count": null,
   "id": "9d3d20d6",
   "metadata": {},
   "outputs": [],
   "source": []
  },
  {
   "cell_type": "code",
   "execution_count": null,
   "id": "b076535b",
   "metadata": {},
   "outputs": [],
   "source": []
  },
  {
   "cell_type": "code",
   "execution_count": null,
   "id": "87f2881e",
   "metadata": {},
   "outputs": [],
   "source": []
  },
  {
   "cell_type": "code",
   "execution_count": null,
   "id": "ea2de3ec",
   "metadata": {},
   "outputs": [],
   "source": []
  },
  {
   "cell_type": "code",
   "execution_count": null,
   "id": "307413d5",
   "metadata": {},
   "outputs": [],
   "source": []
  },
  {
   "cell_type": "code",
   "execution_count": 55,
   "id": "f04d0b1f",
   "metadata": {},
   "outputs": [
    {
     "ename": "IndentationError",
     "evalue": "unexpected indent (Temp/ipykernel_11148/2434772890.py, line 12)",
     "output_type": "error",
     "traceback": [
      "\u001b[1;36m  File \u001b[1;32m\"C:\\Users\\sony\\AppData\\Local\\Temp/ipykernel_11148/2434772890.py\"\u001b[1;36m, line \u001b[1;32m12\u001b[0m\n\u001b[1;33m    if df[col] > upper :\u001b[0m\n\u001b[1;37m    ^\u001b[0m\n\u001b[1;31mIndentationError\u001b[0m\u001b[1;31m:\u001b[0m unexpected indent\n"
     ]
    }
   ],
   "source": [
    "def cap_data(df):\n",
    "    for col in df.columns:\n",
    "        print(\"capping the \",col)\n",
    "        if (((df[col].dtype)=='float64') | ((df[col].dtype)=='int64')):\n",
    "            \n",
    "            Q1 = np.quantile(df[col], .25) \n",
    "            Q3 = np.quantile(df[col], .75) \n",
    "            Q2 = np.quantile(df[col], .50)   \n",
    "            IQR = Q3-Q1\n",
    "            lower = Q1 -(1.5 * IQR) \n",
    "            upper = Q3 +(1.5 * IQR)\n",
    "            \n",
    "                if df[col] > upper :\n",
    "                    df[col]=df[col].replace(col,upper)\n",
    "                        if df[col] < lower:\n",
    "                            df[col]=df[col].replace(col,lower)\n",
    "        else:\n",
    "            df[col]=df[col]\n",
    "    return df\n",
    "\n",
    "final_df=cap_data(df)"
   ]
  },
  {
   "cell_type": "code",
   "execution_count": 47,
   "id": "33d40b18",
   "metadata": {},
   "outputs": [
    {
     "data": {
      "text/html": [
       "<div>\n",
       "<style scoped>\n",
       "    .dataframe tbody tr th:only-of-type {\n",
       "        vertical-align: middle;\n",
       "    }\n",
       "\n",
       "    .dataframe tbody tr th {\n",
       "        vertical-align: top;\n",
       "    }\n",
       "\n",
       "    .dataframe thead th {\n",
       "        text-align: right;\n",
       "    }\n",
       "</style>\n",
       "<table border=\"1\" class=\"dataframe\">\n",
       "  <thead>\n",
       "    <tr style=\"text-align: right;\">\n",
       "      <th></th>\n",
       "      <th>PassengerId</th>\n",
       "      <th>Survived</th>\n",
       "      <th>Pclass</th>\n",
       "      <th>Age</th>\n",
       "      <th>SibSp</th>\n",
       "      <th>Parch</th>\n",
       "      <th>Fare</th>\n",
       "    </tr>\n",
       "  </thead>\n",
       "  <tbody>\n",
       "    <tr>\n",
       "      <th>0</th>\n",
       "      <td>223.750</td>\n",
       "      <td>0</td>\n",
       "      <td>3</td>\n",
       "      <td>29.699118</td>\n",
       "      <td>1</td>\n",
       "      <td>0</td>\n",
       "      <td>7.9177</td>\n",
       "    </tr>\n",
       "    <tr>\n",
       "      <th>1</th>\n",
       "      <td>223.750</td>\n",
       "      <td>1</td>\n",
       "      <td>2</td>\n",
       "      <td>29.699118</td>\n",
       "      <td>1</td>\n",
       "      <td>0</td>\n",
       "      <td>14.4542</td>\n",
       "    </tr>\n",
       "    <tr>\n",
       "      <th>2</th>\n",
       "      <td>223.750</td>\n",
       "      <td>1</td>\n",
       "      <td>3</td>\n",
       "      <td>29.699118</td>\n",
       "      <td>0</td>\n",
       "      <td>0</td>\n",
       "      <td>7.9250</td>\n",
       "    </tr>\n",
       "    <tr>\n",
       "      <th>3</th>\n",
       "      <td>223.750</td>\n",
       "      <td>1</td>\n",
       "      <td>2</td>\n",
       "      <td>29.699118</td>\n",
       "      <td>1</td>\n",
       "      <td>0</td>\n",
       "      <td>14.4542</td>\n",
       "    </tr>\n",
       "    <tr>\n",
       "      <th>4</th>\n",
       "      <td>223.750</td>\n",
       "      <td>0</td>\n",
       "      <td>3</td>\n",
       "      <td>29.699118</td>\n",
       "      <td>0</td>\n",
       "      <td>0</td>\n",
       "      <td>8.0500</td>\n",
       "    </tr>\n",
       "    <tr>\n",
       "      <th>...</th>\n",
       "      <td>...</td>\n",
       "      <td>...</td>\n",
       "      <td>...</td>\n",
       "      <td>...</td>\n",
       "      <td>...</td>\n",
       "      <td>...</td>\n",
       "      <td>...</td>\n",
       "    </tr>\n",
       "    <tr>\n",
       "      <th>886</th>\n",
       "      <td>882.001</td>\n",
       "      <td>0</td>\n",
       "      <td>2</td>\n",
       "      <td>29.699118</td>\n",
       "      <td>0</td>\n",
       "      <td>0</td>\n",
       "      <td>13.0000</td>\n",
       "    </tr>\n",
       "    <tr>\n",
       "      <th>887</th>\n",
       "      <td>882.001</td>\n",
       "      <td>1</td>\n",
       "      <td>2</td>\n",
       "      <td>29.699118</td>\n",
       "      <td>0</td>\n",
       "      <td>0</td>\n",
       "      <td>14.4542</td>\n",
       "    </tr>\n",
       "    <tr>\n",
       "      <th>888</th>\n",
       "      <td>882.001</td>\n",
       "      <td>0</td>\n",
       "      <td>3</td>\n",
       "      <td>29.699118</td>\n",
       "      <td>1</td>\n",
       "      <td>0</td>\n",
       "      <td>23.4500</td>\n",
       "    </tr>\n",
       "    <tr>\n",
       "      <th>889</th>\n",
       "      <td>882.001</td>\n",
       "      <td>1</td>\n",
       "      <td>2</td>\n",
       "      <td>29.699118</td>\n",
       "      <td>0</td>\n",
       "      <td>0</td>\n",
       "      <td>14.4542</td>\n",
       "    </tr>\n",
       "    <tr>\n",
       "      <th>890</th>\n",
       "      <td>882.001</td>\n",
       "      <td>0</td>\n",
       "      <td>3</td>\n",
       "      <td>29.699118</td>\n",
       "      <td>0</td>\n",
       "      <td>0</td>\n",
       "      <td>7.9177</td>\n",
       "    </tr>\n",
       "  </tbody>\n",
       "</table>\n",
       "<p>891 rows × 7 columns</p>\n",
       "</div>"
      ],
      "text/plain": [
       "     PassengerId  Survived  Pclass        Age  SibSp  Parch     Fare\n",
       "0        223.750         0       3  29.699118      1      0   7.9177\n",
       "1        223.750         1       2  29.699118      1      0  14.4542\n",
       "2        223.750         1       3  29.699118      0      0   7.9250\n",
       "3        223.750         1       2  29.699118      1      0  14.4542\n",
       "4        223.750         0       3  29.699118      0      0   8.0500\n",
       "..           ...       ...     ...        ...    ...    ...      ...\n",
       "886      882.001         0       2  29.699118      0      0  13.0000\n",
       "887      882.001         1       2  29.699118      0      0  14.4542\n",
       "888      882.001         0       3  29.699118      1      0  23.4500\n",
       "889      882.001         1       2  29.699118      0      0  14.4542\n",
       "890      882.001         0       3  29.699118      0      0   7.9177\n",
       "\n",
       "[891 rows x 7 columns]"
      ]
     },
     "execution_count": 47,
     "metadata": {},
     "output_type": "execute_result"
    }
   ],
   "source": [
    "final_df"
   ]
  },
  {
   "cell_type": "code",
   "execution_count": 43,
   "id": "7ddd4458",
   "metadata": {},
   "outputs": [
    {
     "name": "stderr",
     "output_type": "stream",
     "text": [
      "C:\\Users\\sony\\anaconda3\\lib\\site-packages\\seaborn\\_decorators.py:36: FutureWarning: Pass the following variable as a keyword arg: x. From version 0.12, the only valid positional argument will be `data`, and passing other arguments without an explicit keyword will result in an error or misinterpretation.\n",
      "  warnings.warn(\n"
     ]
    },
    {
     "data": {
      "image/png": "[encoded data removed]",
      "text/plain": [
       "<Figure size 720x288 with 1 Axes>"
      ]
     },
     "metadata": {
      "needs_background": "light"
     },
     "output_type": "display_data"
    }
   ],
   "source": [
    "Box_plot(final_df[\"Fare\"])"
   ]
  },
  {
   "cell_type": "code",
   "execution_count": 42,
   "id": "8c0395ef",
   "metadata": {},
   "outputs": [
    {
     "data": {
      "image/png": "[encoded data removed]",
      "text/plain": [
       "<Figure size 1440x1440 with 1 Axes>"
      ]
     },
     "metadata": {
      "needs_background": "light"
     },
     "output_type": "display_data"
    }
   ],
   "source": [
    "fig , ax = plt.subplots(figsize=(20,20))\n",
    "sns.boxplot(data= final_df, ax = ax)\n",
    "plt.show()"
   ]
  },
  {
   "cell_type": "code",
   "execution_count": null,
   "id": "15f58dff",
   "metadata": {},
   "outputs": [],
   "source": [
    "def outlier_tratment(df):\n",
    "    for i in df:\n",
    "        for j in df[i]:\n",
    "            Q1 = np.quantile(df[i], .25) \n",
    "            Q3 = np.quantile(df[i], .75) \n",
    "            Q2 = np.quantile(df[i], .50)\n",
    "        \n",
    "            IQR = Q3-Q1\n",
    "            \n",
    "            lower = Q1 -(1.5 * IQR) \n",
    "            upper = Q3 +(1.5 * IQR)\n",
    "            \n",
    "            #lower_outlier.append(lower)\n",
    "            #upper_outlier.append(upper)\n",
    "            \n",
    "            if j > upper or j < lower:\n",
    "                df[i]=df[i].replace(j, np.median(df[i]))\n",
    "                \n",
    "            else:\n",
    "                df[i]=df[i]\n",
    "            \n",
    "    return df\n",
    "                \n",
    "    print(\"lower outlier are\",set(lower_outlier))\n",
    "    print('Upper outlier are',set(upper_outlier))"
   ]
  },
  {
   "cell_type": "code",
   "execution_count": null,
   "id": "5543a81a",
   "metadata": {},
   "outputs": [],
   "source": [
    "outlier_tratment(data)"
   ]
  },
  {
   "cell_type": "code",
   "execution_count": 44,
   "id": "9104a4a6",
   "metadata": {},
   "outputs": [
    {
     "ename": "NameError",
     "evalue": "name 'percentiles' is not defined",
     "output_type": "error",
     "traceback": [
      "\u001b[1;31m---------------------------------------------------------------------------\u001b[0m",
      "\u001b[1;31mNameError\u001b[0m                                 Traceback (most recent call last)",
      "\u001b[1;32m~\\AppData\\Local\\Temp/ipykernel_11148/3833762520.py\u001b[0m in \u001b[0;36m<module>\u001b[1;34m\u001b[0m\n\u001b[1;32m----> 1\u001b[1;33m \u001b[0mdf\u001b[0m\u001b[1;33m[\u001b[0m\u001b[1;34m\"Fare\"\u001b[0m\u001b[1;33m]\u001b[0m\u001b[1;33m[\u001b[0m\u001b[0mdf\u001b[0m\u001b[1;33m[\u001b[0m\u001b[1;34m\"Fare\"\u001b[0m\u001b[1;33m]\u001b[0m \u001b[1;33m<=\u001b[0m \u001b[0mpercentiles\u001b[0m\u001b[1;33m[\u001b[0m\u001b[1;36m0\u001b[0m\u001b[1;33m]\u001b[0m\u001b[1;33m]\u001b[0m\u001b[1;33m\u001b[0m\u001b[1;33m\u001b[0m\u001b[0m\n\u001b[0m",
      "\u001b[1;31mNameError\u001b[0m: name 'percentiles' is not defined"
     ]
    }
   ],
   "source": [
    "df[\"Fare\"][df[\"Fare\"] <= percentiles[0]]"
   ]
  },
  {
   "cell_type": "code",
   "execution_count": null,
   "id": "caff76ad",
   "metadata": {},
   "outputs": [],
   "source": []
  },
  {
   "cell_type": "code",
   "execution_count": null,
   "id": "fdb80ce0",
   "metadata": {},
   "outputs": [],
   "source": []
  },
  {
   "cell_type": "code",
   "execution_count": null,
   "id": "12a5c982",
   "metadata": {},
   "outputs": [],
   "source": [
    "threshold = 10\n",
    "for i in data.columns:\n",
    "    if data[i].nunique() < threshold:\n",
    "        data.append(i)\n",
    "        \n",
    "for i in category_features:\n",
    "    ata[each] = data[i].astype('category')        "
   ]
  },
  {
   "cell_type": "code",
   "execution_count": null,
   "id": "382f8215",
   "metadata": {},
   "outputs": [],
   "source": [
    "Box_plot(data[\"Fare\"])"
   ]
  },
  {
   "cell_type": "code",
   "execution_count": null,
   "id": "c9725b12",
   "metadata": {},
   "outputs": [],
   "source": [
    "hist_plots(data[\"Fare\"])"
   ]
  },
  {
   "cell_type": "code",
   "execution_count": null,
   "id": "2eeb6067",
   "metadata": {},
   "outputs": [],
   "source": [
    "Box_plot(data[\"Age\"])"
   ]
  },
  {
   "cell_type": "code",
   "execution_count": null,
   "id": "f5e10f87",
   "metadata": {},
   "outputs": [],
   "source": [
    "hist_plots(data[\"Age\"])"
   ]
  },
  {
   "cell_type": "code",
   "execution_count": null,
   "id": "f74ef76f",
   "metadata": {},
   "outputs": [],
   "source": []
  },
  {
   "cell_type": "code",
   "execution_count": null,
   "id": "f353bb7a",
   "metadata": {},
   "outputs": [],
   "source": [
    "data._get_numeric_data()"
   ]
  },
  {
   "cell_type": "code",
   "execution_count": null,
   "id": "c31e35a7",
   "metadata": {},
   "outputs": [],
   "source": []
  },
  {
   "cell_type": "code",
   "execution_count": null,
   "id": "9a27afef",
   "metadata": {},
   "outputs": [],
   "source": []
  },
  {
   "cell_type": "code",
   "execution_count": null,
   "id": "450444db",
   "metadata": {},
   "outputs": [],
   "source": [
    "\n",
    "def outlier_tratment(df):\n",
    "    for i in df:\n",
    "        for j in df[i]:\n",
    "            Q1 = np.quantile(df[i], .25) \n",
    "            Q3 = np.quantile(df[i], .75) \n",
    "            Q2 = np.quantile(df[i], .50)\n",
    "        \n",
    "            IQR = Q3-Q1\n",
    "            lower = Q1 -(1.5 * IQR) \n",
    "            upper = Q3 +(1.5 * IQR)\n",
    "            lower_outlier.append(lower)\n",
    "            upper_outlier.append(upper)\n",
    "            if j > upper or j < lower:\n",
    "                df[i]=df[i].replace(j, np.median(df[i]))\n",
    "    print(\"lower outlier are\",set(lower_outlier))\n",
    "    print('Upper outlier are',set(upper_outlier))"
   ]
  },
  {
   "cell_type": "code",
   "execution_count": null,
   "id": "6f9bbd5c",
   "metadata": {},
   "outputs": [],
   "source": [
    "outlier_tratment(data)"
   ]
  },
  {
   "cell_type": "code",
   "execution_count": null,
   "id": "cf74078a",
   "metadata": {},
   "outputs": [],
   "source": [
    "# Numerical columns\n",
    "numericCols = data._get_numeric_data().columns\n",
    "print(\"Numerical: {}\".format(numericCols))   \n",
    "\n",
    "# Categorical columns\n",
    "categorical = data.select_dtypes(include=['category'])\n",
    "print(\"Categorical: {}\".format(categorical))"
   ]
  },
  {
   "cell_type": "code",
   "execution_count": null,
   "id": "fad1e19c",
   "metadata": {},
   "outputs": [],
   "source": [
    "nums = {'num': [ 10,20,50,40,80,1000,900,950,100,50,500,120,15,160,200,300,25,240,300,290,45,5],\n",
    "        #'Roll No.': [ 0.06905,0.0,2.18,0.0,0.458,7.147,54.2,6.0622,3.0,222.0,18.7,396.90,5.33,36.2],\n",
    "       }"
   ]
  },
  {
   "cell_type": "code",
   "execution_count": null,
   "id": "b27935b4",
   "metadata": {},
   "outputs": [],
   "source": [
    "df = pd.DataFrame(nums)\n",
    "  \n",
    "    \n",
    "df"
   ]
  },
  {
   "cell_type": "code",
   "execution_count": null,
   "id": "2540cd85",
   "metadata": {},
   "outputs": [],
   "source": [
    "def Box_plot(df):\n",
    "    plt.figure(figsize=(10,4))\n",
    "    plt.title(\"Box plot\")\n",
    "    sns.boxplot(df)\n",
    "    plt.show()\n",
    "    \n",
    "def hist_plots(df):\n",
    "    plt.figure(figsize=(10,4))\n",
    "    plt.title(\"Histogram plot\")\n",
    "    plt.hist(df)\n",
    "    plt.show()"
   ]
  },
  {
   "cell_type": "code",
   "execution_count": null,
   "id": "fa453c14",
   "metadata": {},
   "outputs": [],
   "source": [
    "Box_plot(df[\"num\"])"
   ]
  },
  {
   "cell_type": "code",
   "execution_count": null,
   "id": "2a3c5a72",
   "metadata": {},
   "outputs": [],
   "source": [
    "lower_outlier=[]\n",
    "upper_outlier=[]\n",
    "\n",
    "def outlier_tratment(df):\n",
    "    for i in df:\n",
    "        for j in df[i]:\n",
    "            Q1 = np.quantile(df[i], .25) \n",
    "            Q3 = np.quantile(df[i], .75) \n",
    "            Q2 = np.quantile(df[i], .50)\n",
    "        \n",
    "            IQR = Q3-Q1\n",
    "            lower = Q1 -(1.5 * IQR) \n",
    "            upper = Q3 +(1.5 * IQR)\n",
    "            \n",
    "            lower_outlier.append(lower)\n",
    "            \n",
    "            upper_outlier.append(upper)\n",
    "            \n",
    "            if j > upper or j < lower:\n",
    "                \n",
    "                df[i]=df[i].replace(j, np.median(df[i]))\n",
    "                \n",
    "    print(\"lower outlier are\",set(lower_outlier),\"\\n\")\n",
    "    print('Upper outlier are',set(upper_outlier))"
   ]
  },
  {
   "cell_type": "code",
   "execution_count": null,
   "id": "98e32bc7",
   "metadata": {},
   "outputs": [],
   "source": [
    "outlier_tratment(df)"
   ]
  },
  {
   "cell_type": "code",
   "execution_count": null,
   "id": "8c61256f",
   "metadata": {},
   "outputs": [],
   "source": [
    "Box_plot(df[\"num\"])"
   ]
  },
  {
   "cell_type": "code",
   "execution_count": null,
   "id": "f34a5ae0",
   "metadata": {},
   "outputs": [],
   "source": [
    "df1=df\n",
    "df1"
   ]
  },
  {
   "cell_type": "code",
   "execution_count": null,
   "id": "77497bd6",
   "metadata": {},
   "outputs": [],
   "source": []
  }
 ],
 "metadata": {
  "kernelspec": {
   "display_name": "Python 3 (ipykernel)",
   "language": "python",
   "name": "python3"
  },
  "language_info": {
   "codemirror_mode": {
    "name": "ipython",
    "version": 3
   },
   "file_extension": ".py",
   "mimetype": "text/x-python",
   "name": "python",
   "nbconvert_exporter": "python",
   "pygments_lexer": "ipython3",
   "version": "3.9.7"
  }
 },
 "nbformat": 4,
 "nbformat_minor": 5
}
