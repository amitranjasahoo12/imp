{
 "cells": [
  {
   "cell_type": "code",
   "execution_count": 1,
   "id": "8078b432",
   "metadata": {},
   "outputs": [],
   "source": [
    "import pandas as pd\n",
    "import matplotlib.pyplot as plt\n",
    "import seaborn as sns\n",
    "import numpy as np\n",
    "%matplotlib inline"
   ]
  },
  {
   "cell_type": "code",
   "execution_count": 2,
   "id": "e01bd97f",
   "metadata": {},
   "outputs": [],
   "source": [
    "Url = \"https://raw.githubusercontent.com/BigDataGal/Python-for-Data-Science/master/titanic-train.csv\""
   ]
  },
  {
   "cell_type": "code",
   "execution_count": 3,
   "id": "ab0e1e03",
   "metadata": {},
   "outputs": [],
   "source": [
    "data = pd.read_csv(Url)"
   ]
  },
  {
   "cell_type": "code",
   "execution_count": 4,
   "id": "98c62126",
   "metadata": {},
   "outputs": [
    {
     "data": {
      "text/html": [
       "<div>\n",
       "<style scoped>\n",
       "    .dataframe tbody tr th:only-of-type {\n",
       "        vertical-align: middle;\n",
       "    }\n",
       "\n",
       "    .dataframe tbody tr th {\n",
       "        vertical-align: top;\n",
       "    }\n",
       "\n",
       "    .dataframe thead th {\n",
       "        text-align: right;\n",
       "    }\n",
       "</style>\n",
       "<table border=\"1\" class=\"dataframe\">\n",
       "  <thead>\n",
       "    <tr style=\"text-align: right;\">\n",
       "      <th></th>\n",
       "      <th>PassengerId</th>\n",
       "      <th>Survived</th>\n",
       "      <th>Pclass</th>\n",
       "      <th>Name</th>\n",
       "      <th>Sex</th>\n",
       "      <th>Age</th>\n",
       "      <th>SibSp</th>\n",
       "      <th>Parch</th>\n",
       "      <th>Ticket</th>\n",
       "      <th>Fare</th>\n",
       "      <th>Cabin</th>\n",
       "      <th>Embarked</th>\n",
       "    </tr>\n",
       "  </thead>\n",
       "  <tbody>\n",
       "    <tr>\n",
       "      <th>0</th>\n",
       "      <td>1</td>\n",
       "      <td>0</td>\n",
       "      <td>3</td>\n",
       "      <td>Braund, Mr. Owen Harris</td>\n",
       "      <td>male</td>\n",
       "      <td>22.0</td>\n",
       "      <td>1</td>\n",
       "      <td>0</td>\n",
       "      <td>A/5 21171</td>\n",
       "      <td>7.2500</td>\n",
       "      <td>NaN</td>\n",
       "      <td>S</td>\n",
       "    </tr>\n",
       "    <tr>\n",
       "      <th>1</th>\n",
       "      <td>2</td>\n",
       "      <td>1</td>\n",
       "      <td>1</td>\n",
       "      <td>Cumings, Mrs. John Bradley (Florence Briggs Th...</td>\n",
       "      <td>female</td>\n",
       "      <td>38.0</td>\n",
       "      <td>1</td>\n",
       "      <td>0</td>\n",
       "      <td>PC 17599</td>\n",
       "      <td>71.2833</td>\n",
       "      <td>C85</td>\n",
       "      <td>C</td>\n",
       "    </tr>\n",
       "    <tr>\n",
       "      <th>2</th>\n",
       "      <td>3</td>\n",
       "      <td>1</td>\n",
       "      <td>3</td>\n",
       "      <td>Heikkinen, Miss. Laina</td>\n",
       "      <td>female</td>\n",
       "      <td>26.0</td>\n",
       "      <td>0</td>\n",
       "      <td>0</td>\n",
       "      <td>STON/O2. 3101282</td>\n",
       "      <td>7.9250</td>\n",
       "      <td>NaN</td>\n",
       "      <td>S</td>\n",
       "    </tr>\n",
       "    <tr>\n",
       "      <th>3</th>\n",
       "      <td>4</td>\n",
       "      <td>1</td>\n",
       "      <td>1</td>\n",
       "      <td>Futrelle, Mrs. Jacques Heath (Lily May Peel)</td>\n",
       "      <td>female</td>\n",
       "      <td>35.0</td>\n",
       "      <td>1</td>\n",
       "      <td>0</td>\n",
       "      <td>113803</td>\n",
       "      <td>53.1000</td>\n",
       "      <td>C123</td>\n",
       "      <td>S</td>\n",
       "    </tr>\n",
       "    <tr>\n",
       "      <th>4</th>\n",
       "      <td>5</td>\n",
       "      <td>0</td>\n",
       "      <td>3</td>\n",
       "      <td>Allen, Mr. William Henry</td>\n",
       "      <td>male</td>\n",
       "      <td>35.0</td>\n",
       "      <td>0</td>\n",
       "      <td>0</td>\n",
       "      <td>373450</td>\n",
       "      <td>8.0500</td>\n",
       "      <td>NaN</td>\n",
       "      <td>S</td>\n",
       "    </tr>\n",
       "  </tbody>\n",
       "</table>\n",
       "</div>"
      ],
      "text/plain": [
       "   PassengerId  Survived  Pclass  \\\n",
       "0            1         0       3   \n",
       "1            2         1       1   \n",
       "2            3         1       3   \n",
       "3            4         1       1   \n",
       "4            5         0       3   \n",
       "\n",
       "                                                Name     Sex   Age  SibSp  \\\n",
       "0                            Braund, Mr. Owen Harris    male  22.0      1   \n",
       "1  Cumings, Mrs. John Bradley (Florence Briggs Th...  female  38.0      1   \n",
       "2                             Heikkinen, Miss. Laina  female  26.0      0   \n",
       "3       Futrelle, Mrs. Jacques Heath (Lily May Peel)  female  35.0      1   \n",
       "4                           Allen, Mr. William Henry    male  35.0      0   \n",
       "\n",
       "   Parch            Ticket     Fare Cabin Embarked  \n",
       "0      0         A/5 21171   7.2500   NaN        S  \n",
       "1      0          PC 17599  71.2833   C85        C  \n",
       "2      0  STON/O2. 3101282   7.9250   NaN        S  \n",
       "3      0            113803  53.1000  C123        S  \n",
       "4      0            373450   8.0500   NaN        S  "
      ]
     },
     "execution_count": 4,
     "metadata": {},
     "output_type": "execute_result"
    }
   ],
   "source": [
    "data.head()"
   ]
  },
  {
   "cell_type": "code",
   "execution_count": 5,
   "id": "1c2032f1",
   "metadata": {},
   "outputs": [
    {
     "data": {
      "text/plain": [
       "PassengerId      int64\n",
       "Survived         int64\n",
       "Pclass           int64\n",
       "Name            object\n",
       "Sex             object\n",
       "Age            float64\n",
       "SibSp            int64\n",
       "Parch            int64\n",
       "Ticket          object\n",
       "Fare           float64\n",
       "Cabin           object\n",
       "Embarked        object\n",
       "dtype: object"
      ]
     },
     "execution_count": 5,
     "metadata": {},
     "output_type": "execute_result"
    }
   ],
   "source": [
    "data.dtypes"
   ]
  },
  {
   "cell_type": "code",
   "execution_count": 6,
   "id": "4e1e2609",
   "metadata": {},
   "outputs": [
    {
     "data": {
      "text/plain": [
       "Index(['PassengerId', 'Survived', 'Pclass', 'Name', 'Sex', 'Age', 'SibSp',\n",
       "       'Parch', 'Ticket', 'Fare', 'Cabin', 'Embarked'],\n",
       "      dtype='object')"
      ]
     },
     "execution_count": 6,
     "metadata": {},
     "output_type": "execute_result"
    }
   ],
   "source": [
    "data.columns"
   ]
  },
  {
   "cell_type": "code",
   "execution_count": 7,
   "id": "1aa44c5f",
   "metadata": {},
   "outputs": [
    {
     "data": {
      "text/plain": [
       "PassengerId      0\n",
       "Survived         0\n",
       "Pclass           0\n",
       "Name             0\n",
       "Sex              0\n",
       "Age            177\n",
       "SibSp            0\n",
       "Parch            0\n",
       "Ticket           0\n",
       "Fare             0\n",
       "Cabin          687\n",
       "Embarked         2\n",
       "dtype: int64"
      ]
     },
     "execution_count": 7,
     "metadata": {},
     "output_type": "execute_result"
    }
   ],
   "source": [
    "data.isnull().sum()"
   ]
  },
  {
   "cell_type": "code",
   "execution_count": 8,
   "id": "22b19fa6",
   "metadata": {},
   "outputs": [
    {
     "data": {
      "text/plain": [
       "29.69911764705882"
      ]
     },
     "execution_count": 8,
     "metadata": {},
     "output_type": "execute_result"
    }
   ],
   "source": [
    "mean=data.Age.mean()\n",
    "mean"
   ]
  },
  {
   "cell_type": "code",
   "execution_count": 9,
   "id": "c6b3a3d6",
   "metadata": {},
   "outputs": [],
   "source": [
    "def impute_nan(df,variable,mean):\n",
    "    df[variable]=df[variable].fillna(mean)"
   ]
  },
  {
   "cell_type": "code",
   "execution_count": 10,
   "id": "e5fbb7e1",
   "metadata": {},
   "outputs": [],
   "source": [
    "impute_nan(data,'Age',mean)"
   ]
  },
  {
   "cell_type": "code",
   "execution_count": 11,
   "id": "9acfca5e",
   "metadata": {},
   "outputs": [],
   "source": [
    "df=data[['PassengerId', 'Survived', 'Pclass', 'Age', 'SibSp','Parch', 'Fare']]"
   ]
  },
  {
   "cell_type": "code",
   "execution_count": 12,
   "id": "5a3d6bec",
   "metadata": {},
   "outputs": [
    {
     "data": {
      "text/plain": [
       "PassengerId    0\n",
       "Survived       0\n",
       "Pclass         0\n",
       "Age            0\n",
       "SibSp          0\n",
       "Parch          0\n",
       "Fare           0\n",
       "dtype: int64"
      ]
     },
     "execution_count": 12,
     "metadata": {},
     "output_type": "execute_result"
    }
   ],
   "source": [
    "df.isnull().sum()"
   ]
  },
  {
   "cell_type": "code",
   "execution_count": 13,
   "id": "122e13bd",
   "metadata": {},
   "outputs": [],
   "source": [
    "def Box_plot(df):\n",
    "    plt.figure(figsize=(10,4))\n",
    "    plt.title(\"Box plot\")\n",
    "    sns.boxplot(df)\n",
    "    plt.show()\n",
    "    \n",
    "def hist_plots(df):\n",
    "    plt.figure(figsize=(10,4))\n",
    "    plt.title(\"Histogram plot\")\n",
    "    plt.hist(df)\n",
    "    plt.show()\n",
    "    \n",
    "def scatter_plots(df1,df2):\n",
    "    fig,ax = plt.subplots(figsize=(10,4))\n",
    "    ax.scatter(df1,df2)\n",
    "    ax.set_xlabel(\"123\")\n",
    "    ax.set_ylabel(\"456\")\n",
    "    plt.title(\"scatter plot\")\n",
    "    plt.show()\n",
    "    \n",
    "    \n",
    "def dist_plots(df):\n",
    "    plt.figure(figsize=(10,4))\n",
    "    plt.title(\"distrinution plot\")\n",
    "    sns.distplot(df)\n",
    "    sns.despine()\n",
    "    plt.show()"
   ]
  },
  {
   "cell_type": "code",
   "execution_count": 14,
   "id": "1f814bc9",
   "metadata": {},
   "outputs": [
    {
     "name": "stderr",
     "output_type": "stream",
     "text": [
      "C:\\Users\\sony\\anaconda3\\lib\\site-packages\\seaborn\\_decorators.py:36: FutureWarning: Pass the following variable as a keyword arg: x. From version 0.12, the only valid positional argument will be `data`, and passing other arguments without an explicit keyword will result in an error or misinterpretation.\n",
      "  warnings.warn(\n"
     ]
    },
    {
     "data": {
      "image/png": "[encoded data removed]",
      "text/plain": [
       "<Figure size 720x288 with 1 Axes>"
      ]
     },
     "metadata": {
      "needs_background": "light"
     },
     "output_type": "display_data"
    }
   ],
   "source": [
    "Box_plot(df[\"Fare\"])"
   ]
  },
  {
   "cell_type": "code",
   "execution_count": null,
   "id": "323858cb",
   "metadata": {},
   "outputs": [],
   "source": []
  },
  {
   "cell_type": "code",
   "execution_count": 15,
   "id": "9fb2077d",
   "metadata": {
    "scrolled": true
   },
   "outputs": [
    {
     "data": {
      "image/png": "[encoded data removed]",
      "text/plain": [
       "<Figure size 1440x1440 with 1 Axes>"
      ]
     },
     "metadata": {
      "needs_background": "light"
     },
     "output_type": "display_data"
    }
   ],
   "source": [
    "fig , ax = plt.subplots(figsize=(20,20))\n",
    "sns.boxplot(data= df, ax = ax)\n",
    "plt.show()"
   ]
  },
  {
   "cell_type": "code",
   "execution_count": 16,
   "id": "93e2efa1",
   "metadata": {},
   "outputs": [
    {
     "name": "stdout",
     "output_type": "stream",
     "text": [
      "columns in PassengerId\n"
     ]
    },
    {
     "name": "stderr",
     "output_type": "stream",
     "text": [
      "C:\\Users\\sony\\AppData\\Local\\Temp/ipykernel_9356/564894572.py:30: SettingWithCopyWarning: \n",
      "A value is trying to be set on a copy of a slice from a DataFrame.\n",
      "Try using .loc[row_indexer,col_indexer] = value instead\n",
      "\n",
      "See the caveats in the documentation: https://pandas.pydata.org/pandas-docs/stable/user_guide/indexing.html#returning-a-view-versus-a-copy\n",
      "  df[i]=df[i]\n"
     ]
    },
    {
     "name": "stdout",
     "output_type": "stream",
     "text": [
      "columns in Survived\n",
      "columns in Pclass\n",
      "columns in Age\n"
     ]
    },
    {
     "name": "stderr",
     "output_type": "stream",
     "text": [
      "C:\\Users\\sony\\AppData\\Local\\Temp/ipykernel_9356/564894572.py:27: SettingWithCopyWarning: \n",
      "A value is trying to be set on a copy of a slice from a DataFrame.\n",
      "Try using .loc[row_indexer,col_indexer] = value instead\n",
      "\n",
      "See the caveats in the documentation: https://pandas.pydata.org/pandas-docs/stable/user_guide/indexing.html#returning-a-view-versus-a-copy\n",
      "  df[i]=df[i].replace(j, np.median(df[i]))\n"
     ]
    },
    {
     "name": "stdout",
     "output_type": "stream",
     "text": [
      "columns in SibSp\n",
      "columns in Parch\n",
      "columns in Fare\n",
      "Quantile-1 (Q1):  7.9104 \n",
      "\n",
      "Quantile-2-median (Q2):  14.4542 \n",
      "\n",
      "Quantile-3 (Q3):  14.4542 \n",
      "\n",
      "Inter Quantile Range (IQR):  6.5438 \n",
      "\n",
      "lowerBound :  -1.9052999999999995 \n",
      "\n",
      "upperBound :  24.2699 \n",
      "\n",
      "Detection Success \n",
      "\n",
      "No_outliers :  [0.0, 0.0, 0.0, 0.0, 0.0, 0.0, 0.0, 0.0, 0.0, 0.0, 0.0, 0.0, 0.0, 0.0, 0.0, 4.0125, 5.0, 6.2375, 6.4375, 6.45, 6.4958, 6.4958, 6.75, 6.75, 6.8583, 6.95, 6.975, 6.975, 7.0458, 7.05, 7.05, 7.05, 7.05, 7.05, 7.05, 7.05, 7.0542, 7.0542, 7.125, 7.125, 7.125, 7.125, 7.1417, 7.225, 7.225, 7.225, 7.225, 7.225, 7.225, 7.225, 7.225, 7.225, 7.225, 7.225, 7.225, 7.2292, 7.2292, 7.2292, 7.2292, 7.2292, 7.2292, 7.2292, 7.2292, 7.2292, 7.2292, 7.2292, 7.2292, 7.2292, 7.2292, 7.2292, 7.25, 7.25, 7.25, 7.25, 7.25, 7.25, 7.25, 7.25, 7.25, 7.25, 7.25, 7.25, 7.25, 7.3125, 7.4958, 7.4958, 7.4958, 7.5208, 7.55, 7.55, 7.55, 7.55, 7.6292, 7.65, 7.65, 7.65, 7.65, 7.725, 7.7292, 7.7333, 7.7333, 7.7333, 7.7333, 7.7375, 7.7375, 7.7417, 7.75, 7.75, 7.75, 7.75, 7.75, 7.75, 7.75, 7.75, 7.75, 7.75, 7.75, 7.75, 7.75, 7.75, 7.75, 7.75, 7.75, 7.75, 7.75, 7.75, 7.75, 7.75, 7.75, 7.75, 7.75, 7.75, 7.75, 7.75, 7.75, 7.75, 7.75, 7.75, 7.75, 7.75, 7.775, 7.775, 7.775, 7.775, 7.775, 7.775, 7.775, 7.775, 7.775, 7.775, 7.775, 7.775, 7.775, 7.775, 7.775, 7.775, 7.7875, 7.7958, 7.7958, 7.7958, 7.7958, 7.7958, 7.7958, 7.8, 7.8292, 7.8292, 7.8542, 7.8542, 7.8542, 7.8542, 7.8542, 7.8542, 7.8542, 7.8542, 7.8542, 7.8542, 7.8542, 7.8542, 7.8542, 7.875, 7.8792, 7.8792, 7.8792, 7.8792, 7.8875, 7.8958, 7.8958, 7.8958, 7.8958, 7.8958, 7.8958, 7.8958, 7.8958, 7.8958, 7.8958, 7.8958, 7.8958, 7.8958, 7.8958, 7.8958, 7.8958, 7.8958, 7.8958, 7.8958, 7.8958, 7.8958, 7.8958, 7.8958, 7.8958, 7.8958, 7.8958, 7.8958, 7.8958, 7.8958, 7.8958, 7.8958, 7.8958, 7.8958, 7.8958, 7.8958, 7.8958, 7.8958, 7.8958, 7.925, 7.925, 7.925, 7.925, 7.925, 7.925, 7.925, 7.925, 7.925, 7.925, 7.925, 7.925, 7.925, 7.925, 7.925, 7.925, 7.925, 7.925, 8.0292, 8.05, 8.05, 8.05, 8.05, 8.05, 8.05, 8.05, 8.05, 8.05, 8.05, 8.05, 8.05, 8.05, 8.05, 8.05, 8.05, 8.05, 8.05, 8.05, 8.05, 8.05, 8.05, 8.05, 8.05, 8.05, 8.05, 8.05, 8.05, 8.05, 8.05, 8.05, 8.05, 8.05, 8.05, 8.05, 8.05, 8.05, 8.05, 8.05, 8.05, 8.05, 8.05, 8.05, 8.1125, 8.1375, 8.1583, 8.3, 8.3625, 8.4042, 8.4333, 8.4583, 8.5167, 8.6542, 8.6625, 8.6625, 8.6625, 8.6625, 8.6625, 8.6625, 8.6625, 8.6625, 8.6625, 8.6625, 8.6625, 8.6625, 8.6625, 8.6833, 8.7125, 8.85, 9.0, 9.0, 9.2167, 9.225, 9.225, 9.35, 9.35, 9.475, 9.4833, 9.5, 9.5, 9.5, 9.5, 9.5, 9.5, 9.5, 9.5, 9.5, 9.5875, 9.5875, 9.825, 9.825, 9.8375, 9.8417, 9.8458, 10.1708, 10.4625, 10.4625, 10.5, 10.5, 10.5, 10.5, 10.5, 10.5, 10.5, 10.5, 10.5, 10.5, 10.5, 10.5, 10.5, 10.5, 10.5, 10.5, 10.5, 10.5, 10.5, 10.5, 10.5, 10.5, 10.5, 10.5, 10.5167, 11.1333, 11.1333, 11.1333, 11.2417, 11.2417, 11.5, 11.5, 11.5, 11.5, 12.0, 12.275, 12.2875, 12.35, 12.35, 12.35, 12.475, 12.475, 12.475, 12.475, 12.525, 12.65, 12.875, 13.0, 13.0, 13.0, 13.0, 13.0, 13.0, 13.0, 13.0, 13.0, 13.0, 13.0, 13.0, 13.0, 13.0, 13.0, 13.0, 13.0, 13.0, 13.0, 13.0, 13.0, 13.0, 13.0, 13.0, 13.0, 13.0, 13.0, 13.0, 13.0, 13.0, 13.0, 13.0, 13.0, 13.0, 13.0, 13.0, 13.0, 13.0, 13.0, 13.0, 13.0, 13.0, 13.4167, 13.5, 13.5, 13.5, 13.5, 13.7917, 13.8583, 13.8625, 14.0, 14.1083, 14.4, 14.4, 14.4542, 14.4542, 14.4542, 14.4542, 14.4542, 14.4542, 14.4542, 14.4542, 14.4542, 14.4542, 14.4542, 14.4542, 14.4542, 14.4542, 14.4542, 14.4542, 14.4542, 14.4542, 14.4542, 14.4542, 14.4542, 14.4542, 14.4542, 14.4542, 14.4542, 14.4542, 14.4542, 14.4542, 14.4542, 14.4542, 14.4542, 14.4542, 14.4542, 14.4542, 14.4542, 14.4542, 14.4542, 14.4542, 14.4542, 14.4542, 14.4542, 14.4542, 14.4542, 14.4542, 14.4542, 14.4542, 14.4542, 14.4542, 14.4542, 14.4542, 14.4542, 14.4542, 14.4542, 14.4542, 14.4542, 14.4542, 14.4542, 14.4542, 14.4542, 14.4542, 14.4542, 14.4542, 14.4542, 14.4542, 14.4542, 14.4542, 14.4542, 14.4542, 14.4542, 14.4542, 14.4542, 14.4542, 14.4542, 14.4542, 14.4542, 14.4542, 14.4542, 14.4542, 14.4542, 14.4542, 14.4542, 14.4542, 14.4542, 14.4542, 14.4542, 14.4542, 14.4542, 14.4542, 14.4542, 14.4542, 14.4542, 14.4542, 14.4542, 14.4542, 14.4542, 14.4542, 14.4542, 14.4542, 14.4542, 14.4542, 14.4542, 14.4542, 14.4542, 14.4542, 14.4542, 14.4542, 14.4542, 14.4542, 14.4542, 14.4542, 14.4542, 14.4542, 14.4542, 14.4542, 14.4542, 14.4542, 14.4542, 14.4542, 14.4542, 14.4542, 14.4542, 14.4542, 14.4542, 14.4542, 14.4542, 14.4542, 14.4542, 14.4542, 14.4542, 14.4542, 14.4542, 14.4542, 14.4542, 14.4542, 14.4542, 14.4542, 14.4542, 14.4542, 14.4542, 14.4542, 14.4542, 14.4542, 14.4542, 14.4542, 14.4542, 14.4542, 14.4542, 14.4542, 14.4542, 14.4542, 14.4542, 14.4542, 14.4542, 14.4542, 14.4542, 14.4542, 14.4542, 14.4542, 14.4542, 14.4542, 14.4542, 14.4542, 14.4542, 14.4542, 14.4542, 14.4542, 14.4542, 14.4542, 14.4542, 14.4542, 14.4542, 14.4542, 14.4542, 14.4542, 14.4542, 14.4542, 14.4542, 14.4542, 14.4542, 14.4542, 14.4542, 14.4542, 14.4542, 14.4542, 14.4542, 14.4542, 14.4542, 14.4542, 14.4542, 14.4542, 14.4542, 14.4542, 14.4542, 14.4542, 14.4542, 14.4542, 14.4542, 14.4542, 14.4542, 14.4542, 14.4542, 14.4542, 14.4542, 14.4542, 14.4542, 14.4542, 14.4542, 14.4542, 14.4542, 14.4542, 14.4542, 14.4542, 14.4542, 14.4542, 14.4542, 14.4542, 14.4542, 14.4542, 14.4542, 14.4542, 14.4542, 14.4542, 14.4542, 14.4542, 14.4542, 14.4542, 14.4542, 14.4542, 14.4542, 14.4542, 14.4542, 14.4542, 14.4542, 14.4542, 14.4542, 14.4542, 14.4542, 14.4542, 14.4542, 14.4542, 14.4542, 14.4542, 14.4542, 14.4542, 14.4542, 14.4542, 14.4542, 14.4542, 14.4542, 14.4542, 14.4542, 14.4542, 14.4542, 14.4542, 14.4542, 14.4542, 14.4542, 14.4542, 14.4542, 14.4542, 14.4542, 14.4542, 14.4542, 14.4542, 14.4542, 14.4542, 14.4542, 14.4542, 14.4542, 14.4542, 14.4542, 14.4542, 14.4542, 14.4542, 14.4542, 14.4542, 14.4542, 14.4542, 14.4542, 14.4542, 14.4542, 14.4542, 14.4542, 14.4542, 14.4542, 14.4542, 14.4542, 14.4542, 14.4542, 14.4542, 14.4542, 14.4542, 14.4583, 14.4583, 14.4583, 14.5, 14.5, 14.5, 14.5, 14.5, 14.5, 14.5, 15.0, 15.0458, 15.05, 15.1, 15.2458, 15.2458, 15.2458, 15.2458, 15.2458, 15.5, 15.5, 15.5, 15.5, 15.5, 15.5, 15.5, 15.5, 15.55, 15.7417, 15.7417, 15.75, 15.85, 15.85, 15.85, 15.85, 15.9, 15.9, 16.0, 16.1, 16.1, 16.1, 16.1, 16.1, 16.1, 16.1, 16.1, 16.1, 16.7, 16.7, 17.4, 17.8, 17.8, 18.0, 18.0, 18.0, 18.75, 18.75, 18.75, 18.7875, 18.7875, 19.2583, 19.2583, 19.2583, 19.2583, 19.5, 19.5, 19.9667, 19.9667, 20.2125, 20.2125, 20.25, 20.25, 20.525, 20.525, 20.525, 20.575, 20.575, 21.0, 21.0, 21.0, 21.0, 21.0, 21.0, 21.075, 21.075, 21.075, 21.075, 21.6792, 22.025, 22.3583, 22.3583, 22.525, 23.0, 23.0, 23.0, 23.0, 23.25, 23.25, 23.45, 23.45, 24.0, 24.0, 24.15, 24.15, 24.15, 24.15, 24.15, 24.15, 24.15, 24.15] \n",
      "\n",
      "lower_fence_otlier :  [] \n",
      "\n",
      "upper_fence_otlier :  [25.4667, 25.4667, 25.4667, 25.4667, 25.5875, 25.925, 26.2833, 26.2875, 26.2875, 26.2875, 26.3875, 27.0, 27.0, 27.7208, 27.7208, 27.7208, 27.7208, 27.7208, 27.75, 27.75, 27.75, 27.75, 28.5, 28.7125, 29.0, 29.0, 30.0708, 30.0708, 30.5, 30.5, 30.5, 30.5, 30.5, 31.3875, 31.3875, 31.3875, 31.3875, 32.3208, 32.5, 33.5, 34.0208, 34.6542, 35.0, 36.75, 36.75, 38.5, 47.1, 50.0, 61.9792] \n",
      "\n",
      "Length lower_fence_otlier :  0 \n",
      "\n",
      "Length upper_fence_otlier :  49 \n",
      "\n",
      "Length Outliers :  49 \n",
      "\n"
     ]
    }
   ],
   "source": [
    "def outlier_data(df):\n",
    "    for i in df.columns:\n",
    "        print(\"columns in\",i)\n",
    "        for j in df[i]:\n",
    "            if (((df[i].dtype)=='float64') | ((df[i].dtype)=='int64')):\n",
    "                \n",
    "                Q1 = np.quantile(df[i], .25) \n",
    "                Q3 = np.quantile(df[i], .75) \n",
    "                Q2 = np.quantile(df[i], .50)\n",
    "                \n",
    "                IQR = Q3-Q1\n",
    "                lower = Q1 -(1.5 * IQR) \n",
    "                upper = Q3 +(1.5 * IQR)\n",
    "                \n",
    "                no_outliers = df[i][(Q1 - 1.5*IQR < df[i]) &  (df[i] < Q3 + 1.5*IQR)]\n",
    "    \n",
    "                outliers = df[i][(Q1 - 1.5*IQR > df[i]) |  (df[i] > Q3 + 1.5*IQR)] # or\n",
    "\n",
    "                lower_fence_otlier=df[i] [(Q1 - 1.5*IQR > df[i])]\n",
    "\n",
    "                upper_fence_otlier=df[i] [(df[i] > Q3 + 1.5*IQR)]\n",
    "                \n",
    "                \n",
    "            \n",
    "            \n",
    "            if j > upper or j < lower:\n",
    "                df[i]=df[i].replace(j, np.median(df[i]))\n",
    "                \n",
    "            else:\n",
    "                df[i]=df[i]\n",
    "                \n",
    "                \n",
    "                \n",
    "    print(\"Quantile-1 (Q1): \",Q1, \"\\n\")\n",
    "    print(\"Quantile-2-median (Q2): \",Q2, \"\\n\")\n",
    "    print(\"Quantile-3 (Q3): \",Q3, \"\\n\")\n",
    "    print(\"Inter Quantile Range (IQR): \",IQR, \"\\n\")\n",
    "    \n",
    "    print('lowerBound : ',lower,\"\\n\")\n",
    "    print('upperBound : ',upper,\"\\n\")\n",
    "    \n",
    "    \n",
    "    \n",
    "    print('Detection Success',\"\\n\")\n",
    "    \n",
    "    print('No_outliers : ',sorted(no_outliers),\"\\n\")\n",
    "    \n",
    "    \n",
    "    \n",
    "    print('lower_fence_otlier : ',sorted(lower_fence_otlier),\"\\n\")\n",
    "    \n",
    "    print('upper_fence_otlier : ',sorted(upper_fence_otlier),\"\\n\")\n",
    "    \n",
    "    \n",
    "    print('Length lower_fence_otlier : ',len(lower_fence_otlier),\"\\n\")\n",
    "    \n",
    "    print('Length upper_fence_otlier : ',len(upper_fence_otlier),\"\\n\")\n",
    "    \n",
    "    #print('Outliers : ',outliers,\"\\n\")\n",
    "    \n",
    "    print('Length Outliers : ',len(outliers),\"\\n\")\n",
    "    \n",
    "    \n",
    "    return lower,upper,df #,outliers            \n",
    "        \n",
    "    \n",
    "\n",
    "final_df=outlier_data(df)"
   ]
  },
  {
   "cell_type": "code",
   "execution_count": 17,
   "id": "19b904d7",
   "metadata": {},
   "outputs": [
    {
     "name": "stderr",
     "output_type": "stream",
     "text": [
      "C:\\Users\\sony\\anaconda3\\lib\\site-packages\\seaborn\\_decorators.py:36: FutureWarning: Pass the following variable as a keyword arg: x. From version 0.12, the only valid positional argument will be `data`, and passing other arguments without an explicit keyword will result in an error or misinterpretation.\n",
      "  warnings.warn(\n"
     ]
    },
    {
     "data": {
      "image/png": "[encoded data removed]",
      "text/plain": [
       "<Figure size 720x288 with 1 Axes>"
      ]
     },
     "metadata": {
      "needs_background": "light"
     },
     "output_type": "display_data"
    }
   ],
   "source": [
    "Box_plot(df[\"Fare\"])"
   ]
  },
  {
   "cell_type": "code",
   "execution_count": null,
   "id": "1e7141ac",
   "metadata": {},
   "outputs": [],
   "source": []
  },
  {
   "cell_type": "code",
   "execution_count": null,
   "id": "1b830edf",
   "metadata": {},
   "outputs": [],
   "source": []
  },
  {
   "cell_type": "code",
   "execution_count": 18,
   "id": "37fd401b",
   "metadata": {},
   "outputs": [],
   "source": [
    "new_df=data[['PassengerId', 'Survived', 'Pclass', 'Age', 'SibSp','Parch', 'Fare']]"
   ]
  },
  {
   "cell_type": "code",
   "execution_count": 19,
   "id": "b7aab44c",
   "metadata": {},
   "outputs": [
    {
     "data": {
      "text/html": [
       "<div>\n",
       "<style scoped>\n",
       "    .dataframe tbody tr th:only-of-type {\n",
       "        vertical-align: middle;\n",
       "    }\n",
       "\n",
       "    .dataframe tbody tr th {\n",
       "        vertical-align: top;\n",
       "    }\n",
       "\n",
       "    .dataframe thead th {\n",
       "        text-align: right;\n",
       "    }\n",
       "</style>\n",
       "<table border=\"1\" class=\"dataframe\">\n",
       "  <thead>\n",
       "    <tr style=\"text-align: right;\">\n",
       "      <th></th>\n",
       "      <th>PassengerId</th>\n",
       "      <th>Survived</th>\n",
       "      <th>Pclass</th>\n",
       "      <th>Age</th>\n",
       "      <th>SibSp</th>\n",
       "      <th>Parch</th>\n",
       "      <th>Fare</th>\n",
       "    </tr>\n",
       "  </thead>\n",
       "  <tbody>\n",
       "    <tr>\n",
       "      <th>0</th>\n",
       "      <td>1</td>\n",
       "      <td>0</td>\n",
       "      <td>3</td>\n",
       "      <td>22.000000</td>\n",
       "      <td>1</td>\n",
       "      <td>0</td>\n",
       "      <td>7.2500</td>\n",
       "    </tr>\n",
       "    <tr>\n",
       "      <th>1</th>\n",
       "      <td>2</td>\n",
       "      <td>1</td>\n",
       "      <td>1</td>\n",
       "      <td>38.000000</td>\n",
       "      <td>1</td>\n",
       "      <td>0</td>\n",
       "      <td>71.2833</td>\n",
       "    </tr>\n",
       "    <tr>\n",
       "      <th>2</th>\n",
       "      <td>3</td>\n",
       "      <td>1</td>\n",
       "      <td>3</td>\n",
       "      <td>26.000000</td>\n",
       "      <td>0</td>\n",
       "      <td>0</td>\n",
       "      <td>7.9250</td>\n",
       "    </tr>\n",
       "    <tr>\n",
       "      <th>3</th>\n",
       "      <td>4</td>\n",
       "      <td>1</td>\n",
       "      <td>1</td>\n",
       "      <td>35.000000</td>\n",
       "      <td>1</td>\n",
       "      <td>0</td>\n",
       "      <td>53.1000</td>\n",
       "    </tr>\n",
       "    <tr>\n",
       "      <th>4</th>\n",
       "      <td>5</td>\n",
       "      <td>0</td>\n",
       "      <td>3</td>\n",
       "      <td>35.000000</td>\n",
       "      <td>0</td>\n",
       "      <td>0</td>\n",
       "      <td>8.0500</td>\n",
       "    </tr>\n",
       "    <tr>\n",
       "      <th>...</th>\n",
       "      <td>...</td>\n",
       "      <td>...</td>\n",
       "      <td>...</td>\n",
       "      <td>...</td>\n",
       "      <td>...</td>\n",
       "      <td>...</td>\n",
       "      <td>...</td>\n",
       "    </tr>\n",
       "    <tr>\n",
       "      <th>886</th>\n",
       "      <td>887</td>\n",
       "      <td>0</td>\n",
       "      <td>2</td>\n",
       "      <td>27.000000</td>\n",
       "      <td>0</td>\n",
       "      <td>0</td>\n",
       "      <td>13.0000</td>\n",
       "    </tr>\n",
       "    <tr>\n",
       "      <th>887</th>\n",
       "      <td>888</td>\n",
       "      <td>1</td>\n",
       "      <td>1</td>\n",
       "      <td>19.000000</td>\n",
       "      <td>0</td>\n",
       "      <td>0</td>\n",
       "      <td>30.0000</td>\n",
       "    </tr>\n",
       "    <tr>\n",
       "      <th>888</th>\n",
       "      <td>889</td>\n",
       "      <td>0</td>\n",
       "      <td>3</td>\n",
       "      <td>29.699118</td>\n",
       "      <td>1</td>\n",
       "      <td>2</td>\n",
       "      <td>23.4500</td>\n",
       "    </tr>\n",
       "    <tr>\n",
       "      <th>889</th>\n",
       "      <td>890</td>\n",
       "      <td>1</td>\n",
       "      <td>1</td>\n",
       "      <td>26.000000</td>\n",
       "      <td>0</td>\n",
       "      <td>0</td>\n",
       "      <td>30.0000</td>\n",
       "    </tr>\n",
       "    <tr>\n",
       "      <th>890</th>\n",
       "      <td>891</td>\n",
       "      <td>0</td>\n",
       "      <td>3</td>\n",
       "      <td>32.000000</td>\n",
       "      <td>0</td>\n",
       "      <td>0</td>\n",
       "      <td>7.7500</td>\n",
       "    </tr>\n",
       "  </tbody>\n",
       "</table>\n",
       "<p>891 rows × 7 columns</p>\n",
       "</div>"
      ],
      "text/plain": [
       "     PassengerId  Survived  Pclass        Age  SibSp  Parch     Fare\n",
       "0              1         0       3  22.000000      1      0   7.2500\n",
       "1              2         1       1  38.000000      1      0  71.2833\n",
       "2              3         1       3  26.000000      0      0   7.9250\n",
       "3              4         1       1  35.000000      1      0  53.1000\n",
       "4              5         0       3  35.000000      0      0   8.0500\n",
       "..           ...       ...     ...        ...    ...    ...      ...\n",
       "886          887         0       2  27.000000      0      0  13.0000\n",
       "887          888         1       1  19.000000      0      0  30.0000\n",
       "888          889         0       3  29.699118      1      2  23.4500\n",
       "889          890         1       1  26.000000      0      0  30.0000\n",
       "890          891         0       3  32.000000      0      0   7.7500\n",
       "\n",
       "[891 rows x 7 columns]"
      ]
     },
     "execution_count": 19,
     "metadata": {},
     "output_type": "execute_result"
    }
   ],
   "source": [
    "new_df"
   ]
  },
  {
   "cell_type": "code",
   "execution_count": 20,
   "id": "773f1495",
   "metadata": {},
   "outputs": [
    {
     "name": "stderr",
     "output_type": "stream",
     "text": [
      "C:\\Users\\sony\\anaconda3\\lib\\site-packages\\seaborn\\_decorators.py:36: FutureWarning: Pass the following variable as a keyword arg: x. From version 0.12, the only valid positional argument will be `data`, and passing other arguments without an explicit keyword will result in an error or misinterpretation.\n",
      "  warnings.warn(\n"
     ]
    },
    {
     "data": {
      "image/png": "[encoded data removed]",
      "text/plain": [
       "<Figure size 720x288 with 1 Axes>"
      ]
     },
     "metadata": {
      "needs_background": "light"
     },
     "output_type": "display_data"
    }
   ],
   "source": [
    "Box_plot(new_df[\"Fare\"])"
   ]
  },
  {
   "cell_type": "code",
   "execution_count": 21,
   "id": "4df1d73b",
   "metadata": {},
   "outputs": [
    {
     "name": "stdout",
     "output_type": "stream",
     "text": [
      "column of the  PassengerId\n",
      "column of the  Survived\n",
      "column of the  Pclass\n",
      "column of the  Age\n"
     ]
    },
    {
     "name": "stderr",
     "output_type": "stream",
     "text": [
      "C:\\Users\\sony\\AppData\\Local\\Temp/ipykernel_9356/871832313.py:27: SettingWithCopyWarning: \n",
      "A value is trying to be set on a copy of a slice from a DataFrame.\n",
      "Try using .loc[row_indexer,col_indexer] = value instead\n",
      "\n",
      "See the caveats in the documentation: https://pandas.pydata.org/pandas-docs/stable/user_guide/indexing.html#returning-a-view-versus-a-copy\n",
      "  df[i]=df[i].replace(i,upper)\n"
     ]
    },
    {
     "name": "stdout",
     "output_type": "stream",
     "text": [
      "column of the  SibSp\n",
      "column of the  Parch\n",
      "column of the  Fare\n"
     ]
    }
   ],
   "source": [
    "def outlier_data(df):\n",
    "    for i in df.columns:\n",
    "        \n",
    "        print(\"column of the \",i)\n",
    "        \n",
    "        for j in df[i]:\n",
    "            if (((df[i].dtype)=='float64') | ((df[i].dtype)=='int64')):\n",
    "                \n",
    "                Q1 = np.quantile(df[i], .25) \n",
    "                Q3 = np.quantile(df[i], .75) \n",
    "                Q2 = np.quantile(df[i], .50)\n",
    "                \n",
    "                IQR = Q3-Q1\n",
    "                lower = Q1 -(1.5 * IQR) \n",
    "                upper = Q3 +(1.5 * IQR)\n",
    "                \n",
    "                no_outliers = df[i][(Q1 - 1.5*IQR < df[i]) &  (df[i] < Q3 + 1.5*IQR)]\n",
    "    \n",
    "                outliers = df[i][(Q1 - 1.5*IQR > df[i]) |  (df[i] > Q3 + 1.5*IQR)] # or\n",
    "\n",
    "                lower_fence_otlier=df[i] [(Q1 - 1.5*IQR > df[i])]\n",
    "\n",
    "                upper_fence_otlier=df[i] [(df[i] > Q3 + 1.5*IQR)]\n",
    "                \n",
    "            \n",
    "                if j > upper :\n",
    "                    df[i]=df[i].replace(i,upper)\n",
    "\n",
    "                    if j < lower:\n",
    "                        df[i]=df[i].replace(i,lower)\n",
    "                \n",
    "            else:\n",
    "                df[i]=df[i]\n",
    " \n",
    "    return lower,upper,df            \n",
    "        \n",
    "    \n",
    "\n",
    "final_=outlier_data(new_df)"
   ]
  },
  {
   "cell_type": "code",
   "execution_count": 22,
   "id": "c105f137",
   "metadata": {},
   "outputs": [
    {
     "name": "stderr",
     "output_type": "stream",
     "text": [
      "C:\\Users\\sony\\anaconda3\\lib\\site-packages\\seaborn\\_decorators.py:36: FutureWarning: Pass the following variable as a keyword arg: x. From version 0.12, the only valid positional argument will be `data`, and passing other arguments without an explicit keyword will result in an error or misinterpretation.\n",
      "  warnings.warn(\n"
     ]
    },
    {
     "data": {
      "image/png": "[encoded data removed]",
      "text/plain": [
       "<Figure size 720x288 with 1 Axes>"
      ]
     },
     "metadata": {
      "needs_background": "light"
     },
     "output_type": "display_data"
    }
   ],
   "source": [
    "Box_plot(new_df[\"Fare\"])"
   ]
  },
  {
   "cell_type": "code",
   "execution_count": null,
   "id": "33992770",
   "metadata": {},
   "outputs": [],
   "source": []
  }
 ],
 "metadata": {
  "kernelspec": {
   "display_name": "Python 3 (ipykernel)",
   "language": "python",
   "name": "python3"
  },
  "language_info": {
   "codemirror_mode": {
    "name": "ipython",
    "version": 3
   },
   "file_extension": ".py",
   "mimetype": "text/x-python",
   "name": "python",
   "nbconvert_exporter": "python",
   "pygments_lexer": "ipython3",
   "version": "3.9.7"
  }
 },
 "nbformat": 4,
 "nbformat_minor": 5
}
