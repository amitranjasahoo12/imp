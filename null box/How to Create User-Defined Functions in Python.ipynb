{
 "cells": [
  {
   "cell_type": "code",
   "execution_count": 2,
   "id": "470f5320",
   "metadata": {},
   "outputs": [],
   "source": [
    "def function_name (parameter_one, parameter_two, parameter_n):\n",
    "  # logic here\n",
    "  return 2"
   ]
  },
  {
   "cell_type": "code",
   "execution_count": 3,
   "id": "8b0bb71f",
   "metadata": {},
   "outputs": [
    {
     "data": {
      "text/plain": [
       "2"
      ]
     },
     "execution_count": 3,
     "metadata": {},
     "output_type": "execute_result"
    }
   ],
   "source": [
    "function_name (2,2,2)"
   ]
  },
  {
   "cell_type": "markdown",
   "id": "9af67684",
   "metadata": {},
   "source": [
    "Custom functions are a great way to nicely package reusable blocks of code. At the most basic level, a custom function requires only five components:\n",
    "    \n",
    "    \n",
    "    Use the def keyword to begin the function definition.\n",
    "\n",
    "    Name your function.\n",
    "\n",
    "    Supply one or more parameters. Actually parameters are optional, but the parentheses are not.\n",
    "    Followed by a colon.\n",
    "\n",
    "    Enter lines of code that make your function do whatever it does. Enter the code where the # logic here is shown in the sample code below.\n",
    "\n",
    "    Use the return keyword at the end of the function to return the output. This is also optional. If omitted, the function will return None."
   ]
  },
  {
   "cell_type": "code",
   "execution_count": 8,
   "id": "93e84789",
   "metadata": {},
   "outputs": [],
   "source": [
    "def function_name (parameter_one, parameter_two, parameter_n):\n",
    "  # logic here\n",
    "        \n",
    "      return "
   ]
  },
  {
   "cell_type": "code",
   "execution_count": 19,
   "id": "47116e50",
   "metadata": {},
   "outputs": [],
   "source": [
    "def sum_the_numbers (num1, num2):\n",
    "    num1= 2\n",
    "    num2=2\n",
    "    total = num1 + num2\n",
    "    \n",
    "    return total"
   ]
  },
  {
   "cell_type": "code",
   "execution_count": 22,
   "id": "11f6c1c3",
   "metadata": {},
   "outputs": [
    {
     "data": {
      "text/plain": [
       "4"
      ]
     },
     "execution_count": 22,
     "metadata": {},
     "output_type": "execute_result"
    }
   ],
   "source": [
    "sum_the_numbers (1,2)"
   ]
  },
  {
   "cell_type": "code",
   "execution_count": 28,
   "id": "92dc59ce",
   "metadata": {},
   "outputs": [],
   "source": [
    "def sum_the_numbers (num1 = 0, num2 = 0):\n",
    "    total = num1 + num2\n",
    "    return total"
   ]
  },
  {
   "cell_type": "code",
   "execution_count": 30,
   "id": "a7d1f826",
   "metadata": {},
   "outputs": [
    {
     "data": {
      "text/plain": [
       "2"
      ]
     },
     "execution_count": 30,
     "metadata": {},
     "output_type": "execute_result"
    }
   ],
   "source": [
    "sum_the_numbers (num1 = 2, num2 = 0)"
   ]
  },
  {
   "cell_type": "code",
   "execution_count": 35,
   "id": "cc8005b2",
   "metadata": {},
   "outputs": [
    {
     "name": "stdout",
     "output_type": "stream",
     "text": [
      "15\n"
     ]
    }
   ],
   "source": [
    "\n",
    "def sum_the_numbers (*args):              # define our function\n",
    "    total = 0                               # set initial total to zero\n",
    "    for num in args:                        # loop through each value\n",
    "        total += num                          # add each value to the total\n",
    "    return total                          # return the summed total\n",
    "  \n",
    "summation = sum_the_numbers(5, 10)        # execute our function\n",
    "\n",
    "print(summation)                          # print the total"
   ]
  },
  {
   "cell_type": "code",
   "execution_count": 36,
   "id": "badd039c",
   "metadata": {},
   "outputs": [],
   "source": [
    "def hello():\n",
    "    print(\"Hello World\") \n",
    "    return"
   ]
  },
  {
   "cell_type": "code",
   "execution_count": 37,
   "id": "c31550ac",
   "metadata": {},
   "outputs": [
    {
     "name": "stdout",
     "output_type": "stream",
     "text": [
      "Hello World\n"
     ]
    }
   ],
   "source": [
    "hello()"
   ]
  },
  {
   "cell_type": "code",
   "execution_count": 38,
   "id": "19559ef3",
   "metadata": {},
   "outputs": [
    {
     "name": "stdout",
     "output_type": "stream",
     "text": [
      "Enter your name: amit\n",
      "Hello amit\n"
     ]
    }
   ],
   "source": [
    "def hello():\n",
    "    name = str(input(\"Enter your name: \"))\n",
    "    if name:\n",
    "        print (\"Hello \" + str(name))\n",
    "    else:\n",
    "        print(\"Hello World\") \n",
    "    return \n",
    "  \n",
    "hello()"
   ]
  },
  {
   "cell_type": "code",
   "execution_count": 42,
   "id": "d632a805",
   "metadata": {},
   "outputs": [
    {
     "name": "stdout",
     "output_type": "stream",
     "text": [
      "Hello World\n",
      "Hello World\n"
     ]
    },
    {
     "ename": "TypeError",
     "evalue": "unsupported operand type(s) for *: 'NoneType' and 'int'",
     "output_type": "error",
     "traceback": [
      "\u001b[1;31m---------------------------------------------------------------------------\u001b[0m",
      "\u001b[1;31mTypeError\u001b[0m                                 Traceback (most recent call last)",
      "\u001b[1;32m<ipython-input-42-635855220ea6>\u001b[0m in \u001b[0;36m<module>\u001b[1;34m\u001b[0m\n\u001b[0;32m     10\u001b[0m \u001b[1;33m\u001b[0m\u001b[0m\n\u001b[0;32m     11\u001b[0m \u001b[1;31m# (Try to) multiply the output of `hello_noreturn()` with 2\u001b[0m\u001b[1;33m\u001b[0m\u001b[1;33m\u001b[0m\u001b[1;33m\u001b[0m\u001b[0m\n\u001b[1;32m---> 12\u001b[1;33m \u001b[0mhello_noreturn\u001b[0m\u001b[1;33m(\u001b[0m\u001b[1;33m)\u001b[0m \u001b[1;33m*\u001b[0m \u001b[1;36m2\u001b[0m\u001b[1;33m\u001b[0m\u001b[1;33m\u001b[0m\u001b[0m\n\u001b[0m",
      "\u001b[1;31mTypeError\u001b[0m: unsupported operand type(s) for *: 'NoneType' and 'int'"
     ]
    }
   ],
   "source": [
    "def hello():\n",
    "    print(\"Hello World\") \n",
    "    return(\"hello\")\n",
    "\n",
    "def hello_noreturn():\n",
    "    print(\"Hello World\")\n",
    "  \n",
    "# Multiply the output of `hello()` with 2 \n",
    "hello() * 2\n",
    "\n",
    "# (Try to) multiply the output of `hello_noreturn()` with 2 \n",
    "hello_noreturn() * 2"
   ]
  },
  {
   "cell_type": "code",
   "execution_count": 49,
   "id": "ecae361a",
   "metadata": {},
   "outputs": [],
   "source": [
    "def run():\n",
    "    for x in range(10):\n",
    "        if x == 2:\n",
    "            return\n",
    "        #print(\"Run!\")\n",
    "  \n",
    "run()"
   ]
  },
  {
   "cell_type": "code",
   "execution_count": 50,
   "id": "af95c3ca",
   "metadata": {},
   "outputs": [],
   "source": [
    "run()"
   ]
  },
  {
   "cell_type": "code",
   "execution_count": null,
   "id": "9331643d",
   "metadata": {},
   "outputs": [],
   "source": []
  }
 ],
 "metadata": {
  "kernelspec": {
   "display_name": "Python 3 (ipykernel)",
   "language": "python",
   "name": "python3"
  },
  "language_info": {
   "codemirror_mode": {
    "name": "ipython",
    "version": 3
   },
   "file_extension": ".py",
   "mimetype": "text/x-python",
   "name": "python",
   "nbconvert_exporter": "python",
   "pygments_lexer": "ipython3",
   "version": "3.9.7"
  }
 },
 "nbformat": 4,
 "nbformat_minor": 5
}
