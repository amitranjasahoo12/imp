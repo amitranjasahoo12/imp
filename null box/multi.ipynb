{
 "cells": [
  {
   "cell_type": "code",
   "execution_count": 36,
   "id": "fa84a1b8",
   "metadata": {},
   "outputs": [],
   "source": [
    "import pandas as pd\n",
    "import numpy as np\n",
    "import matplotlib.pyplot as plt\n",
    "import seaborn as sns\n",
    "\n",
    "%matplotlib inline\n",
    "\n",
    "import warnings\n",
    "warnings.filterwarnings(\"ignore\")"
   ]
  },
  {
   "cell_type": "code",
   "execution_count": 37,
   "id": "2af662bb",
   "metadata": {},
   "outputs": [],
   "source": [
    "# load Dataset\n",
    "\n",
    "from sklearn.datasets import load_boston\n",
    "\n",
    "from sklearn import datasets "
   ]
  },
  {
   "cell_type": "code",
   "execution_count": 38,
   "id": "c89ef835",
   "metadata": {},
   "outputs": [
    {
     "name": "stdout",
     "output_type": "stream",
     "text": [
      "which type of the dataset:  <class 'sklearn.utils.Bunch'>\n"
     ]
    }
   ],
   "source": [
    "\n",
    "boston = datasets.load_boston()\n",
    "\n",
    "\n",
    "boston = load_boston()\n",
    "print(\"which type of the dataset: \",type(boston))"
   ]
  },
  {
   "cell_type": "code",
   "execution_count": 39,
   "id": "6dcbfd2a",
   "metadata": {},
   "outputs": [
    {
     "data": {
      "text/plain": [
       "{'data': array([[6.3200e-03, 1.8000e+01, 2.3100e+00, ..., 1.5300e+01, 3.9690e+02,\n",
       "         4.9800e+00],\n",
       "        [2.7310e-02, 0.0000e+00, 7.0700e+00, ..., 1.7800e+01, 3.9690e+02,\n",
       "         9.1400e+00],\n",
       "        [2.7290e-02, 0.0000e+00, 7.0700e+00, ..., 1.7800e+01, 3.9283e+02,\n",
       "         4.0300e+00],\n",
       "        ...,\n",
       "        [6.0760e-02, 0.0000e+00, 1.1930e+01, ..., 2.1000e+01, 3.9690e+02,\n",
       "         5.6400e+00],\n",
       "        [1.0959e-01, 0.0000e+00, 1.1930e+01, ..., 2.1000e+01, 3.9345e+02,\n",
       "         6.4800e+00],\n",
       "        [4.7410e-02, 0.0000e+00, 1.1930e+01, ..., 2.1000e+01, 3.9690e+02,\n",
       "         7.8800e+00]]),\n",
       " 'target': array([24. , 21.6, 34.7, 33.4, 36.2, 28.7, 22.9, 27.1, 16.5, 18.9, 15. ,\n",
       "        18.9, 21.7, 20.4, 18.2, 19.9, 23.1, 17.5, 20.2, 18.2, 13.6, 19.6,\n",
       "        15.2, 14.5, 15.6, 13.9, 16.6, 14.8, 18.4, 21. , 12.7, 14.5, 13.2,\n",
       "        13.1, 13.5, 18.9, 20. , 21. , 24.7, 30.8, 34.9, 26.6, 25.3, 24.7,\n",
       "        21.2, 19.3, 20. , 16.6, 14.4, 19.4, 19.7, 20.5, 25. , 23.4, 18.9,\n",
       "        35.4, 24.7, 31.6, 23.3, 19.6, 18.7, 16. , 22.2, 25. , 33. , 23.5,\n",
       "        19.4, 22. , 17.4, 20.9, 24.2, 21.7, 22.8, 23.4, 24.1, 21.4, 20. ,\n",
       "        20.8, 21.2, 20.3, 28. , 23.9, 24.8, 22.9, 23.9, 26.6, 22.5, 22.2,\n",
       "        23.6, 28.7, 22.6, 22. , 22.9, 25. , 20.6, 28.4, 21.4, 38.7, 43.8,\n",
       "        33.2, 27.5, 26.5, 18.6, 19.3, 20.1, 19.5, 19.5, 20.4, 19.8, 19.4,\n",
       "        21.7, 22.8, 18.8, 18.7, 18.5, 18.3, 21.2, 19.2, 20.4, 19.3, 22. ,\n",
       "        20.3, 20.5, 17.3, 18.8, 21.4, 15.7, 16.2, 18. , 14.3, 19.2, 19.6,\n",
       "        23. , 18.4, 15.6, 18.1, 17.4, 17.1, 13.3, 17.8, 14. , 14.4, 13.4,\n",
       "        15.6, 11.8, 13.8, 15.6, 14.6, 17.8, 15.4, 21.5, 19.6, 15.3, 19.4,\n",
       "        17. , 15.6, 13.1, 41.3, 24.3, 23.3, 27. , 50. , 50. , 50. , 22.7,\n",
       "        25. , 50. , 23.8, 23.8, 22.3, 17.4, 19.1, 23.1, 23.6, 22.6, 29.4,\n",
       "        23.2, 24.6, 29.9, 37.2, 39.8, 36.2, 37.9, 32.5, 26.4, 29.6, 50. ,\n",
       "        32. , 29.8, 34.9, 37. , 30.5, 36.4, 31.1, 29.1, 50. , 33.3, 30.3,\n",
       "        34.6, 34.9, 32.9, 24.1, 42.3, 48.5, 50. , 22.6, 24.4, 22.5, 24.4,\n",
       "        20. , 21.7, 19.3, 22.4, 28.1, 23.7, 25. , 23.3, 28.7, 21.5, 23. ,\n",
       "        26.7, 21.7, 27.5, 30.1, 44.8, 50. , 37.6, 31.6, 46.7, 31.5, 24.3,\n",
       "        31.7, 41.7, 48.3, 29. , 24. , 25.1, 31.5, 23.7, 23.3, 22. , 20.1,\n",
       "        22.2, 23.7, 17.6, 18.5, 24.3, 20.5, 24.5, 26.2, 24.4, 24.8, 29.6,\n",
       "        42.8, 21.9, 20.9, 44. , 50. , 36. , 30.1, 33.8, 43.1, 48.8, 31. ,\n",
       "        36.5, 22.8, 30.7, 50. , 43.5, 20.7, 21.1, 25.2, 24.4, 35.2, 32.4,\n",
       "        32. , 33.2, 33.1, 29.1, 35.1, 45.4, 35.4, 46. , 50. , 32.2, 22. ,\n",
       "        20.1, 23.2, 22.3, 24.8, 28.5, 37.3, 27.9, 23.9, 21.7, 28.6, 27.1,\n",
       "        20.3, 22.5, 29. , 24.8, 22. , 26.4, 33.1, 36.1, 28.4, 33.4, 28.2,\n",
       "        22.8, 20.3, 16.1, 22.1, 19.4, 21.6, 23.8, 16.2, 17.8, 19.8, 23.1,\n",
       "        21. , 23.8, 23.1, 20.4, 18.5, 25. , 24.6, 23. , 22.2, 19.3, 22.6,\n",
       "        19.8, 17.1, 19.4, 22.2, 20.7, 21.1, 19.5, 18.5, 20.6, 19. , 18.7,\n",
       "        32.7, 16.5, 23.9, 31.2, 17.5, 17.2, 23.1, 24.5, 26.6, 22.9, 24.1,\n",
       "        18.6, 30.1, 18.2, 20.6, 17.8, 21.7, 22.7, 22.6, 25. , 19.9, 20.8,\n",
       "        16.8, 21.9, 27.5, 21.9, 23.1, 50. , 50. , 50. , 50. , 50. , 13.8,\n",
       "        13.8, 15. , 13.9, 13.3, 13.1, 10.2, 10.4, 10.9, 11.3, 12.3,  8.8,\n",
       "         7.2, 10.5,  7.4, 10.2, 11.5, 15.1, 23.2,  9.7, 13.8, 12.7, 13.1,\n",
       "        12.5,  8.5,  5. ,  6.3,  5.6,  7.2, 12.1,  8.3,  8.5,  5. , 11.9,\n",
       "        27.9, 17.2, 27.5, 15. , 17.2, 17.9, 16.3,  7. ,  7.2,  7.5, 10.4,\n",
       "         8.8,  8.4, 16.7, 14.2, 20.8, 13.4, 11.7,  8.3, 10.2, 10.9, 11. ,\n",
       "         9.5, 14.5, 14.1, 16.1, 14.3, 11.7, 13.4,  9.6,  8.7,  8.4, 12.8,\n",
       "        10.5, 17.1, 18.4, 15.4, 10.8, 11.8, 14.9, 12.6, 14.1, 13. , 13.4,\n",
       "        15.2, 16.1, 17.8, 14.9, 14.1, 12.7, 13.5, 14.9, 20. , 16.4, 17.7,\n",
       "        19.5, 20.2, 21.4, 19.9, 19. , 19.1, 19.1, 20.1, 19.9, 19.6, 23.2,\n",
       "        29.8, 13.8, 13.3, 16.7, 12. , 14.6, 21.4, 23. , 23.7, 25. , 21.8,\n",
       "        20.6, 21.2, 19.1, 20.6, 15.2,  7. ,  8.1, 13.6, 20.1, 21.8, 24.5,\n",
       "        23.1, 19.7, 18.3, 21.2, 17.5, 16.8, 22.4, 20.6, 23.9, 22. , 11.9]),\n",
       " 'feature_names': array(['CRIM', 'ZN', 'INDUS', 'CHAS', 'NOX', 'RM', 'AGE', 'DIS', 'RAD',\n",
       "        'TAX', 'PTRATIO', 'B', 'LSTAT'], dtype='<U7'),\n",
       " 'DESCR': \".. _boston_dataset:\\n\\nBoston house prices dataset\\n---------------------------\\n\\n**Data Set Characteristics:**  \\n\\n    :Number of Instances: 506 \\n\\n    :Number of Attributes: 13 numeric/categorical predictive. Median Value (attribute 14) is usually the target.\\n\\n    :Attribute Information (in order):\\n        - CRIM     per capita crime rate by town\\n        - ZN       proportion of residential land zoned for lots over 25,000 sq.ft.\\n        - INDUS    proportion of non-retail business acres per town\\n        - CHAS     Charles River dummy variable (= 1 if tract bounds river; 0 otherwise)\\n        - NOX      nitric oxides concentration (parts per 10 million)\\n        - RM       average number of rooms per dwelling\\n        - AGE      proportion of owner-occupied units built prior to 1940\\n        - DIS      weighted distances to five Boston employment centres\\n        - RAD      index of accessibility to radial highways\\n        - TAX      full-value property-tax rate per $10,000\\n        - PTRATIO  pupil-teacher ratio by town\\n        - B        1000(Bk - 0.63)^2 where Bk is the proportion of black people by town\\n        - LSTAT    % lower status of the population\\n        - MEDV     Median value of owner-occupied homes in $1000's\\n\\n    :Missing Attribute Values: None\\n\\n    :Creator: Harrison, D. and Rubinfeld, D.L.\\n\\nThis is a copy of UCI ML housing dataset.\\nhttps://archive.ics.uci.edu/ml/machine-learning-databases/housing/\\n\\n\\nThis dataset was taken from the StatLib library which is maintained at Carnegie Mellon University.\\n\\nThe Boston house-price data of Harrison, D. and Rubinfeld, D.L. 'Hedonic\\nprices and the demand for clean air', J. Environ. Economics & Management,\\nvol.5, 81-102, 1978.   Used in Belsley, Kuh & Welsch, 'Regression diagnostics\\n...', Wiley, 1980.   N.B. Various transformations are used in the table on\\npages 244-261 of the latter.\\n\\nThe Boston house-price data has been used in many machine learning papers that address regression\\nproblems.   \\n     \\n.. topic:: References\\n\\n   - Belsley, Kuh & Welsch, 'Regression diagnostics: Identifying Influential Data and Sources of Collinearity', Wiley, 1980. 244-261.\\n   - Quinlan,R. (1993). Combining Instance-Based and Model-Based Learning. In Proceedings on the Tenth International Conference of Machine Learning, 236-243, University of Massachusetts, Amherst. Morgan Kaufmann.\\n\",\n",
       " 'filename': 'C:\\\\Users\\\\sony\\\\anaconda3\\\\lib\\\\site-packages\\\\sklearn\\\\datasets\\\\data\\\\boston_house_prices.csv'}"
      ]
     },
     "execution_count": 39,
     "metadata": {},
     "output_type": "execute_result"
    }
   ],
   "source": [
    "boston"
   ]
  },
  {
   "cell_type": "code",
   "execution_count": 40,
   "id": "9f1ac6c5",
   "metadata": {},
   "outputs": [],
   "source": [
    "features = pd.DataFrame(boston.data,columns=boston.feature_names)\n",
    "\n",
    "targets = boston.target"
   ]
  },
  {
   "cell_type": "code",
   "execution_count": 41,
   "id": "fc127bc6",
   "metadata": {},
   "outputs": [
    {
     "data": {
      "text/html": [
       "<div>\n",
       "<style scoped>\n",
       "    .dataframe tbody tr th:only-of-type {\n",
       "        vertical-align: middle;\n",
       "    }\n",
       "\n",
       "    .dataframe tbody tr th {\n",
       "        vertical-align: top;\n",
       "    }\n",
       "\n",
       "    .dataframe thead th {\n",
       "        text-align: right;\n",
       "    }\n",
       "</style>\n",
       "<table border=\"1\" class=\"dataframe\">\n",
       "  <thead>\n",
       "    <tr style=\"text-align: right;\">\n",
       "      <th></th>\n",
       "      <th>CRIM</th>\n",
       "      <th>ZN</th>\n",
       "      <th>INDUS</th>\n",
       "      <th>CHAS</th>\n",
       "      <th>NOX</th>\n",
       "      <th>RM</th>\n",
       "      <th>AGE</th>\n",
       "      <th>DIS</th>\n",
       "      <th>RAD</th>\n",
       "      <th>TAX</th>\n",
       "      <th>PTRATIO</th>\n",
       "      <th>B</th>\n",
       "      <th>LSTAT</th>\n",
       "      <th>PRICE</th>\n",
       "    </tr>\n",
       "  </thead>\n",
       "  <tbody>\n",
       "    <tr>\n",
       "      <th>0</th>\n",
       "      <td>0.00632</td>\n",
       "      <td>18.0</td>\n",
       "      <td>2.31</td>\n",
       "      <td>0.0</td>\n",
       "      <td>0.538</td>\n",
       "      <td>6.575</td>\n",
       "      <td>65.2</td>\n",
       "      <td>4.0900</td>\n",
       "      <td>1.0</td>\n",
       "      <td>296.0</td>\n",
       "      <td>15.3</td>\n",
       "      <td>396.90</td>\n",
       "      <td>4.98</td>\n",
       "      <td>24.0</td>\n",
       "    </tr>\n",
       "    <tr>\n",
       "      <th>1</th>\n",
       "      <td>0.02731</td>\n",
       "      <td>0.0</td>\n",
       "      <td>7.07</td>\n",
       "      <td>0.0</td>\n",
       "      <td>0.469</td>\n",
       "      <td>6.421</td>\n",
       "      <td>78.9</td>\n",
       "      <td>4.9671</td>\n",
       "      <td>2.0</td>\n",
       "      <td>242.0</td>\n",
       "      <td>17.8</td>\n",
       "      <td>396.90</td>\n",
       "      <td>9.14</td>\n",
       "      <td>21.6</td>\n",
       "    </tr>\n",
       "    <tr>\n",
       "      <th>2</th>\n",
       "      <td>0.02729</td>\n",
       "      <td>0.0</td>\n",
       "      <td>7.07</td>\n",
       "      <td>0.0</td>\n",
       "      <td>0.469</td>\n",
       "      <td>7.185</td>\n",
       "      <td>61.1</td>\n",
       "      <td>4.9671</td>\n",
       "      <td>2.0</td>\n",
       "      <td>242.0</td>\n",
       "      <td>17.8</td>\n",
       "      <td>392.83</td>\n",
       "      <td>4.03</td>\n",
       "      <td>34.7</td>\n",
       "    </tr>\n",
       "    <tr>\n",
       "      <th>3</th>\n",
       "      <td>0.03237</td>\n",
       "      <td>0.0</td>\n",
       "      <td>2.18</td>\n",
       "      <td>0.0</td>\n",
       "      <td>0.458</td>\n",
       "      <td>6.998</td>\n",
       "      <td>45.8</td>\n",
       "      <td>6.0622</td>\n",
       "      <td>3.0</td>\n",
       "      <td>222.0</td>\n",
       "      <td>18.7</td>\n",
       "      <td>394.63</td>\n",
       "      <td>2.94</td>\n",
       "      <td>33.4</td>\n",
       "    </tr>\n",
       "    <tr>\n",
       "      <th>4</th>\n",
       "      <td>0.06905</td>\n",
       "      <td>0.0</td>\n",
       "      <td>2.18</td>\n",
       "      <td>0.0</td>\n",
       "      <td>0.458</td>\n",
       "      <td>7.147</td>\n",
       "      <td>54.2</td>\n",
       "      <td>6.0622</td>\n",
       "      <td>3.0</td>\n",
       "      <td>222.0</td>\n",
       "      <td>18.7</td>\n",
       "      <td>396.90</td>\n",
       "      <td>5.33</td>\n",
       "      <td>36.2</td>\n",
       "    </tr>\n",
       "  </tbody>\n",
       "</table>\n",
       "</div>"
      ],
      "text/plain": [
       "      CRIM    ZN  INDUS  CHAS    NOX     RM   AGE     DIS  RAD    TAX  \\\n",
       "0  0.00632  18.0   2.31   0.0  0.538  6.575  65.2  4.0900  1.0  296.0   \n",
       "1  0.02731   0.0   7.07   0.0  0.469  6.421  78.9  4.9671  2.0  242.0   \n",
       "2  0.02729   0.0   7.07   0.0  0.469  7.185  61.1  4.9671  2.0  242.0   \n",
       "3  0.03237   0.0   2.18   0.0  0.458  6.998  45.8  6.0622  3.0  222.0   \n",
       "4  0.06905   0.0   2.18   0.0  0.458  7.147  54.2  6.0622  3.0  222.0   \n",
       "\n",
       "   PTRATIO       B  LSTAT  PRICE  \n",
       "0     15.3  396.90   4.98   24.0  \n",
       "1     17.8  396.90   9.14   21.6  \n",
       "2     17.8  392.83   4.03   34.7  \n",
       "3     18.7  394.63   2.94   33.4  \n",
       "4     18.7  396.90   5.33   36.2  "
      ]
     },
     "execution_count": 41,
     "metadata": {},
     "output_type": "execute_result"
    }
   ],
   "source": [
    "#Adding target variable to dataframe\n",
    "\n",
    "features['PRICE'] = boston.target \n",
    "\n",
    "# Median value of owner-occupied homes in $1000s\n",
    "\n",
    "features.head()"
   ]
  },
  {
   "cell_type": "code",
   "execution_count": 42,
   "id": "8a6be274",
   "metadata": {},
   "outputs": [
    {
     "data": {
      "text/html": [
       "<div>\n",
       "<style scoped>\n",
       "    .dataframe tbody tr th:only-of-type {\n",
       "        vertical-align: middle;\n",
       "    }\n",
       "\n",
       "    .dataframe tbody tr th {\n",
       "        vertical-align: top;\n",
       "    }\n",
       "\n",
       "    .dataframe thead th {\n",
       "        text-align: right;\n",
       "    }\n",
       "</style>\n",
       "<table border=\"1\" class=\"dataframe\">\n",
       "  <thead>\n",
       "    <tr style=\"text-align: right;\">\n",
       "      <th></th>\n",
       "      <th>CRIM</th>\n",
       "      <th>ZN</th>\n",
       "      <th>INDUS</th>\n",
       "      <th>CHAS</th>\n",
       "      <th>NOX</th>\n",
       "      <th>RM</th>\n",
       "      <th>AGE</th>\n",
       "      <th>DIS</th>\n",
       "      <th>RAD</th>\n",
       "      <th>TAX</th>\n",
       "      <th>PTRATIO</th>\n",
       "      <th>B</th>\n",
       "      <th>LSTAT</th>\n",
       "      <th>PRICE</th>\n",
       "    </tr>\n",
       "  </thead>\n",
       "  <tbody>\n",
       "    <tr>\n",
       "      <th>0</th>\n",
       "      <td>0.00632</td>\n",
       "      <td>18.0</td>\n",
       "      <td>2.31</td>\n",
       "      <td>0.0</td>\n",
       "      <td>0.538</td>\n",
       "      <td>6.575</td>\n",
       "      <td>65.2</td>\n",
       "      <td>4.0900</td>\n",
       "      <td>1.0</td>\n",
       "      <td>296.0</td>\n",
       "      <td>15.3</td>\n",
       "      <td>396.90</td>\n",
       "      <td>4.98</td>\n",
       "      <td>24.0</td>\n",
       "    </tr>\n",
       "    <tr>\n",
       "      <th>1</th>\n",
       "      <td>0.02731</td>\n",
       "      <td>0.0</td>\n",
       "      <td>7.07</td>\n",
       "      <td>0.0</td>\n",
       "      <td>0.469</td>\n",
       "      <td>6.421</td>\n",
       "      <td>78.9</td>\n",
       "      <td>4.9671</td>\n",
       "      <td>2.0</td>\n",
       "      <td>242.0</td>\n",
       "      <td>17.8</td>\n",
       "      <td>396.90</td>\n",
       "      <td>9.14</td>\n",
       "      <td>21.6</td>\n",
       "    </tr>\n",
       "    <tr>\n",
       "      <th>2</th>\n",
       "      <td>0.02729</td>\n",
       "      <td>0.0</td>\n",
       "      <td>7.07</td>\n",
       "      <td>0.0</td>\n",
       "      <td>0.469</td>\n",
       "      <td>7.185</td>\n",
       "      <td>61.1</td>\n",
       "      <td>4.9671</td>\n",
       "      <td>2.0</td>\n",
       "      <td>242.0</td>\n",
       "      <td>17.8</td>\n",
       "      <td>392.83</td>\n",
       "      <td>4.03</td>\n",
       "      <td>34.7</td>\n",
       "    </tr>\n",
       "    <tr>\n",
       "      <th>3</th>\n",
       "      <td>0.03237</td>\n",
       "      <td>0.0</td>\n",
       "      <td>2.18</td>\n",
       "      <td>0.0</td>\n",
       "      <td>0.458</td>\n",
       "      <td>6.998</td>\n",
       "      <td>45.8</td>\n",
       "      <td>6.0622</td>\n",
       "      <td>3.0</td>\n",
       "      <td>222.0</td>\n",
       "      <td>18.7</td>\n",
       "      <td>394.63</td>\n",
       "      <td>2.94</td>\n",
       "      <td>33.4</td>\n",
       "    </tr>\n",
       "    <tr>\n",
       "      <th>4</th>\n",
       "      <td>0.06905</td>\n",
       "      <td>0.0</td>\n",
       "      <td>2.18</td>\n",
       "      <td>0.0</td>\n",
       "      <td>0.458</td>\n",
       "      <td>7.147</td>\n",
       "      <td>54.2</td>\n",
       "      <td>6.0622</td>\n",
       "      <td>3.0</td>\n",
       "      <td>222.0</td>\n",
       "      <td>18.7</td>\n",
       "      <td>396.90</td>\n",
       "      <td>5.33</td>\n",
       "      <td>36.2</td>\n",
       "    </tr>\n",
       "    <tr>\n",
       "      <th>...</th>\n",
       "      <td>...</td>\n",
       "      <td>...</td>\n",
       "      <td>...</td>\n",
       "      <td>...</td>\n",
       "      <td>...</td>\n",
       "      <td>...</td>\n",
       "      <td>...</td>\n",
       "      <td>...</td>\n",
       "      <td>...</td>\n",
       "      <td>...</td>\n",
       "      <td>...</td>\n",
       "      <td>...</td>\n",
       "      <td>...</td>\n",
       "      <td>...</td>\n",
       "    </tr>\n",
       "    <tr>\n",
       "      <th>501</th>\n",
       "      <td>0.06263</td>\n",
       "      <td>0.0</td>\n",
       "      <td>11.93</td>\n",
       "      <td>0.0</td>\n",
       "      <td>0.573</td>\n",
       "      <td>6.593</td>\n",
       "      <td>69.1</td>\n",
       "      <td>2.4786</td>\n",
       "      <td>1.0</td>\n",
       "      <td>273.0</td>\n",
       "      <td>21.0</td>\n",
       "      <td>391.99</td>\n",
       "      <td>9.67</td>\n",
       "      <td>22.4</td>\n",
       "    </tr>\n",
       "    <tr>\n",
       "      <th>502</th>\n",
       "      <td>0.04527</td>\n",
       "      <td>0.0</td>\n",
       "      <td>11.93</td>\n",
       "      <td>0.0</td>\n",
       "      <td>0.573</td>\n",
       "      <td>6.120</td>\n",
       "      <td>76.7</td>\n",
       "      <td>2.2875</td>\n",
       "      <td>1.0</td>\n",
       "      <td>273.0</td>\n",
       "      <td>21.0</td>\n",
       "      <td>396.90</td>\n",
       "      <td>9.08</td>\n",
       "      <td>20.6</td>\n",
       "    </tr>\n",
       "    <tr>\n",
       "      <th>503</th>\n",
       "      <td>0.06076</td>\n",
       "      <td>0.0</td>\n",
       "      <td>11.93</td>\n",
       "      <td>0.0</td>\n",
       "      <td>0.573</td>\n",
       "      <td>6.976</td>\n",
       "      <td>91.0</td>\n",
       "      <td>2.1675</td>\n",
       "      <td>1.0</td>\n",
       "      <td>273.0</td>\n",
       "      <td>21.0</td>\n",
       "      <td>396.90</td>\n",
       "      <td>5.64</td>\n",
       "      <td>23.9</td>\n",
       "    </tr>\n",
       "    <tr>\n",
       "      <th>504</th>\n",
       "      <td>0.10959</td>\n",
       "      <td>0.0</td>\n",
       "      <td>11.93</td>\n",
       "      <td>0.0</td>\n",
       "      <td>0.573</td>\n",
       "      <td>6.794</td>\n",
       "      <td>89.3</td>\n",
       "      <td>2.3889</td>\n",
       "      <td>1.0</td>\n",
       "      <td>273.0</td>\n",
       "      <td>21.0</td>\n",
       "      <td>393.45</td>\n",
       "      <td>6.48</td>\n",
       "      <td>22.0</td>\n",
       "    </tr>\n",
       "    <tr>\n",
       "      <th>505</th>\n",
       "      <td>0.04741</td>\n",
       "      <td>0.0</td>\n",
       "      <td>11.93</td>\n",
       "      <td>0.0</td>\n",
       "      <td>0.573</td>\n",
       "      <td>6.030</td>\n",
       "      <td>80.8</td>\n",
       "      <td>2.5050</td>\n",
       "      <td>1.0</td>\n",
       "      <td>273.0</td>\n",
       "      <td>21.0</td>\n",
       "      <td>396.90</td>\n",
       "      <td>7.88</td>\n",
       "      <td>11.9</td>\n",
       "    </tr>\n",
       "  </tbody>\n",
       "</table>\n",
       "<p>506 rows × 14 columns</p>\n",
       "</div>"
      ],
      "text/plain": [
       "        CRIM    ZN  INDUS  CHAS    NOX     RM   AGE     DIS  RAD    TAX  \\\n",
       "0    0.00632  18.0   2.31   0.0  0.538  6.575  65.2  4.0900  1.0  296.0   \n",
       "1    0.02731   0.0   7.07   0.0  0.469  6.421  78.9  4.9671  2.0  242.0   \n",
       "2    0.02729   0.0   7.07   0.0  0.469  7.185  61.1  4.9671  2.0  242.0   \n",
       "3    0.03237   0.0   2.18   0.0  0.458  6.998  45.8  6.0622  3.0  222.0   \n",
       "4    0.06905   0.0   2.18   0.0  0.458  7.147  54.2  6.0622  3.0  222.0   \n",
       "..       ...   ...    ...   ...    ...    ...   ...     ...  ...    ...   \n",
       "501  0.06263   0.0  11.93   0.0  0.573  6.593  69.1  2.4786  1.0  273.0   \n",
       "502  0.04527   0.0  11.93   0.0  0.573  6.120  76.7  2.2875  1.0  273.0   \n",
       "503  0.06076   0.0  11.93   0.0  0.573  6.976  91.0  2.1675  1.0  273.0   \n",
       "504  0.10959   0.0  11.93   0.0  0.573  6.794  89.3  2.3889  1.0  273.0   \n",
       "505  0.04741   0.0  11.93   0.0  0.573  6.030  80.8  2.5050  1.0  273.0   \n",
       "\n",
       "     PTRATIO       B  LSTAT  PRICE  \n",
       "0       15.3  396.90   4.98   24.0  \n",
       "1       17.8  396.90   9.14   21.6  \n",
       "2       17.8  392.83   4.03   34.7  \n",
       "3       18.7  394.63   2.94   33.4  \n",
       "4       18.7  396.90   5.33   36.2  \n",
       "..       ...     ...    ...    ...  \n",
       "501     21.0  391.99   9.67   22.4  \n",
       "502     21.0  396.90   9.08   20.6  \n",
       "503     21.0  396.90   5.64   23.9  \n",
       "504     21.0  393.45   6.48   22.0  \n",
       "505     21.0  396.90   7.88   11.9  \n",
       "\n",
       "[506 rows x 14 columns]"
      ]
     },
     "execution_count": 42,
     "metadata": {},
     "output_type": "execute_result"
    }
   ],
   "source": [
    "features"
   ]
  },
  {
   "cell_type": "code",
   "execution_count": 43,
   "id": "c63732a5",
   "metadata": {},
   "outputs": [],
   "source": [
    "def Box_plot(df):\n",
    "    plt.figure(figsize=(10,4))\n",
    "    plt.title(\"Box plot\")\n",
    "    sns.boxplot(df)\n",
    "    plt.show()\n",
    "    \n",
    "def hist_plots(df):\n",
    "    plt.figure(figsize=(10,4))\n",
    "    plt.title(\"Histogram plot\")\n",
    "    plt.hist(df)\n",
    "    plt.show()\n",
    "    \n",
    "def scatter_plots(df1,df2):\n",
    "    fig,ax = plt.subplots(figsize=(10,4))\n",
    "    ax.scatter(df1,df2)\n",
    "    ax.set_xlabel(\"123\")\n",
    "    ax.set_ylabel(\"456\")\n",
    "    plt.title(\"scatter plot\")\n",
    "    plt.show()\n",
    "    \n",
    "    \n",
    "def dist_plots(df):\n",
    "    plt.figure(figsize=(10,4))\n",
    "    plt.title(\"distrinution plot\")\n",
    "    sns.distplot(df)\n",
    "    sns.despine()\n",
    "    plt.show()"
   ]
  },
  {
   "cell_type": "code",
   "execution_count": 44,
   "id": "e08e2e09",
   "metadata": {},
   "outputs": [
    {
     "data": {
      "image/png": "[encoded data removed]",
      "text/plain": [
       "<Figure size 720x288 with 1 Axes>"
      ]
     },
     "metadata": {
      "needs_background": "light"
     },
     "output_type": "display_data"
    }
   ],
   "source": [
    "Box_plot(features[\"RM\"])"
   ]
  },
  {
   "cell_type": "code",
   "execution_count": 45,
   "id": "a9b8f652",
   "metadata": {},
   "outputs": [
    {
     "data": {
      "image/png": "[encoded data removed]",
      "text/plain": [
       "<Figure size 720x288 with 1 Axes>"
      ]
     },
     "metadata": {
      "needs_background": "light"
     },
     "output_type": "display_data"
    }
   ],
   "source": [
    "hist_plots(features[\"RM\"])"
   ]
  },
  {
   "cell_type": "code",
   "execution_count": 46,
   "id": "bd50f881",
   "metadata": {},
   "outputs": [
    {
     "data": {
      "image/png": "[encoded data removed]",
      "text/plain": [
       "<Figure size 1440x1440 with 1 Axes>"
      ]
     },
     "metadata": {
      "needs_background": "light"
     },
     "output_type": "display_data"
    }
   ],
   "source": [
    "fig , ax = plt.subplots(figsize=(20,20))\n",
    "sns.boxplot(data= features, ax = ax)\n",
    "plt.show()"
   ]
  },
  {
   "cell_type": "code",
   "execution_count": 47,
   "id": "a27e0fe3",
   "metadata": {},
   "outputs": [],
   "source": [
    "lower_outlier=[]\n",
    "upper_outlier=[]\n",
    "\n",
    "def outlier_tratment(df):\n",
    "    for i in df:\n",
    "        for j in df[i]:\n",
    "            Q1 = np.quantile(df[i], .25) \n",
    "            Q3 = np.quantile(df[i], .75) \n",
    "            Q2 = np.quantile(df[i], .50)\n",
    "        \n",
    "            IQR = Q3-Q1\n",
    "            lower = Q1 -(1.5 * IQR) \n",
    "            upper = Q3 +(1.5 * IQR)\n",
    "            \n",
    "            lower_outlier.append(lower)\n",
    "            \n",
    "            upper_outlier.append(upper)\n",
    "            \n",
    "            if j > upper or j < lower:\n",
    "                \n",
    "                df[i]=df[i].replace(j, np.median(df[i]))\n",
    "                \n",
    "    print(\"lower outlier are\",set(lower_outlier),\"\\n\")\n",
    "    print('Upper outlier are',set(upper_outlier))\n",
    "    \n",
    "    return df[i]"
   ]
  },
  {
   "cell_type": "code",
   "execution_count": 51,
   "id": "47b23794",
   "metadata": {},
   "outputs": [
    {
     "name": "stdout",
     "output_type": "stream",
     "text": [
      "lower outlier are {-0.60549125, -0.5993075000000001, -0.5755925, 0.0, 4.778499999999999, 4.785624999999998, 4.793499999999998, 5.008125000000001, 4.84675, 4.866999999999997, 4.904499999999999, 4.940874999999998, 4.954374999999999, 13.199999999999998, 5.02375, 6.149999999999999, 7.162499999999994, 8.237499999999997, 9.799999999999997, 10.049999999999992, 11.0, 12.012500000000001, 13.012499999999998, 14.200000000000001, 15.062500000000004, 16.000000000000004, 5.127375000000001, 18.05, 6.412499999999994, 6.599999999999994, 7.349999999999994, -3.12568625, 10.8125, 11.5625, 11.75, 384.2873291015624, 384.28749999983694, 14.5, 14.8125, 15.75, 16.0625, 16.5, 17.3125, 17.5, 17.75, 381.775, -0.1756925000000253, -0.3924162500000001, -0.34422875000000003, -0.28198625000000005, -0.22926875000000008, -0.176125625, -0.1756925000129081, -0.17569250000040343, -0.1756925000002018, -0.17569250000001263, -4.94884625, -3.28496375, -0.17569252643585215, -2.4414275000000005, 384.2874999999998, 15.250000000000002, -1.2933050000000001, -0.6755712499999998, -0.55556375, -0.95010875, -0.9111049999999999, -0.6286662500000001, -0.29171, -0.17569250000000636, 4.8054999999999986, 5.087875, 5.132375, 5.145624999999999, 7.199999999999992, 10.662499999999998, 10.849999999999998, 11.412499999999998, 384.28749999998985, 17.250000000000004, 344.10624999999993, 344.68124999999986, 345.44375, 347.8999999999999, 348.40000000000003, 348.79999999999995, 349.6312499999999, 349.84375, 349.89374999999995, 350.8687499999999, 350.98749999999995, 351.55625, 356.79374999999993, 351.9687499999999, 355.84374999999994, 350.20624999999995, 351.3499999999999, 353.30625, 354.1312499999999, 363.775, 363.90625, 363.9937499999999, 364.23749999999995, 364.76249999999993, 365.2937499999999, 365.98124999999993, 366.8625, 368.23124999999993, 372.87499999999994, 373.5625, 368.3125, 375.0125, 375.53124999999994, 377.23124999999993, 377.3124999999999, 377.41874999999993, 378.8749999999999, 379.35, 375.95, 376.8312499999999, 378.49999999999994, 378.59999999999985, 377.02499999999986, 379.14374999999995, 379.18124999999986, -0.17574664062500017, -0.1757060351562501, -0.17569419189453123, -0.17569250010326504, -0.17569250000000008, 4.88125, 4.8981249999999985, 4.9449999999999985, 5.06875, -1.5146262500000005, 383.8812499999999, -4.0079675, -4.717418750000001, 12.762499999999994, 384.2874999973924, -0.17569250000645403, -1.6241975, -0.78758, -0.66125375, -0.5719812500000001, -1.48951625, -1.0499675, -1.3564775000000002, -1.2729350000000001, -0.17569250020653016, 4.960625, 5.149374999999999, 10.699999999999996, 11.449999999999996, 384.2874973297117, 384.28749999999724, 5.134999999999999, 18.449999999999996, 18.512499999999996, 18.54999999999999, -3.35901125, -2.2693025000000002, -0.18960499999999997, -0.26343500000000003, -0.1774250000000001, -0.17571957031250002, -0.17569253021240233, -0.17569250005163245, -0.1756925000000506, 4.97875, 5.0725, 5.151874999999999, 7.0124999999999975, 7.7624999999999975, 8.799999999999992, -2.0649050000000004, 12.699999999999998, 384.287499989569, 13.949999999999998, -0.7041387499999999, -0.9943399999999999, -0.9728749999999998, -0.9330575, -0.7487524999999998, -0.726905, -0.24847625000000007, -0.1758007812500001, -0.17569271148681642, -3.3636087500000005, 4.871874999999999, 4.911624999999997, 4.929624999999998, 4.947624999999999, 5.1122499999999995, 383.5499999999999, 12.5125, 13.45, 5.124250000000001, -7.228750000000007, -3.9473337500000003, 381.89374999999995, -0.21042125000000006, 0.18650000000000005, -0.4397037500000001, -0.23075000000000007, -0.17569292297363287, -0.17569250660896302, -0.17569250082612037, -0.17569250000000164, -0.17569250000000075, 5.046249999999999, 6.112499999999995, 6.299999999999995, 6.862499999999995, 7.049999999999995, 7.612499999999995, 7.799999999999995, 383.79999999999995, 8.737499999999995, 10.299999999999995, 12.950000000000001, 384.28749983310695, 384.2874999999992, -2.53298375, 5.105125, -1.7831300000000003, -3.4681137500000006, -3.4396550000000006, -2.0270075000000003, -1.068635, -0.7728537499999999, -0.6512562499999999, -0.60388625, -1.10580875, -1.9282287500000002, -1.6005875, -0.50340125, -1.45751375, -1.6969512500000001, -0.17915750000000008, 382.64375, 382.95625, 5.081125, 8.549999999999997, 384.28681640625, 384.2874996662138, 384.2874999993481, 4.970624999999999, 18.200000000000003, -7.480000000000002, -0.17569250000161346, -1.8225125000000002, -0.29032625000000006, -0.46445375000000005, -0.45528125, -0.19858250000000005, -0.24326375000000006, -0.22710124999999998, -0.2394387500000001, -0.1759090625000001, -0.1756925528717041, -0.17569251321792606, 16.749999999999996, 4.891374999999998, -5.07462875, 8.049999999999999, 8.987499999999999, 9.299999999999999, 10.549999999999999, -2.5322000000000005, 11.112499999999999, 11.299999999999999, 12.262500000000005, 384.2874877929688, 384.2874946594237, 384.28749997913826, 384.2874999999593, 384.2874999999948, 13.200000000000005, -7.701249999999998, -7.131250000000005, 381.46874999999994, -0.59337125, -0.6101599999999999, -0.17569250000010095, -0.17569250165224076, -5.31051125, -5.135281250000001, 9.7375, -2.96653625, -2.744015, 384.28613281249994, 384.2874999986961, -2.1789425000000002, -7.915000000000001, -7.071250000000001, -0.17569250041306023, -0.2711900000000001, -0.4043187500000001, -0.34859, -0.32293625, -0.30613625000000005, -0.27720875000000006, -0.21913625000000003, -0.17655875000000015, -0.17569334594726566, -0.17569260574340834, 382.53125, 382.84375, -3.33370625, 4.825374999999999, 4.854249999999999, 4.895124999999998, 4.95875, 4.99, 5.08975, 381.6624999999999, 381.9437499999999, 383.75, 8.300000000000002, -4.4504375000000005, 9.550000000000002, 384.28741455078125, 384.2874999999185, -1.2005975, -0.6179112499999999, -1.9059650000000004, -1.56884, -1.6653275000000003, -1.02432125, 5.962499999999999, 5.040624999999999, 6.712499999999999, 6.899999999999999, 7.649999999999999, 384.2874999165534, 384.2874999999995, 16.812499999999993, 4.863999999999998, 5.151249999999998, -7.31875, -7.0375, -0.4117062500000001, -0.37395875000000006, -0.36571250000000005, -0.3298625000000001, -0.32094500000000004, -0.31587125, -0.30149750000000014, -0.30489125, -0.18262250000000008, -0.17569926757812498, 4.811124999999999, 4.9612500000000015, -0.17569250330448155, -2.4246124999999994, -2.418499999999999, -0.17569250000000308, 384.2874986648559, 384.2874999947845, 384.28749999999866, 345.80625, 345.95624999999995, 346.01249999999993, 346.28125, 347.1687499999999, -301.5, 347.4312499999999, 347.5, 347.61875000000003, 348.3375, 349.4687499999999, 354.36875, -0.18647000000000002, 355.1124999999999, -0.58290125, -0.7386387499999999, -0.52779125, -0.97873625, -0.9669837499999999, -0.86337875, -0.7996024999999999, -0.7345362499999998, -0.7157524999999999, 356.30625, 357.96875, 359.3875, 360.9375, 4.821999999999999, 4.886875, 361.9874999999999, 5.0624999999999964, 5.9999999999999964, 5.074375, 5.0923750000000005, 362.6875, 6.5624999999999964, 6.7499999999999964, 5.124874999999999, 363.00624999999997, 7.4999999999999964, 365.01874999999995, 366.51250000000005, 10.962500000000002, -2.426075, 367.28125000000006, 11.150000000000002, 11.712500000000002, 11.900000000000002, 368.58749999999986, 368.11875, 369.83749999999986, 369.33125000000007, 384.2874786376953, 384.2874999999796, 370.0937499999999, 370.25000000000006, 370.46875, 370.64374999999984, 14.562499999999996, 371.04374999999993, 371.54999999999984, 371.8062499999999, 15.499999999999996, 15.812499999999996, 372.44999999999993, -3.85890875, 372.5, 372.5999999999999, 372.79375000000005, 4.832874999999999, 4.981875, 372.2874999999999, 373.15625, 373.98124999999993, 374.3062499999999, -1.2514925, 17.062499999999996, -7.375000000000002, 375.65625, 375.41874999999993, 376.3062500000001, 376.7874999999999, 376.63749999999993, 377.7562499999999, 379.74375, 379.91874999999993, -0.17569250000000042, 379.9374999999999, 380.025, 380.35624999999993, 380.63124999999985, -1.8643962500000004, -1.9755500000000001, 380.86249999999995, 380.98124999999993, 381.18750000000006, -0.19567625000000005, -0.48368375, -0.3560900000000001, -0.28797125000000007, -0.1756958837890626, -0.17569250000322706, -0.17569250000080677, -0.1756925000000003, 382.09374999999994, 382.2874999999999, 382.375, 382.4374999999999, 383.01249999999993, 383.01874999999995, 383.04374999999993, 383.08749999999986, 383.24375000000003, 384.01249999999993, 384.06874999999985, 384.24375, 384.2656249999999, 384.28203124999993, 384.2847656250001, 5.0600000000000005, 5.08525, -3.0252612500000007, 384.28715820312505, 384.28749933242784, 384.2874999582766, 384.2874999996741, -3.67837625, -8.057500000000005, 5.096125, -28.54999999999999, -26.0, -0.17569250002581632, -18.75, -14.175, -8.020000000000001, -7.577499999999999, -5.2660212500000005, -4.14128, -3.2237225, -2.231915, -1.64025875} \n",
      "\n",
      "Upper outlier are {0.0, 0.5449137500000001, 2.9943325000000005, 3.3953950000000006, 4.792145, 5.99897625, 6.34941375, 6.8987325, 7.6361825, 8.99548875, 9.06963875, 8.777588750000001, 8.46686375, 8.67650125, 8.081151250000001, 7.12092, 7.705500000000001, 410.5875000000001, 410.0662500000001, 410.28375000000005, 410.4000000000001, 410.4900000000001, 411.3337500000001, 411.0300000000001, 24.4, 411.90375000000006, 412.9725000000001, 403.38750000000084, 28.812499999999996, 403.387501602173, 30.825000000000003, 31.25, 31.950000000000003, 31.200000000000003, 32.65, 32.4625, 32.900000000000006, 37.465, 32.712500000000006, 32.400000000000006, 33.9, 33.7125, 33.962500000000006, 34.2125, 414.0525, 36.962500000000006, 415.61625000000004, 415.4175, 415.5637500000001, 415.1025000000001, 417.39750000000004, 54.0, 418.32750000000004, 419.8837500000001, 2.95255125, 410.46000000000004, 3.5113700000000003, 423.4387500000001, 423.36750000000006, 423.1500000000001, 423.02625, 424.92, 424.68000000000006, 424.27875000000006, 424.1812500000001, 424.05375000000004, 425.5012500000001, 425.46000000000004, 425.38875, 425.2200000000001, 424.02375000000006, 426.69375, 426.47625000000005, 426.38625, 426.3525000000001, 7.405124999999999, 426.1912500000001, 24.8125, 25.75, 25.5625, 26.5, 26.3125, 27.75, 27.599999999999994, 27.0, 28.75, 28.3125, 28.162499999999994, 29.8125, 29.5, 29.0625, 4.0009575, 30.900000000000006, 30.75, 30.58125000000001, 5.81713875, 30.3125, 31.962500000000006, 31.162499999999994, 31.0, 31.6875, 31.5, 31.837500000000006, 32.25, 403.3875008010865, 7.536125, 7.415999999999999, 7.36425, 33.650000000000006, 33.462500000000006, 33.400000000000006, 33.150000000000006, 167.64999999999998, 34.900000000000006, 34.712500000000006, 34.462500000000006, 34.400000000000006, 34.150000000000006, 35.400000000000006, 35.212500000000006, 404.1337500000001, 2.9257824999999995, 2.7013137499999997, 5.69372625, 1.87602, 406.0087500000001, 0.84205125, 407.5087500000001, 0.7685575000000001, 0.7212825000000002, 407.9775000000001, 0.6033700000000001, 0.8865, 0.5231575, 0.5173825000000001, 0.5116082049560547, 0.5116075503540038, 5.5916575, 0.5116075001721083, 7.61675, 7.583000000000002, 1.840245, 1.1781074999999999, 7.520500000000002, 7.257375, 9.643925, 409.5712500000001, 0.5116076762390138, 403.38750040054333, 7.420875, 7.262249999999999, 24.849999999999998, 25.599999999999998, 407.8612500000001, 26.162499999999998, 1.44985125, 29.312500000000004, 403.8300000000001, 404.9625000000001, 405.99750000000006, 406.6350000000001, 407.5725000000001, 408.39000000000004, 409.3762500000001, 410.8762500000001, 411.81, 411.67875000000004, 412.8075000000001, 412.36125000000004, 412.0575000000001, 411.57375000000013, 413.59125, 413.08875, 414.7837500000001, 416.7675000000001, 416.3475000000001, 416.15625000000006, 415.69500000000005, 419.17875000000004, 420.8925000000001, 420.45375000000007, 420.1762500000001, 421.97625000000005, 421.48125000000005, 421.33875, 422.77875000000006, 423.83625000000006, 424.9575000000001, 425.6587500000001, 427.49625000000003, 427.1512500000001, 404.5350000000001, 404.4412500000001, 404.2537500000001, 0.5116075000000421, 7.309125000000001, 1.2176325000000001, 1.1902887500000001, 0.97758875, 1.9998449999999999, 1.22793875, 1.4430137499999998, 0.81227, 1.5514575, 0.5972887499999999, 1.53142, 1.20773875, 407.88750000000005, 1.02492625, 2.83352, 403.3875000031293, 408.5662500000001, 403.38791015625003, 403.38750020027175, 403.3875000003912, 7.574874999999999, 7.508625000000002, 7.478625000000001, 7.448625, 7.39575, 7.246625000000002, 404.37375000000003, 404.18625000000003, 7.356, 2.4795825000000002, 7.588000000000002, 3.2563075, 29.250000000000007, 30.731249999999996, 30.31875, 30.262499999999996, 5.260888750000001, 30.500000000000007, 31.725, 31.35, 403.41375000000005, 403.38750000000016, 0.5694887500000001, 32.1, 403.387705078125, 7.5592500000000005, 7.542375000000002, 7.327250000000001, 403.3875000001956, 0.5116075000107567, 1.39235125, 3.6602950000000005, 3.32611375, 30.0, 0.87281375, 0.79977, 0.7570137499999999, 0.68876375, 0.60090125, 0.52957, 0.5130512500000002, 0.5116089099121094, 0.5116075000026891, 0.5116075000003363, 2.374295, 0.5116075000000004, 413.84250000000003, 408.7087500000001, 403.38832031250007, 403.3875000007824, 7.685500000000001, 7.345375000000001, 7.3153749999999995, 7.244375000000002, 2.3046075, 9.820800000000002, 407.7450000000001, 7.639875000000001, 406.86000000000007, 2.06180125, 1.9687324999999998, 1.9259887500000001, 27.45, 28.0125, 0.5116131396484376, 413.0212500000001, 408.64125000000007, 403.389140625, 403.3875000250341, 1.1720887500000003, 403.3875000015646, 7.433249999999999, 7.240875000000001, 0.7925012499999999, 410.23500000000007, 0.5116075000000001, 0.62422625, 1.0984387500000001, 2.6479762499999997, 3.9386449999999997, 0.74523875, 1.4117075, 3.04703875, 1.50687625, 1.3447387499999999, 1.32087625, 1.24863875, 3.1906700000000003, 3.43250125, 0.5116075440597535, 408.17625, 403.387500050068, 403.38750000000033, 7.658000000000001, 7.549875, 0.5116075000006723, 1.7738825, 2.340345, 5.42826375, 7.253000000000001, 23.799999999999997, 24.700000000000003, 24.549999999999997, 25.299999999999997, 26.049999999999997, 2.8864324999999997, 5.7749637499999995, 403.38750320434576, 403.3875000062586, 6.65030125, 403.3875000000031, 32.1375, 7.676125000000001, 414.94875, 404.49750000000006, 0.5116075000053784, 1246.5, 0.58401375, 406.1137500000001, 0.70497, 0.6987387500000001, 0.5144950000000001, 0.5116075000013446, 0.5116075000000843, 0.5116075000000105, 1.2252637499999999, 403.38751281738286, 403.38750000001227, 0.5116075000000007, 7.459875, 7.322875, 7.260375, 9.6414875, 9.6313, 0.5116075000001682, 0.5116075003442169, 24.05, 0.657845, 30.418750000000006, 408.95250000000004, 5.951545000000001, 31.2375, 31.368749999999995, 403.38750010013587, 403.3875000000005, 7.434749999999999, 7.422749999999999, 407.3062500000001, 0.5116075055074691, 404.14875000000006, 0.5116526171875, 0.5116075000430271, 2.2197825, 1.23572, 403.3875000000017, 0.511607500000021, 0.753695, 7.294125, 7.334125, 0.9516262500000001, 1.80230125, 1.4667074999999998, 0.72901375, 1.2665637500000002, 0.8283075, 0.9049637500000001, 1.05778875, 0.512329375, 0.5116075110149383, 2.743163750000001, 4.2878325, 5.82480125, 403.3876025390626, 403.3875000000979, 0.5116187792968749, 7.433624999999999, 6.79767625, 409.8225, 7.319750000000001, 0.8926512500000001, 0.5116075000000012, 0.5116075027537346, 0.5116075000000051, 7.427625, 7.241250000000002, 0.5116075000215135, 23.65, 23.612500000000004, 23.550000000000004, 25.112500000000004, 27.9, 27.862500000000004, 403.3875000125171, 27.7125, 27.15, 5.163013749999999, 403.3875000000245, 31.9, 31.800000000000004, 31.050000000000004, 403.4006250000001, 403.39078125000003, 0.5116977343750002, 0.5116075013768673, 403.38750732421875, 7.730500000000001, 7.652375000000001, 1.1447262500000002, 7.604250000000002, 7.35075, 35.4625, 35.15, 404.15250000000003, 0.6707700000000001, 0.5116075006884336, 1.65775125, 0.5116075220298767, 0.6178512500000001, 0.63291375, 0.99287625, 0.70266375, 0.5497575, 407.62125000000003, 0.5119684375000001, 0.5117879687500001, 0.5116103198242187, 0.5116078524780273, 0.511607500086054, 0.5116075881195068, 403.5187500000001, 403.3875000000061, 7.437374999999999, 7.367625, 1.737295, 7.282250000000001, 7.261875, 404.01375, 0.5347949999999999, 1.3042137499999997, 0.72693875, 0.5116300585937501, 1.85001375, 1.83042625, 406.8000000000001, 24.962500000000002, 25.900000000000002, 25.712500000000002, 25.150000000000002, 0.68080125, 26.462500000000002, 28.499999999999996, 29.749999999999996, 4.44042625, 30.062499999999996, 403.3875512695313, 403.38750000004893, 30.562500000000004, 30.250000000000004, 7.718625000000001, 7.531125000000001, 7.453000000000001, 7.3485, 414.37125000000003, 0.5116075000000027, 404.1075000000001, 1.430295, 3.8503575000000003, 406.4737500000001, 406.4512500000001, 403.71000000000004, 403.68000000000006, 403.63125000000014, 403.5525000000001, 3.5971325000000003, 404.8950000000001, 404.82375, 404.79375000000005, 404.70375000000007, 404.5875000000001, 405.94500000000005, 405.74625000000003, 405.5812500000001, 405.4425000000001, 405.37125000000003, 406.35, 405.2475, 405.07875000000007}\n"
     ]
    }
   ],
   "source": [
    "df1=outlier_tratment(features)"
   ]
  },
  {
   "cell_type": "code",
   "execution_count": 52,
   "id": "40189c6c",
   "metadata": {},
   "outputs": [
    {
     "data": {
      "text/plain": [
       "0      24.0\n",
       "1      21.6\n",
       "2      21.2\n",
       "3      21.2\n",
       "4      21.2\n",
       "       ... \n",
       "501    22.4\n",
       "502    20.6\n",
       "503    21.2\n",
       "504    22.0\n",
       "505    21.2\n",
       "Name: PRICE, Length: 506, dtype: float64"
      ]
     },
     "execution_count": 52,
     "metadata": {},
     "output_type": "execute_result"
    }
   ],
   "source": [
    "df1"
   ]
  },
  {
   "cell_type": "code",
   "execution_count": 49,
   "id": "210470b7",
   "metadata": {},
   "outputs": [
    {
     "data": {
      "image/png": "[encoded data removed]",
      "text/plain": [
       "<Figure size 720x288 with 1 Axes>"
      ]
     },
     "metadata": {
      "needs_background": "light"
     },
     "output_type": "display_data"
    }
   ],
   "source": [
    "Box_plot(features[\"RM\"])"
   ]
  },
  {
   "cell_type": "code",
   "execution_count": 50,
   "id": "1a52df06",
   "metadata": {},
   "outputs": [
    {
     "data": {
      "image/png": "[encoded data removed]",
      "text/plain": [
       "<Figure size 720x288 with 1 Axes>"
      ]
     },
     "metadata": {
      "needs_background": "light"
     },
     "output_type": "display_data"
    }
   ],
   "source": [
    "hist_plots(features[\"RM\"])"
   ]
  },
  {
   "cell_type": "code",
   "execution_count": 16,
   "id": "a470d6e7",
   "metadata": {},
   "outputs": [],
   "source": [
    "lower_outlier_are =[-0.78758, -0.66125375, -0.6179112499999999, -0.7728537499999999, -0.6512562499999999, -0.60549125, -0.60388625, -0.5993075000000001, -0.5755925, -0.5719812500000001, 0.0, 4.778499999999999, 4.785624999999998, 4.793499999999998, 5.008125000000001, 13.199999999999998, 377.23124999999993, 372.87499999999994, 377.3124999999999, 377.41874999999993, 4.84675, 4.866999999999997, 4.904499999999999, 4.940874999999998, 4.954374999999999, 4.960625, -1.068635, 5.02375, 5.962499999999999, 6.149999999999999, 6.412499999999994, 6.599999999999994, 6.712499999999999, 6.899999999999999, 7.162499999999994, 7.349999999999994, 7.649999999999999, -5.2660212500000005, 378.8749999999999, -0.59337125, 8.237499999999997, -1.2005975, 8.549999999999997, 9.799999999999997, -3.2237225, -3.12568625, -2.231915, -1.64025875, 379.35, -0.6755712499999998, -0.55556375, -1.6241975, -1.48951625, -1.0499675, -3.4396550000000006, 4.863999999999998, 4.970624999999999, -8.020000000000001, -1.10580875, 375.0125, 375.53124999999994, 375.95, -7.577499999999999, -7.480000000000002, -7.31875, -0.29032625000000006, -1.9059650000000004, -4.14128, -1.56884, -3.35901125, 376.8312499999999, -2.2693025000000002, -0.46445375000000005, -0.45528125, -0.4117062500000001, -0.3924162500000001, -0.37395875000000006, -0.36571250000000005, -0.34422875000000003, -0.3298625000000001, -0.32094500000000004, -0.31587125, 4.811124999999999, 4.891374999999998, 4.9612500000000015, 4.97875, -0.7041387499999999, -1.9282287500000002, 7.0124999999999975, 7.7624999999999975, -5.07462875, 378.49999999999994, 378.59999999999985, 373.5625, 8.049999999999999, -4.94884625, -0.2711900000000001, 8.799999999999992, 8.987499999999999, 9.299999999999999, -3.28496375, 10.049999999999992, 10.549999999999999, -2.4414275000000005, -2.0649050000000004, -2.5322000000000005, -0.58290125, -2.4246124999999994, -2.418499999999999, -7.375000000000002, 356.79374999999993, 347.8999999999999, -301.5, -0.26343500000000003, -2.0270075000000003, 348.40000000000003, 348.79999999999995, -1.6005875, 349.6312499999999, 0.18650000000000005, 349.84375, 349.89374999999995, 375.65625, -0.50340125, 350.8687499999999, 350.98749999999995, -7.701249999999998, 351.55625, 351.9687499999999, -1.6653275000000003, 376.3062500000001, 376.7874999999999, -0.7386387499999999, -0.52779125, -1.2933050000000001, 355.84374999999994, -0.9943399999999999, -0.97873625, -0.9728749999999998, -0.9669837499999999, -0.95010875, -0.9330575, -0.9111049999999999, -0.86337875, -0.7996024999999999, -0.7345362499999998, -1.3564775000000002, -1.2729350000000001, 377.02499999999986, 377.7562499999999, 4.8054999999999986, 4.821999999999999, 4.871874999999999, 4.886875, 4.911624999999997, 4.929624999999998, -1.45751375, 4.947624999999999, 5.0624999999999964, 5.9999999999999964, 6.5624999999999964, 6.7499999999999964, 363.775, 363.90625, 363.9937499999999, 7.199999999999992, -5.31051125, 364.23749999999995, -0.6101599999999999, 364.76249999999993, 7.4999999999999964, 365.2937499999999, 365.98124999999993, 9.7375, 366.8625, -2.96653625, -2.426075, -0.7157524999999999, 368.23124999999993, 368.3125, 368.58749999999986, 379.14374999999995, 369.83749999999986, 379.18124999999986, -0.28198625000000005, 370.0937499999999, 370.25000000000006, 370.46875, 370.64374999999984, 371.04374999999993, 371.54999999999984, 371.8062499999999, 372.44999999999993, -3.85890875, 372.5, 372.5999999999999, 372.79375000000005, 4.832874999999999, -2.1789425000000002, 4.981875, 344.10624999999993, 344.68124999999986, 345.44375, -1.6969512500000001, -1.2514925, 345.80625, 345.95624999999995, 346.01249999999993, 346.28125, 347.1687499999999, 347.4312499999999, 347.5, 347.61875000000003, 348.3375, 349.4687499999999, 350.20624999999995, 351.3499999999999, 353.30625, 354.1312499999999, 354.36875, 355.1124999999999, 356.30625, 357.96875, 359.3875, 360.9375, -3.9473337500000003, 361.9874999999999, 362.6875, 363.00624999999997, -0.30149750000000014, 365.01874999999995, 366.51250000000005, 367.28125000000006, 368.11875, 369.33125000000007, -1.8643962500000004, -1.9755500000000001, 372.2874999999999, 373.15625, 374.3062499999999, -0.48368375, -0.4397037500000001, -0.4043187500000001, -0.3560900000000001, -0.34859, -0.32293625, -0.30613625000000005, -0.28797125000000007, -0.27720875000000006, -0.6286662500000001, -0.29171, -3.33370625, 4.825374999999999, 4.854249999999999, 4.88125, 4.895124999999998, -0.7487524999999998, -0.726905, -1.5146262500000005, 4.8981249999999985, -0.23075000000000007, 4.9449999999999985, 6.112499999999995, 6.299999999999995, 6.862499999999995, 7.049999999999995, -0.24326375000000006, 7.612499999999995, 7.799999999999995, 8.300000000000002, 373.98124999999993, 8.737499999999995, -4.0079675, -4.717418750000001, 9.550000000000002, -3.0252612500000007, 10.299999999999995, -0.30489125, -3.67837625, -2.53298375, 4.95875, 4.99, -0.24847625000000007, -1.7831300000000003, 375.41874999999993, -28.54999999999999, -0.2394387500000001, -26.0, -1.02432125, -18.75, -3.4681137500000006, -14.175, 376.63749999999993, -8.057500000000005, -7.915000000000001, -5.135281250000001, -4.4504375000000005, -3.3636087500000005, -2.744015, -1.8225125000000002] "
   ]
  },
  {
   "cell_type": "code",
   "execution_count": 17,
   "id": "326c6c1d",
   "metadata": {},
   "outputs": [
    {
     "data": {
      "text/plain": [
       "300"
      ]
     },
     "execution_count": 17,
     "metadata": {},
     "output_type": "execute_result"
    }
   ],
   "source": [
    "len(lower_outlier_are)"
   ]
  },
  {
   "cell_type": "code",
   "execution_count": 18,
   "id": "117397c0",
   "metadata": {},
   "outputs": [],
   "source": [
    "Upper_outlier_are=[0.97758875, 1.9998449999999999, 2.9943325000000005, 3.9386449999999997, 4.792145, 5.99897625, 6.34941375, 6.8987325, 7.6361825, 8.99548875, 9.06963875, 8.777588750000001, 8.46686375, 8.67650125, 8.081151250000001, 7.12092, 3.3953950000000006, 2.83352, 2.743163750000001, 410.8762500000001, 411.81, 4.2878325, 1.22793875, 411.67875000000004, 24.4, 412.8075000000001, 5.82480125, 412.36125000000004, 412.0575000000001, 411.57375000000013, 413.59125, 31.25, 0.0, 0.62422625, 413.08875, 414.7837500000001, 7.705500000000001, 37.465, 1.0984387500000001, 7.658000000000001, 7.574874999999999, 7.549875, 7.508625000000002, 2.6479762499999997, 7.478625000000001, 7.448625, 416.7675000000001, 416.3475000000001, 416.15625000000006, 415.69500000000005, 408.39000000000004, 31.950000000000003, 31.200000000000003, 1.80230125, 54.0, 419.17875000000004, 420.8925000000001, 420.45375000000007, 420.1762500000001, 1.7738825, 0.8926512500000001, 421.97625000000005, 421.48125000000005, 421.33875, 2.95255125, 2.4795825000000002, 2.340345, 422.77875000000006, 410.5875000000001, 3.5113700000000003, 423.83625000000006, 423.4387500000001, 423.36750000000006, 423.1500000000001, 423.02625, 1.4430137499999998, 424.9575000000001, 424.92, 424.68000000000006, 5.42826375, 425.6587500000001, 425.5012500000001, 425.46000000000004, 425.38875, 425.2200000000001, 32.65, 0.74523875, 32.4625, 7.588000000000002, 7.427625, 1.4117075, 7.405124999999999, 32.900000000000006, 32.712500000000006, 32.400000000000006, 3.04703875, 33.9, 33.7125, 1.4667074999999998, 31.2375, 7.536125, 407.5725000000001, 33.962500000000006, 33.650000000000006, 33.462500000000006, 33.400000000000006, 33.150000000000006, 2.8864324999999997, 410.0662500000001, 34.2125, 3.2563075, 0.81227, 4.0009575, 1.5514575, 30.825000000000003, 30.731249999999996, 30.900000000000006, 5.81713875, 5.7749637499999995, 5.260888750000001, 5.163013749999999, 31.962500000000006, 6.65030125, 31.9, 31.725, 31.162499999999994, 31.0, 7.730500000000001, 7.676125000000001, 1.50687625, 1.3447387499999999, 1.32087625, 1.24863875, 1.1447262500000002, 7.652375000000001, 7.604250000000002, 7.5592500000000005, 167.64999999999998, 424.27875000000006, 414.0525, 35.4625, 35.400000000000006, 409.3762500000001, 35.212500000000006, 35.15, 0.72901375, 36.962500000000006, 0.6178512500000001, 32.1, 0.6707700000000001, 1.39235125, 415.61625000000004, 415.4175, 2.9257824999999995, 2.7013137499999997, 32.1375, 407.5087500000001, 3.6602950000000005, 3.32611375, 1.53142, 1.20773875, 407.88750000000005, 5.69372625, 410.28375000000005, 1246.5, 1.87602, 1.65775125, 406.6350000000001, 406.35, 1.02492625, 3.1906700000000003, 0.9516262500000001, 30.75, 0.63291375, 0.99287625, 0.87281375, 0.84205125, 0.79977, 0.7685575000000001, 0.7570137499999999, 1.2252637499999999, 0.7212825000000002, 0.70497, 0.70266375, 407.9775000000001, 2.374295, 407.3062500000001, 31.6875, 31.5, 0.68876375, 5.5916575, 408.7087500000001, 31.837500000000006, 410.4000000000001, 7.685500000000001, 7.61675, 1.840245, 1.737295, 1.1781074999999999, 7.583000000000002, 7.520500000000002, 2.3046075, 7.459875, 7.437374999999999, 9.820800000000002, 9.643925, 9.6414875, 9.6313, 32.25, 409.5712500000001, 34.900000000000006, 31.368749999999995, 1.2665637500000002, 34.712500000000006, 34.462500000000006, 34.400000000000006, 34.150000000000006, 1.3042137499999997, 7.542375000000002, 415.5637500000001, 410.4900000000001, 407.7450000000001, 0.72693875, 408.17625, 7.639875000000001, 7.420875, 1.85001375, 1.83042625, 411.3337500000001, 411.0300000000001, 2.06180125, 31.800000000000004, 31.050000000000004, 0.68080125, 0.657845, 407.8612500000001, 7.39575, 1.44985125, 1.9687324999999998, 1.9259887500000001, 0.6033700000000001, 0.8865, 408.5662500000001, 4.44042625, 406.86000000000007, 413.0212500000001, 408.95250000000004, 409.8225, 5.951545000000001, 411.90375000000006, 412.9725000000001, 413.84250000000003, 414.94875, 6.79767625, 1.1720887500000003, 417.39750000000004, 418.32750000000004, 419.8837500000001, 7.718625000000001, 7.531125000000001, 7.453000000000001, 7.434749999999999, 7.433624999999999, 7.433249999999999, 7.422749999999999, 427.49625000000003, 427.1512500000001, 426.69375, 426.47625000000005, 426.38625, 3.43250125, 0.8283075, 426.3525000000001, 426.1912500000001, 424.1812500000001, 424.05375000000004, 424.02375000000006, 414.37125000000003, 7.415999999999999, 410.46000000000004, 0.7925012499999999, 1.430295, 415.1025000000001, 2.2197825, 410.23500000000007, 3.8503575000000003, 1.23572, 31.35, 408.64125000000007, 0.753695, 1.2176325000000001, 1.1902887500000001, 406.4737500000001, 0.6987387500000001, 406.4512500000001, 3.5971325000000003, 0.9049637500000001, 1.05778875, 406.8000000000001, 407.62125000000003]"
   ]
  },
  {
   "cell_type": "code",
   "execution_count": 19,
   "id": "8dba5cf8",
   "metadata": {},
   "outputs": [
    {
     "data": {
      "text/plain": [
       "300"
      ]
     },
     "execution_count": 19,
     "metadata": {},
     "output_type": "execute_result"
    }
   ],
   "source": [
    "len(Upper_outlier_are)"
   ]
  },
  {
   "cell_type": "code",
   "execution_count": 25,
   "id": "4497b297",
   "metadata": {},
   "outputs": [],
   "source": [
    "nums = {'num': [ 10,20,50,40,80,1000,900,950,100,50,500,120,15,160,200,300,25,240,300,290,45,5],\n",
    "        #'Roll No.': [ 0.06905,0.0,2.18,0.0,0.458,7.147,54.2,6.0622,3.0,222.0,18.7,396.90,5.33,36.2],\n",
    "       }"
   ]
  },
  {
   "cell_type": "code",
   "execution_count": 57,
   "id": "0c38e100",
   "metadata": {},
   "outputs": [
    {
     "data": {
      "text/html": [
       "<div>\n",
       "<style scoped>\n",
       "    .dataframe tbody tr th:only-of-type {\n",
       "        vertical-align: middle;\n",
       "    }\n",
       "\n",
       "    .dataframe tbody tr th {\n",
       "        vertical-align: top;\n",
       "    }\n",
       "\n",
       "    .dataframe thead th {\n",
       "        text-align: right;\n",
       "    }\n",
       "</style>\n",
       "<table border=\"1\" class=\"dataframe\">\n",
       "  <thead>\n",
       "    <tr style=\"text-align: right;\">\n",
       "      <th></th>\n",
       "      <th>num</th>\n",
       "    </tr>\n",
       "  </thead>\n",
       "  <tbody>\n",
       "    <tr>\n",
       "      <th>0</th>\n",
       "      <td>10</td>\n",
       "    </tr>\n",
       "    <tr>\n",
       "      <th>1</th>\n",
       "      <td>20</td>\n",
       "    </tr>\n",
       "    <tr>\n",
       "      <th>2</th>\n",
       "      <td>50</td>\n",
       "    </tr>\n",
       "    <tr>\n",
       "      <th>3</th>\n",
       "      <td>40</td>\n",
       "    </tr>\n",
       "    <tr>\n",
       "      <th>4</th>\n",
       "      <td>80</td>\n",
       "    </tr>\n",
       "    <tr>\n",
       "      <th>5</th>\n",
       "      <td>1000</td>\n",
       "    </tr>\n",
       "    <tr>\n",
       "      <th>6</th>\n",
       "      <td>900</td>\n",
       "    </tr>\n",
       "    <tr>\n",
       "      <th>7</th>\n",
       "      <td>950</td>\n",
       "    </tr>\n",
       "    <tr>\n",
       "      <th>8</th>\n",
       "      <td>100</td>\n",
       "    </tr>\n",
       "    <tr>\n",
       "      <th>9</th>\n",
       "      <td>50</td>\n",
       "    </tr>\n",
       "    <tr>\n",
       "      <th>10</th>\n",
       "      <td>500</td>\n",
       "    </tr>\n",
       "    <tr>\n",
       "      <th>11</th>\n",
       "      <td>120</td>\n",
       "    </tr>\n",
       "    <tr>\n",
       "      <th>12</th>\n",
       "      <td>15</td>\n",
       "    </tr>\n",
       "    <tr>\n",
       "      <th>13</th>\n",
       "      <td>160</td>\n",
       "    </tr>\n",
       "    <tr>\n",
       "      <th>14</th>\n",
       "      <td>200</td>\n",
       "    </tr>\n",
       "    <tr>\n",
       "      <th>15</th>\n",
       "      <td>300</td>\n",
       "    </tr>\n",
       "    <tr>\n",
       "      <th>16</th>\n",
       "      <td>25</td>\n",
       "    </tr>\n",
       "    <tr>\n",
       "      <th>17</th>\n",
       "      <td>240</td>\n",
       "    </tr>\n",
       "    <tr>\n",
       "      <th>18</th>\n",
       "      <td>300</td>\n",
       "    </tr>\n",
       "    <tr>\n",
       "      <th>19</th>\n",
       "      <td>290</td>\n",
       "    </tr>\n",
       "    <tr>\n",
       "      <th>20</th>\n",
       "      <td>45</td>\n",
       "    </tr>\n",
       "    <tr>\n",
       "      <th>21</th>\n",
       "      <td>5</td>\n",
       "    </tr>\n",
       "  </tbody>\n",
       "</table>\n",
       "</div>"
      ],
      "text/plain": [
       "     num\n",
       "0     10\n",
       "1     20\n",
       "2     50\n",
       "3     40\n",
       "4     80\n",
       "5   1000\n",
       "6    900\n",
       "7    950\n",
       "8    100\n",
       "9     50\n",
       "10   500\n",
       "11   120\n",
       "12    15\n",
       "13   160\n",
       "14   200\n",
       "15   300\n",
       "16    25\n",
       "17   240\n",
       "18   300\n",
       "19   290\n",
       "20    45\n",
       "21     5"
      ]
     },
     "execution_count": 57,
     "metadata": {},
     "output_type": "execute_result"
    }
   ],
   "source": [
    "df = pd.DataFrame(nums)\n",
    "  \n",
    "    \n",
    "df"
   ]
  },
  {
   "cell_type": "code",
   "execution_count": 58,
   "id": "78e9f267",
   "metadata": {},
   "outputs": [
    {
     "data": {
      "image/png": "[encoded data removed]",
      "text/plain": [
       "<Figure size 720x288 with 1 Axes>"
      ]
     },
     "metadata": {
      "needs_background": "light"
     },
     "output_type": "display_data"
    }
   ],
   "source": [
    "Box_plot(df[\"num\"])"
   ]
  },
  {
   "cell_type": "code",
   "execution_count": 59,
   "id": "e61bbb2d",
   "metadata": {},
   "outputs": [],
   "source": [
    "lower_outlier=[]\n",
    "upper_outlier=[]\n",
    "\n",
    "def outlier_tratment(df):\n",
    "    for i in df:\n",
    "        for j in df[i]:\n",
    "            Q1 = np.quantile(df[i], .25) \n",
    "            Q3 = np.quantile(df[i], .75) \n",
    "            Q2 = np.quantile(df[i], .50)\n",
    "        \n",
    "            IQR = Q3-Q1\n",
    "            lower = Q1 -(1.5 * IQR) \n",
    "            upper = Q3 +(1.5 * IQR)\n",
    "            \n",
    "            lower_outlier.append(lower)\n",
    "            \n",
    "            upper_outlier.append(upper)\n",
    "            \n",
    "            if j > upper or j < lower:\n",
    "                \n",
    "                df[i]=df[i].replace(j, np.median(df[i]))\n",
    "                \n",
    "    print(\"lower outlier are\",set(lower_outlier),\"\\n\")\n",
    "    print('Upper outlier are',set(upper_outlier))\n",
    "    return df[i]"
   ]
  },
  {
   "cell_type": "code",
   "execution_count": 60,
   "id": "6f8280dc",
   "metadata": {},
   "outputs": [
    {
     "name": "stdout",
     "output_type": "stream",
     "text": [
      "lower outlier are {-121.875, -313.125, -343.125, -181.875, -241.875} \n",
      "\n",
      "Upper outlier are {513.125, 681.875, 631.875, 313.125, 413.125}\n"
     ]
    }
   ],
   "source": [
    "df2=outlier_tratment(df)"
   ]
  },
  {
   "cell_type": "code",
   "execution_count": 61,
   "id": "5c657c00",
   "metadata": {},
   "outputs": [
    {
     "data": {
      "text/plain": [
       "0      10.00\n",
       "1      20.00\n",
       "2      50.00\n",
       "3      40.00\n",
       "4      80.00\n",
       "5     110.00\n",
       "6     105.00\n",
       "7     102.50\n",
       "8     100.00\n",
       "9      50.00\n",
       "10    101.25\n",
       "11    120.00\n",
       "12     15.00\n",
       "13    160.00\n",
       "14    200.00\n",
       "15    300.00\n",
       "16     25.00\n",
       "17    240.00\n",
       "18    300.00\n",
       "19    290.00\n",
       "20     45.00\n",
       "21      5.00\n",
       "Name: num, dtype: float64"
      ]
     },
     "execution_count": 61,
     "metadata": {},
     "output_type": "execute_result"
    }
   ],
   "source": [
    "df2"
   ]
  },
  {
   "cell_type": "code",
   "execution_count": 75,
   "id": "f7e5eabb",
   "metadata": {},
   "outputs": [
    {
     "data": {
      "text/html": [
       "<div>\n",
       "<style scoped>\n",
       "    .dataframe tbody tr th:only-of-type {\n",
       "        vertical-align: middle;\n",
       "    }\n",
       "\n",
       "    .dataframe tbody tr th {\n",
       "        vertical-align: top;\n",
       "    }\n",
       "\n",
       "    .dataframe thead th {\n",
       "        text-align: right;\n",
       "    }\n",
       "</style>\n",
       "<table border=\"1\" class=\"dataframe\">\n",
       "  <thead>\n",
       "    <tr style=\"text-align: right;\">\n",
       "      <th></th>\n",
       "      <th>1</th>\n",
       "      <th>2</th>\n",
       "      <th>3</th>\n",
       "      <th>4</th>\n",
       "      <th>5</th>\n",
       "      <th>6</th>\n",
       "      <th>7</th>\n",
       "      <th>8</th>\n",
       "      <th>9</th>\n",
       "      <th>10</th>\n",
       "      <th>...</th>\n",
       "      <th>12</th>\n",
       "      <th>13</th>\n",
       "      <th>14</th>\n",
       "      <th>15</th>\n",
       "      <th>16</th>\n",
       "      <th>17</th>\n",
       "      <th>18</th>\n",
       "      <th>19</th>\n",
       "      <th>20</th>\n",
       "      <th>21</th>\n",
       "    </tr>\n",
       "  </thead>\n",
       "  <tbody>\n",
       "    <tr>\n",
       "      <th>my_amazing_name_1</th>\n",
       "      <td>20.0</td>\n",
       "      <td>50.0</td>\n",
       "      <td>40.0</td>\n",
       "      <td>80.0</td>\n",
       "      <td>110.0</td>\n",
       "      <td>105.0</td>\n",
       "      <td>102.5</td>\n",
       "      <td>100.0</td>\n",
       "      <td>50.0</td>\n",
       "      <td>101.25</td>\n",
       "      <td>...</td>\n",
       "      <td>15.0</td>\n",
       "      <td>160.0</td>\n",
       "      <td>200.0</td>\n",
       "      <td>300.0</td>\n",
       "      <td>25.0</td>\n",
       "      <td>240.0</td>\n",
       "      <td>300.0</td>\n",
       "      <td>290.0</td>\n",
       "      <td>45.0</td>\n",
       "      <td>5.0</td>\n",
       "    </tr>\n",
       "  </tbody>\n",
       "</table>\n",
       "<p>1 rows × 21 columns</p>\n",
       "</div>"
      ],
      "text/plain": [
       "                     1     2     3     4      5      6      7      8     9   \\\n",
       "my_amazing_name_1  20.0  50.0  40.0  80.0  110.0  105.0  102.5  100.0  50.0   \n",
       "\n",
       "                       10  ...    12     13     14     15    16     17     18  \\\n",
       "my_amazing_name_1  101.25  ...  15.0  160.0  200.0  300.0  25.0  240.0  300.0   \n",
       "\n",
       "                      19    20   21  \n",
       "my_amazing_name_1  290.0  45.0  5.0  \n",
       "\n",
       "[1 rows x 21 columns]"
      ]
     },
     "execution_count": 75,
     "metadata": {},
     "output_type": "execute_result"
    }
   ],
   "source": [
    "df"
   ]
  },
  {
   "cell_type": "code",
   "execution_count": 72,
   "id": "428cd257",
   "metadata": {},
   "outputs": [
    {
     "data": {
      "text/html": [
       "<div>\n",
       "<style scoped>\n",
       "    .dataframe tbody tr th:only-of-type {\n",
       "        vertical-align: middle;\n",
       "    }\n",
       "\n",
       "    .dataframe tbody tr th {\n",
       "        vertical-align: top;\n",
       "    }\n",
       "\n",
       "    .dataframe thead th {\n",
       "        text-align: right;\n",
       "    }\n",
       "</style>\n",
       "<table border=\"1\" class=\"dataframe\">\n",
       "  <thead>\n",
       "    <tr style=\"text-align: right;\">\n",
       "      <th></th>\n",
       "      <th>1</th>\n",
       "      <th>2</th>\n",
       "      <th>3</th>\n",
       "      <th>4</th>\n",
       "      <th>5</th>\n",
       "      <th>6</th>\n",
       "      <th>7</th>\n",
       "      <th>8</th>\n",
       "      <th>9</th>\n",
       "      <th>10</th>\n",
       "      <th>...</th>\n",
       "      <th>12</th>\n",
       "      <th>13</th>\n",
       "      <th>14</th>\n",
       "      <th>15</th>\n",
       "      <th>16</th>\n",
       "      <th>17</th>\n",
       "      <th>18</th>\n",
       "      <th>19</th>\n",
       "      <th>20</th>\n",
       "      <th>21</th>\n",
       "    </tr>\n",
       "  </thead>\n",
       "  <tbody>\n",
       "    <tr>\n",
       "      <th>my_amazing_name_1</th>\n",
       "      <td>20.0</td>\n",
       "      <td>50.0</td>\n",
       "      <td>40.0</td>\n",
       "      <td>80.0</td>\n",
       "      <td>110.0</td>\n",
       "      <td>105.0</td>\n",
       "      <td>102.5</td>\n",
       "      <td>100.0</td>\n",
       "      <td>50.0</td>\n",
       "      <td>101.25</td>\n",
       "      <td>...</td>\n",
       "      <td>15.0</td>\n",
       "      <td>160.0</td>\n",
       "      <td>200.0</td>\n",
       "      <td>300.0</td>\n",
       "      <td>25.0</td>\n",
       "      <td>240.0</td>\n",
       "      <td>300.0</td>\n",
       "      <td>290.0</td>\n",
       "      <td>45.0</td>\n",
       "      <td>5.0</td>\n",
       "    </tr>\n",
       "  </tbody>\n",
       "</table>\n",
       "<p>1 rows × 21 columns</p>\n",
       "</div>"
      ],
      "text/plain": [
       "                     1     2     3     4      5      6      7      8     9   \\\n",
       "my_amazing_name_1  20.0  50.0  40.0  80.0  110.0  105.0  102.5  100.0  50.0   \n",
       "\n",
       "                       10  ...    12     13     14     15    16     17     18  \\\n",
       "my_amazing_name_1  101.25  ...  15.0  160.0  200.0  300.0  25.0  240.0  300.0   \n",
       "\n",
       "                      19    20   21  \n",
       "my_amazing_name_1  290.0  45.0  5.0  \n",
       "\n",
       "[1 rows x 21 columns]"
      ]
     },
     "execution_count": 72,
     "metadata": {},
     "output_type": "execute_result"
    }
   ],
   "source": [
    "df"
   ]
  },
  {
   "cell_type": "code",
   "execution_count": null,
   "id": "c90b3bc3",
   "metadata": {},
   "outputs": [],
   "source": []
  }
 ],
 "metadata": {
  "kernelspec": {
   "display_name": "Python 3 (ipykernel)",
   "language": "python",
   "name": "python3"
  },
  "language_info": {
   "codemirror_mode": {
    "name": "ipython",
    "version": 3
   },
   "file_extension": ".py",
   "mimetype": "text/x-python",
   "name": "python",
   "nbconvert_exporter": "python",
   "pygments_lexer": "ipython3",
   "version": "3.9.7"
  }
 },
 "nbformat": 4,
 "nbformat_minor": 5
}
